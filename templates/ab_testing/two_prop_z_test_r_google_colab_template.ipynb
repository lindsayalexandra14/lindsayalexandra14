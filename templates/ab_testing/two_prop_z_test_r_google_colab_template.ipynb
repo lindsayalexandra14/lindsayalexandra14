{
  "nbformat": 4,
  "nbformat_minor": 0,
  "metadata": {
    "colab": {
      "provenance": []
    },
    "kernelspec": {
      "name": "ir",
      "display_name": "R"
    },
    "language_info": {
      "name": "R"
    }
  },
  "cells": [
    {
      "cell_type": "markdown",
      "source": [
        "#Top"
      ],
      "metadata": {
        "id": "VEoj-VkkCfQK"
      }
    },
    {
      "cell_type": "markdown",
      "source": [
        "[![Open in GitHub](https://img.shields.io/badge/Open%20Folder%20in-GitHub-181717?logo=github&logoColor=white)](https://github.com/lindsayalexandra14/lindsayalexandra14/tree/main/templates/ab_testing)"
      ],
      "metadata": {
        "id": "XGYv8GnvBzR6"
      }
    },
    {
      "cell_type": "markdown",
      "source": [
        "[![Open In Colab](https://colab.research.google.com/assets/colab-badge.svg)](https://colab.research.google.com/drive/1snrYT_vN5-u8aqR6B2cAufMZHavFjpXp)"
      ],
      "metadata": {
        "id": "-mlchltjHZ84"
      }
    },
    {
      "cell_type": "markdown",
      "source": [
        "![Alt text](https://github.com/lindsayalexandra14/ds_portfolio/raw/main/2_images/templates/notebook/headers/beige/AB%20Testing%20Large%20Sample%20Size.png)"
      ],
      "metadata": {
        "id": "soTnQgfsyr3w"
      }
    },
    {
      "cell_type": "markdown",
      "source": [
        "**summary**\n",
        "*   This hypothetical experiment tests two Landing Pages (control vs. treatment)\n",
        "*   The sample size is 32,000 users\n",
        "*   I will use Z-Test for Two Proportions, which is good for large sample sizes\n",
        "*   I am trying to prove that the treatment performed better than the control because the team is interested in moving forward with the treatment\n",
        "*  It was established from the test that the treatment performed better with significance (at alpha=0.05). The practical significance is very small (cohen's h = 0.06). It did have the full desired statistical power (>80%)\n",
        "*  I will recommend moving forward with implementing the treatment\n",
        "\n",
        "**tl;dr for results**\n",
        "\n",
        "*   Skip to \"Results Summary\" at the end\n",
        "\n",
        "\n",
        "\n"
      ],
      "metadata": {
        "id": "-QsWDKinNrlW"
      }
    },
    {
      "cell_type": "markdown",
      "source": [
        "#Setup"
      ],
      "metadata": {
        "id": "FA1FQ2lOQ0Tn"
      }
    },
    {
      "cell_type": "markdown",
      "source": [
        "![Alt text](https://github.com/lindsayalexandra14/ds_portfolio/raw/main/2_images/templates/notebook/headers/beige/Setup.png)"
      ],
      "metadata": {
        "id": "WZnIt0KczlRU"
      }
    },
    {
      "cell_type": "markdown",
      "source": [
        "![Alt text](https://github.com/lindsayalexandra14/ds_portfolio/raw/main/2_images/templates/notebook/headers/beige/Install%20Packages.png)"
      ],
      "metadata": {
        "id": "0k0MkE2b6h61"
      }
    },
    {
      "cell_type": "code",
      "source": [
        "install.packages('pwr')\n",
        "install.packages('glue')"
      ],
      "metadata": {
        "id": "1CpP_a13yx6X",
        "colab": {
          "base_uri": "https://localhost:8080/"
        },
        "outputId": "9acd9149-a7ac-41f6-a1de-2a01a5561af8"
      },
      "execution_count": null,
      "outputs": [
        {
          "output_type": "stream",
          "name": "stderr",
          "text": [
            "Installing package into ‘/usr/local/lib/R/site-library’\n",
            "(as ‘lib’ is unspecified)\n",
            "\n",
            "Installing package into ‘/usr/local/lib/R/site-library’\n",
            "(as ‘lib’ is unspecified)\n",
            "\n"
          ]
        }
      ]
    },
    {
      "cell_type": "markdown",
      "source": [
        "##Import Libraries"
      ],
      "metadata": {
        "id": "HoHN_A4gXBgS"
      }
    },
    {
      "cell_type": "markdown",
      "source": [
        "![Alt text](https://github.com/lindsayalexandra14/ds_portfolio/raw/main/2_images/templates/notebook/headers/beige/Import%20Libraries.png)"
      ],
      "metadata": {
        "id": "yZvxPfaZ0Gq0"
      }
    },
    {
      "cell_type": "code",
      "source": [
        "library(pwr)\n",
        "library(glue)"
      ],
      "metadata": {
        "id": "6sa6eUa66ptJ"
      },
      "execution_count": null,
      "outputs": []
    },
    {
      "cell_type": "markdown",
      "source": [
        "#Test Design"
      ],
      "metadata": {
        "id": "DYvtqdRO0PwD"
      }
    },
    {
      "cell_type": "markdown",
      "source": [
        "![Alt text](https://github.com/lindsayalexandra14/ds_portfolio/raw/main/2_images/templates/notebook/headers/beige/Test%20Design.png)"
      ],
      "metadata": {
        "id": "Cw0Mx9NG0PKj"
      }
    },
    {
      "cell_type": "markdown",
      "source": [
        "##Parameters"
      ],
      "metadata": {
        "id": "a03pY0PVDNx6"
      }
    },
    {
      "cell_type": "code",
      "source": [
        "alpha <- 0.05            # Significance level\n",
        "power <- 0.80            # Statistical power (Probability of detecting an effect when it exists; 0.8 is standard)\n",
        "control=0.14             # Baseline rate\n",
        "effect <- 0.05           # Desired relative effect (e.g., 5% lift over baseline)\n",
        "mde <- control * effect   # Minimum Detectable Effect (MDE)\n",
        "  # Minimum difference you want to detect in absolute terms\n",
        "  # It is the absolute difference between the proportions\n",
        "  # e.g., 5% of a 16% baseline = 0.008. Or want 23% to go to 24% = 1% MDE\n",
        "treatment= control + mde  #Treatment rate (includes effect)\n",
        "print(paste('Control:',control))\n",
        "print(paste('Treatment:',treatment))"
      ],
      "metadata": {
        "colab": {
          "base_uri": "https://localhost:8080/"
        },
        "id": "aMR7MHXWDL8_",
        "outputId": "559a5bd1-436b-48c1-c7cb-7d0d719e815a"
      },
      "execution_count": null,
      "outputs": [
        {
          "output_type": "stream",
          "name": "stdout",
          "text": [
            "[1] \"Control: 0.14\"\n",
            "[1] \"Treatment: 0.147\"\n"
          ]
        }
      ]
    },
    {
      "cell_type": "code",
      "source": [
        "p_1=treatment\n",
        "p_2=control\n",
        "p1_label = \"Treatment\"\n",
        "p2_label = \"Control\"\n",
        "\n",
        "alternative = \"greater\" # in reference to p1:\n",
        "# p1 is \"greater\" than p2\n",
        "# p1 is \"less\" than p2\n",
        "# p1 is different from ()\"two.sided\" p2\n",
        "\n",
        "hypothesis <- switch(alternative,\n",
        "  greater = sprintf(\"%s (%.4f) is greater than %s (%.4f)\", p1_label, p_1, p2_label, p_2),\n",
        "  less = sprintf(\"%s (%.4f) is less than %s (%.4f)\", p1_label, p_1, p2_label, p_2),\n",
        "  two.sided = sprintf(\"%s (%.4f) is different from %s (%.4f)\", p1_label, p_1, p2_label, p_2),\n",
        ")\n",
        "\n",
        "cat(\"Hypothesis:\",hypothesis)\n"
      ],
      "metadata": {
        "colab": {
          "base_uri": "https://localhost:8080/"
        },
        "id": "cfAPtE1jEtCS",
        "outputId": "4ef51c26-4241-4ac1-bf8c-fe69e928f137"
      },
      "execution_count": null,
      "outputs": [
        {
          "output_type": "stream",
          "name": "stdout",
          "text": [
            "Hypothesis: Treatment (0.1470) is greater than Control (0.1400)"
          ]
        }
      ]
    },
    {
      "cell_type": "markdown",
      "source": [
        "##Effect size"
      ],
      "metadata": {
        "id": "OD6U-ny5XF6t"
      }
    },
    {
      "cell_type": "markdown",
      "source": [
        "![Alt text](https://github.com/lindsayalexandra14/ds_portfolio/raw/main/2_images/templates/notebook/headers/beige/Effect%20Size.png)"
      ],
      "metadata": {
        "id": "PdoyHO8I0TTa"
      }
    },
    {
      "cell_type": "code",
      "source": [
        "# Cohen's h (standardized effect size for proportions)\n",
        "\n",
        "effect_size = ES.h(treatment, control)\n",
        "\n",
        "cat(sprintf(\"Control = %.4f\\n\", control))\n",
        "cat(sprintf(\"Treatment= %.4f\\n\", treatment))\n",
        "cat(sprintf(\"Minimum Detectable Effect (MDE): %.3f\\n\", mde))\n",
        "cat(sprintf(\"Effect Size (Cohen's h): %.3f\\n\", effect_size))"
      ],
      "metadata": {
        "colab": {
          "base_uri": "https://localhost:8080/"
        },
        "id": "im2d8Sg08ZVn",
        "outputId": "8207664a-7ace-45ec-f186-287b7bb94baa"
      },
      "execution_count": null,
      "outputs": [
        {
          "output_type": "stream",
          "name": "stdout",
          "text": [
            "Control = 0.1400\n",
            "Treatment= 0.1470\n",
            "Minimum Detectable Effect (MDE): 0.007\n",
            "Effect Size (Cohen's h): 0.020\n"
          ]
        }
      ]
    },
    {
      "cell_type": "markdown",
      "source": [
        "Cohen's h benchmarks:\n",
        "\n",
        "0.2 = small effect\n",
        "\n",
        "0.5 = medium effect\n",
        "\n",
        "0.8 = large effect\n",
        "\n",
        "If the effect is tiny, it will require a very large sample size to detect."
      ],
      "metadata": {
        "id": "9OQDglquWROz"
      }
    },
    {
      "cell_type": "markdown",
      "source": [
        "*   Effect is translated into Cohen’s h\n",
        "*   It is a way to quantify how big the difference between two proportions is, on a standardized scale  \n",
        "*   Absolute differences (like +2%) are different on a baseline of 5% vs 50%\n",
        "*   Puts differences on a common scale, to compare effect sizes fairly across experiments\n",
        "*   Demonstrates practical meaning (vs. just statistical significance)"
      ],
      "metadata": {
        "id": "KnOrqBWDYovf"
      }
    },
    {
      "cell_type": "markdown",
      "source": [
        "##Sample Size"
      ],
      "metadata": {
        "id": "_f3S0i5mftm4"
      }
    },
    {
      "cell_type": "markdown",
      "source": [
        "![Alt text](https://github.com/lindsayalexandra14/ds_portfolio/raw/main/2_images/templates/notebook/headers/beige/Sample%20Size.png)"
      ],
      "metadata": {
        "id": "Gz9OoNJp0Wwu"
      }
    },
    {
      "cell_type": "markdown",
      "source": [
        "Calculate minimum sample size for each group (cell) for one-sided and two-sided tests:\n",
        "*   A one-sided test is used when you want to test if one group performs specifically better or worse than the other (a directional hypothesis).\n",
        "*   A two-sided test is used when you want to test if there is any difference between the groups, regardless of direction — whether one is better or worse."
      ],
      "metadata": {
        "id": "rXocQ1R7XqxQ"
      }
    },
    {
      "cell_type": "code",
      "source": [
        "# determine the minimum number of samples for each group\n",
        "\n",
        "# pwr.2p.test requires inputting the effect size\n",
        "result1 <- pwr.2p.test(h=effect_size, sig.level=alpha, power=power,alternative=alternative)\n",
        "\n",
        "result2 <- pwr.2p.test(h=effect_size, sig.level=alpha, power=power,alternative='two.sided')\n",
        "\n",
        "if (alternative == 'greater' | alternative == 'less') {\n",
        "  power_prop_alternative <- 'one.sided'\n",
        "} else {\n",
        "  power_prop_alternative <- 'two.sided'\n",
        "}\n",
        "\n",
        "# or power.prop.test requires inputting the second proportion\n",
        "result3 <- power.prop.test(p1=p_1,p2=p_2, sig.level=alpha, power=power,alternative=power_prop_alternative)\n",
        "\n",
        "result4 <- power.prop.test(p1=p_1,p2=p_2, sig.level=alpha, power=power,alternative='two.sided')"
      ],
      "metadata": {
        "id": "N_IYTv5d8oHx"
      },
      "execution_count": null,
      "outputs": []
    },
    {
      "cell_type": "code",
      "source": [
        "# Inputting effect\n",
        "cat(\"Inputting effect:\\n\")\n",
        "cat(paste(\"(alternative)\", alternative, \": n =\", round(result1$n)), \"\\n\")\n",
        "cat(paste(\"(alternative)\", 'two.sided', \": n =\", round(result2$n)), \"\\n\\n\")\n",
        "\n",
        "# Inputting proportion\n",
        "cat(\"Inputting proportion:\\n\")\n",
        "cat(paste(\"(alternative)\", alternative, \": n =\", round(result3$n)), \"\\n\")\n",
        "cat(paste(\"(alternative)\", 'two.sided', \": n =\", round(result4$n)), \"\\n\")\n"
      ],
      "metadata": {
        "colab": {
          "base_uri": "https://localhost:8080/"
        },
        "id": "t4QQzyw0_wGY",
        "outputId": "edf15bea-4a49-4854-d91e-482be101addd"
      },
      "execution_count": null,
      "outputs": [
        {
          "output_type": "stream",
          "name": "stdout",
          "text": [
            "Inputting effect:\n",
            "(alternative) greater : n = 31011 \n",
            "(alternative) two.sided : n = 39370 \n",
            "\n",
            "Inputting proportion:\n",
            "(alternative) greater : n = 31015 \n",
            "(alternative) two.sided : n = 39374 \n"
          ]
        }
      ]
    },
    {
      "cell_type": "markdown",
      "source": [
        "#Results"
      ],
      "metadata": {
        "id": "6Yf_ZR6kkDgj"
      }
    },
    {
      "cell_type": "markdown",
      "source": [
        "![Alt text](https://github.com/lindsayalexandra14/ds_portfolio/raw/main/2_images/templates/notebook/headers/beige/Results.png)"
      ],
      "metadata": {
        "id": "rIIlrX0z0bPQ"
      }
    },
    {
      "cell_type": "markdown",
      "source": [
        "##Data"
      ],
      "metadata": {
        "id": "YtIPKg6UbGC4"
      }
    },
    {
      "cell_type": "markdown",
      "source": [
        "![Alt text](https://github.com/lindsayalexandra14/ds_portfolio/raw/main/2_images/templates/notebook/headers/beige/Data.png)"
      ],
      "metadata": {
        "id": "rzYRmPhj0dOj"
      }
    },
    {
      "cell_type": "markdown",
      "source": [
        "###Import Data"
      ],
      "metadata": {
        "id": "pmp3911PRlHc"
      }
    },
    {
      "cell_type": "markdown",
      "source": [
        "![Alt text](https://github.com/lindsayalexandra14/ds_portfolio/raw/main/2_images/templates/notebook/headers/beige/Import%20Data.png)"
      ],
      "metadata": {
        "id": "1NVCSamQ0gWe"
      }
    },
    {
      "cell_type": "markdown",
      "source": [
        "From a dataset:"
      ],
      "metadata": {
        "id": "3onXfGSQRcVR"
      }
    },
    {
      "cell_type": "code",
      "source": [
        "#df_data="
      ],
      "metadata": {
        "id": "LlDAgiCPRg7X"
      },
      "execution_count": null,
      "outputs": []
    },
    {
      "cell_type": "markdown",
      "source": [
        "Manually input:"
      ],
      "metadata": {
        "id": "hkSyymUGReB-"
      }
    },
    {
      "cell_type": "code",
      "source": [
        "n_observations_control <- 32000\n",
        "n_observations_treatment <- 32050\n",
        "\n",
        "conversions_control <- 4300\n",
        "conversions_treatment <- 5000\n",
        "\n",
        "n1 <- n_observations_treatment\n",
        "n2 <- n_observations_control"
      ],
      "metadata": {
        "id": "EkpHlrkJzgpH"
      },
      "execution_count": null,
      "outputs": []
    },
    {
      "cell_type": "code",
      "source": [
        "print(p1_label) # set above in test design\n",
        "print(p2_label)"
      ],
      "metadata": {
        "colab": {
          "base_uri": "https://localhost:8080/"
        },
        "id": "OWB6rXsBejmT",
        "outputId": "124d8d87-ea26-4b31-f26c-d8f6f376c8be"
      },
      "execution_count": null,
      "outputs": [
        {
          "output_type": "stream",
          "name": "stdout",
          "text": [
            "[1] \"Treatment\"\n",
            "[1] \"Control\"\n"
          ]
        }
      ]
    },
    {
      "cell_type": "markdown",
      "source": [
        "##Conversion Rates:"
      ],
      "metadata": {
        "id": "Gbke0NJBR6Lb"
      }
    },
    {
      "cell_type": "markdown",
      "source": [
        "![Alt text](https://github.com/lindsayalexandra14/ds_portfolio/raw/main/2_images/templates/notebook/headers/beige/Conversion%20Rates.png)"
      ],
      "metadata": {
        "id": "oEjB47Gg0lz9"
      }
    },
    {
      "cell_type": "code",
      "source": [
        "conv_rate_control = (conversions_control / n_observations_control)\n",
        "conv_rate_treatment = (conversions_treatment / n_observations_treatment)\n",
        "\n",
        "p1=conv_rate_treatment #assign p1 vs. p2, test alternative references p1\n",
        "p2=conv_rate_control\n",
        "\n",
        "c1=conversions_treatment\n",
        "c2=conversions_control\n",
        "\n",
        "n1=n_observations_treatment\n",
        "n2=n_observations_control"
      ],
      "metadata": {
        "id": "01QqkFn6CxGM"
      },
      "execution_count": null,
      "outputs": []
    },
    {
      "cell_type": "code",
      "source": [
        "print(glue(\"Control Conversion Rate: {round(conv_rate_control * 100, 2)}%\"))\n",
        "print(glue(\"Treatment Conversion Rate: {round(conv_rate_treatment * 100, 2)}%\"))"
      ],
      "metadata": {
        "colab": {
          "base_uri": "https://localhost:8080/"
        },
        "id": "5-gDHgOdCmA0",
        "outputId": "62b3f2ba-d03a-4fb9-90b2-8d2e0fd97142"
      },
      "execution_count": null,
      "outputs": [
        {
          "output_type": "stream",
          "name": "stdout",
          "text": [
            "Control Conversion Rate: 13.44%\n",
            "Treatment Conversion Rate: 15.6%\n"
          ]
        }
      ]
    },
    {
      "cell_type": "markdown",
      "source": [
        "Check parameters and change if needed:"
      ],
      "metadata": {
        "id": "OAEzDSWPy3CP"
      }
    },
    {
      "cell_type": "code",
      "source": [
        "print(alternative)\n",
        "print(alpha)\n",
        "print(power)"
      ],
      "metadata": {
        "id": "wCi-KHDUynMm",
        "colab": {
          "base_uri": "https://localhost:8080/"
        },
        "outputId": "5f0e571e-2ca6-423d-fdd8-86e9579d83fc"
      },
      "execution_count": null,
      "outputs": [
        {
          "output_type": "stream",
          "name": "stdout",
          "text": [
            "[1] \"greater\"\n",
            "[1] 0.05\n",
            "[1] 0.8\n"
          ]
        }
      ]
    },
    {
      "cell_type": "code",
      "source": [
        "result_hypothesis <- switch(alternative,\n",
        "  greater = sprintf(\"%s (%.4f) is greater than %s (%.4f)\", p1_label, p1, p2_label, p2),\n",
        "  less = sprintf(\"%s (%.4f) is less than %s (%.4f)\", p1_label, p1, p2_label, p2),\n",
        "  two.sided = sprintf(\"%s (%.4f) is different from %s (%.4f)\", p1_label, p1, p2_label, p2),\n",
        ")\n",
        "\n",
        "cat(\"Result Hypothesis:\",result_hypothesis)"
      ],
      "metadata": {
        "colab": {
          "base_uri": "https://localhost:8080/"
        },
        "id": "C6e9LN92VML7",
        "outputId": "cdf1018a-4ef4-4825-f071-5b71065a1b49"
      },
      "execution_count": null,
      "outputs": [
        {
          "output_type": "stream",
          "name": "stdout",
          "text": [
            "Result Hypothesis: Treatment (0.1560) is greater than Control (0.1344)"
          ]
        }
      ]
    },
    {
      "cell_type": "markdown",
      "source": [
        "##Effect Size:"
      ],
      "metadata": {
        "id": "xrC71ypPR73P"
      }
    },
    {
      "cell_type": "markdown",
      "source": [
        "![Alt text](https://github.com/lindsayalexandra14/ds_portfolio/raw/main/2_images/templates/notebook/headers/beige/Effect%20Size.png)"
      ],
      "metadata": {
        "id": "FD2_7PAg0pJN"
      }
    },
    {
      "cell_type": "code",
      "source": [
        "# Uplift\n",
        "uplift = (p1 - p2) / p2\n",
        "\n",
        "# Absolute Difference\n",
        "abs_diff = abs(p1 - p2)\n",
        "\n",
        "# Cohen's h function\n",
        "proportion_effectsize <- function(p1, p2) {\n",
        "  2 * asin(sqrt(p1)) - 2 * asin(sqrt(p2))\n",
        "}\n",
        "\n",
        "h <- proportion_effectsize(p1, p2)\n",
        "\n",
        "# Interpret effect size\n",
        "interpret_h <- function(h) {\n",
        "  if (abs(h) < 0.2) return(\"negligible\")\n",
        "  if (abs(h) < 0.5) return(\"small\")\n",
        "  if (abs(h) < 0.8) return(\"medium\")\n",
        "  return(\"large\")\n",
        "}\n",
        "cat(sprintf(\"Absolute difference: %.3f (%.1f%%)\\n\", abs_diff, abs_diff * 100))\n",
        "print(glue(\"Uplift: {round(uplift * 100, 2)}%\"))\n",
        "cat(sprintf(\"Cohen's h: %.3f\\n\", h))\n",
        "cat(sprintf(\"Effect size interpretation: %s\\n\", interpret_h(h)))"
      ],
      "metadata": {
        "colab": {
          "base_uri": "https://localhost:8080/"
        },
        "id": "IAnGf75vDXyy",
        "outputId": "1efeab73-3cee-4419-ae9a-16bc54702612"
      },
      "execution_count": null,
      "outputs": [
        {
          "output_type": "stream",
          "name": "stdout",
          "text": [
            "Absolute difference: 0.022 (2.2%)\n",
            "Uplift: 16.1%\n",
            "Cohen's h: 0.061\n",
            "Effect size interpretation: negligible\n"
          ]
        }
      ]
    },
    {
      "cell_type": "markdown",
      "source": [
        "##z-Test"
      ],
      "metadata": {
        "id": "dBaKK3vekLGr"
      }
    },
    {
      "cell_type": "markdown",
      "source": [
        "![Alt text](https://github.com/lindsayalexandra14/ds_portfolio/raw/main/2_images/templates/notebook/headers/beige/ztest.png)"
      ],
      "metadata": {
        "id": "ksfkj-Xx0sYX"
      }
    },
    {
      "cell_type": "markdown",
      "source": [
        "Run test:"
      ],
      "metadata": {
        "id": "VWrT1q0Ylvn9"
      }
    },
    {
      "cell_type": "code",
      "source": [
        "x <- c(c1, c2)  # successes\n",
        "n <- c(n1, n2)  # totals\n",
        "\n",
        "# Run two-proportion test\n",
        "test_result <- prop.test(x = x, n = n, alternative = alternative, correct = FALSE)\n",
        "# correction not needed with large sample size\n",
        "print(test_result)"
      ],
      "metadata": {
        "id": "3hTVTPFh9MO6",
        "colab": {
          "base_uri": "https://localhost:8080/"
        },
        "outputId": "d4964cbb-2214-4da7-fd4f-82dddc87feac"
      },
      "execution_count": null,
      "outputs": [
        {
          "output_type": "stream",
          "name": "stdout",
          "text": [
            "\n",
            "\t2-sample test for equality of proportions without continuity correction\n",
            "\n",
            "data:  x out of n\n",
            "X-squared = 60.366, df = 1, p-value = 3.938e-15\n",
            "alternative hypothesis: greater\n",
            "95 percent confidence interval:\n",
            " 0.01705418 1.00000000\n",
            "sample estimates:\n",
            "   prop 1    prop 2 \n",
            "0.1560062 0.1343750 \n",
            "\n"
          ]
        }
      ]
    },
    {
      "cell_type": "markdown",
      "source": [
        "##P-value"
      ],
      "metadata": {
        "id": "5rVeo0h9x4LZ"
      }
    },
    {
      "cell_type": "markdown",
      "source": [
        "![Alt text](https://github.com/lindsayalexandra14/ds_portfolio/raw/main/2_images/templates/notebook/headers/beige/Pvalue.png)"
      ],
      "metadata": {
        "id": "I_FK4eC50bb3"
      }
    },
    {
      "cell_type": "code",
      "source": [
        "p_value <- test_result$p.value\n",
        "\n",
        "print(sprintf(\"p-value: %.4f\", p_value))\n",
        "\n",
        "pvalue_message <- if (p_value < alpha) {\n",
        "  sprintf(\"Because the p-value (%.3f) is less than alpha (%.3f), this result is statistically significant at the %.0f%% confidence level.\",\n",
        "          p_value, alpha, (1 - alpha) * 100)\n",
        "} else {\n",
        "  sprintf(\"Because the p-value (%.3f) is greater than or equal to alpha (%.3f), this result is not statistically significant at the %.0f%% confidence level.\",\n",
        "          p_value, alpha, (1 - alpha) * 100)\n",
        "}\n",
        "\n",
        "cat(strwrap(pvalue_message, width = 80), sep = \"\\n\")\n"
      ],
      "metadata": {
        "colab": {
          "base_uri": "https://localhost:8080/"
        },
        "id": "17Tmi2Oaxlm2",
        "outputId": "7096374e-0d30-42bc-fb32-279829c0d1a6"
      },
      "execution_count": null,
      "outputs": [
        {
          "output_type": "stream",
          "name": "stdout",
          "text": [
            "[1] \"p-value: 0.0000\"\n",
            "Because the p-value (0.000) is less than alpha (0.050), this result is\n",
            "statistically significant at the 95% confidence level.\n"
          ]
        }
      ]
    },
    {
      "cell_type": "markdown",
      "source": [
        "##Confidence Interval"
      ],
      "metadata": {
        "id": "xURzYJxZkOgn"
      }
    },
    {
      "cell_type": "markdown",
      "source": [
        "![Alt text](https://github.com/lindsayalexandra14/ds_portfolio/raw/main/2_images/templates/notebook/headers/beige/Confidence%20Interval.png)"
      ],
      "metadata": {
        "id": "TJZHsKT61At9"
      }
    },
    {
      "cell_type": "code",
      "source": [
        "conf_int <- test_result$conf.int\n",
        "\n",
        "print(paste((1-alpha)*100,\"%\"))\n",
        "print(paste(\"confidence interval: [\",conf_int[1],\",\",conf_int[2],']'))"
      ],
      "metadata": {
        "colab": {
          "base_uri": "https://localhost:8080/"
        },
        "id": "Rjsqg34mDTfq",
        "outputId": "6806c693-b026-45b6-c663-2910041d726c"
      },
      "execution_count": null,
      "outputs": [
        {
          "output_type": "stream",
          "name": "stdout",
          "text": [
            "[1] \"95 %\"\n",
            "[1] \"confidence interval: [ 0.0170541815700391 , 1 ]\"\n"
          ]
        }
      ]
    },
    {
      "cell_type": "markdown",
      "source": [
        "The range of values that the true difference in proportions (e.g., conversion rates) could plausibly fall within, given your sample data.\n",
        "\n",
        "You have a point estimate of the difference (e.g., p₁ - p₂)\n",
        "\n",
        "A range (e.g., [-0.012, 0.035]) where that true difference likely lies\n",
        "\n",
        "An associated confidence level (e.g., 95%) — meaning:\n",
        "\n",
        "If we repeated this experiment many times, 95% of the time the true difference would fall within this interval.\n",
        "\n",
        "If 0 is not in the confidence interval, the difference in proportions is statistically significant at the specified confidence level.\n",
        "\n",
        "This means there's evidence of a real difference between the two groups."
      ],
      "metadata": {
        "id": "Mbm3gydNF0Wy"
      }
    },
    {
      "cell_type": "markdown",
      "source": [
        "###Interpretation:"
      ],
      "metadata": {
        "id": "qWJrUaDMlzEC"
      }
    },
    {
      "cell_type": "code",
      "source": [
        "lower_ci <- conf_int[1]\n",
        "upper_ci <- conf_int[2]\n",
        "\n",
        "if (alternative == \"less\") {\n",
        "  if (upper_ci < 0) {\n",
        "    ci_message <- sprintf(\"Significant: %s converts LESS than %s (CI upper bound < 0) by %.2f%% points\", p1_label, p2_label, upper_ci * 100)\n",
        "  } else {\n",
        "    ci_message <- sprintf(\"Not significant: Cannot conclude %s < %s (CI includes 0 or more)\",p1_label,p2_label)\n",
        "  }\n",
        "} else if (alternative == \"greater\") {\n",
        "  if (lower_ci > 0) {\n",
        "    ci_message <- sprintf(\"Significant: %s converts MORE than %s (CI lower bound > 0) by %.2f%% points\", p1_label, p2_label, lower_ci * 100)\n",
        "  } else {\n",
        "    ci_message <- sprintf(\"Not significant: Cannot conclude %s > %s (CI includes 0 or less)\",p1_label,p2_label)\n",
        "  }\n",
        "} else {\n",
        "  if (lower_ci > 0 || upper_ci < 0) { #two.sided\n",
        "    ci_message <- \"Significant: Conversion rates are different (CI does not include 0)\\n\"\n",
        "  } else {\n",
        "    ci_message <- \"Not significant: No evidence of a difference (CI includes 0)\\n\"\n",
        "  }\n",
        "}\n",
        "\n",
        "wrapped_ci_message <- paste(strwrap(ci_message, width = 80), collapse = \"\\n\")\n",
        "cat(wrapped_ci_message, \"\\n\")"
      ],
      "metadata": {
        "colab": {
          "base_uri": "https://localhost:8080/"
        },
        "id": "l-g9OCb9QzPt",
        "outputId": "d9911e7e-04c1-4d19-94ad-a4143ed5cabb"
      },
      "execution_count": null,
      "outputs": [
        {
          "output_type": "stream",
          "name": "stdout",
          "text": [
            "Significant: Treatment converts MORE than Control (CI lower bound > 0) by 1.71%\n",
            "points \n"
          ]
        }
      ]
    },
    {
      "cell_type": "code",
      "source": [
        "includes_zero <- 0\n",
        "if (lower_ci <= 0 & upper_ci >= 0) {\n",
        "  includes_zero <- 1\n",
        "}\n",
        "\n",
        "confidence_level_percent <- (1 - alpha) * 100\n",
        "\n",
        "if (includes_zero == 1) {\n",
        "  significance_message <- paste(\n",
        "    \"Because the interval includes 0, this result is not statistically\",\n",
        "    \"significant at the confidence level of\", confidence_level_percent, \"%.\"\n",
        "  )\n",
        "} else {\n",
        "  significance_message <- paste(\n",
        "    \"Because the interval does not include 0, this result is statistically\",\n",
        "    \"significant at the confidence level of\", confidence_level_percent, \"%.\"\n",
        "  )\n",
        "}\n",
        "\n",
        "wrapped_significance_message <- paste(strwrap(significance_message, width = 80), collapse = \"\\n\")\n",
        "cat(wrapped_significance_message, \"\\n\")\n"
      ],
      "metadata": {
        "colab": {
          "base_uri": "https://localhost:8080/"
        },
        "id": "egKQts5PDE9n",
        "outputId": "7a012be5-8be0-4431-b515-84a85984ae91"
      },
      "execution_count": null,
      "outputs": [
        {
          "output_type": "stream",
          "name": "stdout",
          "text": [
            "Because the interval does not include 0, this result is statistically\n",
            "significant at the confidence level of 95 %. \n"
          ]
        }
      ]
    },
    {
      "cell_type": "markdown",
      "source": [
        "Confidence Interval of % conversion:"
      ],
      "metadata": {
        "id": "jJTZYBHmDJYD"
      }
    },
    {
      "cell_type": "code",
      "source": [
        "se_p1 <- sqrt(p1 * (1 - p1) / n1)\n",
        "lower_ci_p1 <- p1 - 1.96 * se_p1\n",
        "upper_ci_p1 <- p1 + 1.96 * se_p1\n",
        "\n",
        "cat(sprintf(\"%s 95%% CI: %.4f to %.4f\\n\",p1_label, lower_ci_p1, upper_ci_p1))\n",
        "\n",
        "se_p2 <- sqrt(p2 * (1 - p2) / n2)\n",
        "lower_ci_p2 <- p2 - 1.96 * se_p2\n",
        "upper_ci_p2 <- p2 + 1.96 * se_p2\n",
        "\n",
        "cat(sprintf(\"%s 95%% CI: %.4f to %.4f\\n\",p2_label, lower_ci_p2, upper_ci_p2))\n"
      ],
      "metadata": {
        "colab": {
          "base_uri": "https://localhost:8080/"
        },
        "id": "GHheITXoDLwb",
        "outputId": "69cbd055-4943-4d7f-f30b-5c45b0b637f4"
      },
      "execution_count": null,
      "outputs": [
        {
          "output_type": "stream",
          "name": "stdout",
          "text": [
            "Treatment 95% CI: 0.1520 to 0.1600\n",
            "Control 95% CI: 0.1306 to 0.1381\n"
          ]
        }
      ]
    },
    {
      "cell_type": "markdown",
      "source": [
        "If you repeated your experiment or data collection many times under the same conditions, then 95% of those calculated confidence intervals would contain the true population conversion rate"
      ],
      "metadata": {
        "id": "Bv984lqfDPlg"
      }
    },
    {
      "cell_type": "markdown",
      "source": [
        "##Statistical Power"
      ],
      "metadata": {
        "id": "NXa50cjNkZxK"
      }
    },
    {
      "cell_type": "markdown",
      "source": [
        "![Alt text](https://github.com/lindsayalexandra14/ds_portfolio/raw/main/2_images/templates/notebook/headers/beige/Statistical%20Power.png)"
      ],
      "metadata": {
        "id": "2rS0ARAb1E8y"
      }
    },
    {
      "cell_type": "code",
      "source": [
        "# # or we can use power.prop.test which requires inputting the second proportion\n",
        "# power_result <- power.prop.test(\n",
        "#   p1 = p_1,                # Proportion in group 1\n",
        "#   p2 = p_2,                # Proportion in group 2\n",
        "#   sig.level = alpha,       # Significance level (e.g., 0.05)\n",
        "#   n1 = n1,                # Sample size in group 1\n",
        "#   n2 = n2,                # Sample size in group 2\n",
        "#   alternative = power_prop_alternative  # \"two.sided\", \"one.sided\", or \"less\"/\"greater\"\n",
        "# )\n",
        "\n",
        "# print(power_result)\n",
        "\n",
        "# Effective sample size (harmonic mean for unequal n)\n",
        "n_effective <- (2 * n1 * n2) / (n1 + n2)\n",
        "\n",
        "# Calculate power\n",
        "power_result <- pwr.2p.test(h = h, n = n_effective, sig.level = alpha, alternative = alternative)\n",
        "print(power_result)\n"
      ],
      "metadata": {
        "colab": {
          "base_uri": "https://localhost:8080/"
        },
        "id": "Sx4QfMEOMRm0",
        "outputId": "be6f6816-b320-403d-9092-ded87fda405a"
      },
      "execution_count": null,
      "outputs": [
        {
          "output_type": "stream",
          "name": "stdout",
          "text": [
            "\n",
            "     Difference of proportion power calculation for binomial distribution (arcsine transformation) \n",
            "\n",
            "              h = 0.06144038\n",
            "              n = 32024.98\n",
            "      sig.level = 0.05\n",
            "          power = 1\n",
            "    alternative = greater\n",
            "\n",
            "NOTE: same sample sizes\n",
            "\n"
          ]
        }
      ]
    },
    {
      "cell_type": "code",
      "source": [
        "# Extract the power (as a proportion) and convert to percent\n",
        "power_pct <- round(power_result$power * 100, 1)\n",
        "\n",
        "if (power_result$power < 0.8) {\n",
        "  power_sentence <- sprintf(\n",
        "    \"Our test was underpowered (e.g., only ~%s%% power), meaning there was \\na higher chance we failed to detect a true difference due to limited sample size. \\nAs a result, we cannot be statistically \\nconfident in it without further data and cannot give a confident \\nestimate in incremental revenue from the test.\",\n",
        "    power_pct\n",
        "  )\n",
        "} else {\n",
        "  power_sentence <- sprintf(\n",
        "    \"Our test was adequately powered (e.g., ~%s%% power), meaning we had a \\nstrong chance of detecting a true difference if one existed.\",\n",
        "    power_pct\n",
        "  )\n",
        "}\n",
        "\n",
        "cat(\"Result Power:\", power_pct, \"%\\n\\n\")\n",
        "cat(power_sentence, \"\\n\")\n"
      ],
      "metadata": {
        "colab": {
          "base_uri": "https://localhost:8080/"
        },
        "id": "M0Re_JZo_hn4",
        "outputId": "cefa88ba-a3c8-4c69-886a-2a765d2ef12b"
      },
      "execution_count": null,
      "outputs": [
        {
          "output_type": "stream",
          "name": "stdout",
          "text": [
            "Result Power: 100 %\n",
            "\n",
            "Our test was adequately powered (e.g., ~100% power), meaning we had a \n",
            "strong chance of detecting a true difference if one existed. \n"
          ]
        }
      ]
    },
    {
      "cell_type": "markdown",
      "source": [
        "# Results Summary"
      ],
      "metadata": {
        "id": "8DTH8pW2XaVc"
      }
    },
    {
      "cell_type": "markdown",
      "source": [
        "![Alt text](https://github.com/lindsayalexandra14/ds_portfolio/raw/main/2_images/templates/notebook/headers/beige/Results%20Summary.png)"
      ],
      "metadata": {
        "id": "ckoivvmW1IAB"
      }
    },
    {
      "cell_type": "code",
      "source": [
        "print(glue(\"Control Conversion Rate: {round(conv_rate_control * 100, 2)}%\"))\n",
        "print(glue(\"Treatment Conversion Rate: {round(conv_rate_treatment * 100, 2)}%\"))\n",
        "print(paste(\"Result Hypothesis:\",result_hypothesis))\n",
        "cat(\"\\n\")\n",
        "cat(sprintf(\"Absolute difference: %.3f (%.1f%%)\\n\", abs_diff, abs_diff * 100))\n",
        "print(glue(\"Uplift: {round(uplift * 100, 2)}%\"))\n",
        "cat(sprintf(\"Cohen's h: %.3f\\n\", h))\n",
        "cat(sprintf(\"Effect size interpretation: %s\\n\", interpret_h(h)))\n",
        "print(test_result)\n",
        "print(sprintf(\"p-value: %.4f\", p_value))\n",
        "cat(strwrap(pvalue_message, width = 80), sep = \"\\n\")\n",
        "cat(\"\\n\")\n",
        "wrapped_ci_message <- paste(strwrap(ci_message, width = 80), collapse = \"\\n\")\n",
        "cat(wrapped_ci_message, \"\\n\")\n",
        "cat(\"\\n\")\n",
        "cat(wrapped_significance_message, \"\\n\")\n",
        "cat(\"\\n\")\n",
        "cat(sprintf(\"%s 95%% CI: %.4f to %.4f\\n\",p1_label, lower_ci_p1, upper_ci_p1))\n",
        "cat(sprintf(\"%s 95%% CI: %.4f to %.4f\\n\",p2_label, lower_ci_p2, upper_ci_p2))\n",
        "cat(\"\\n\")\n",
        "print(paste(\"confidence interval for diff: [\",conf_int[1],\",\",conf_int[2],']'))\n",
        "cat(\"\\n\")\n",
        "cat(\"Result Power:\", power_pct, \"%\\n\\n\")\n",
        "cat(power_sentence, \"\\n\")"
      ],
      "metadata": {
        "colab": {
          "base_uri": "https://localhost:8080/"
        },
        "id": "m4CZ39uqDudX",
        "outputId": "338cc278-7137-4aa2-fd79-cdab16d0e36a"
      },
      "execution_count": null,
      "outputs": [
        {
          "output_type": "stream",
          "name": "stdout",
          "text": [
            "Control Conversion Rate: 13.44%\n",
            "Treatment Conversion Rate: 15.6%\n",
            "[1] \"Result Hypothesis: Treatment (0.1560) is greater than Control (0.1344)\"\n",
            "\n",
            "Absolute difference: 0.022 (2.2%)\n",
            "Uplift: 16.1%\n",
            "Cohen's h: 0.061\n",
            "Effect size interpretation: negligible\n",
            "\n",
            "\t2-sample test for equality of proportions without continuity correction\n",
            "\n",
            "data:  x out of n\n",
            "X-squared = 60.366, df = 1, p-value = 3.938e-15\n",
            "alternative hypothesis: greater\n",
            "95 percent confidence interval:\n",
            " 0.01705418 1.00000000\n",
            "sample estimates:\n",
            "   prop 1    prop 2 \n",
            "0.1560062 0.1343750 \n",
            "\n",
            "[1] \"p-value: 0.0000\"\n",
            "Because the p-value (0.000) is less than alpha (0.050), this result is\n",
            "statistically significant at the 95% confidence level.\n",
            "\n",
            "Significant: Treatment converts MORE than Control (CI lower bound > 0) by 1.71%\n",
            "points \n",
            "\n",
            "Because the interval does not include 0, this result is statistically\n",
            "significant at the confidence level of 95 %. \n",
            "\n",
            "Treatment 95% CI: 0.1520 to 0.1600\n",
            "Control 95% CI: 0.1306 to 0.1381\n",
            "\n",
            "[1] \"confidence interval for diff: [ 0.0170541815700391 , 1 ]\"\n",
            "\n",
            "Result Power: 100 %\n",
            "\n",
            "Our test was adequately powered (e.g., ~100% power), meaning we had a \n",
            "strong chance of detecting a true difference if one existed. \n"
          ]
        }
      ]
    },
    {
      "cell_type": "markdown",
      "source": [
        "***performance:***.  \n",
        "With 95% confidence, the treatment has a higher conversion rate than the control by at least 1.71%+ points (based on the lower bound CI of 0.0171). This supports the hypothesis that treatment is better than control.\n",
        "\n",
        "***significance:***.  \n",
        "Because the p-value (0.000) is less than alpha (0.050), and the 95% confidence interval for the difference does not contain 0, this result is statistically significant at the 95% confidence level. The practical significance is low (cohen's h = 0.06) but the business impact is high based on domain knowledge.\n",
        "\n",
        "***power:***.  \n",
        "Our test was adequately powered (e.g., ~100% power vs. 80% desired), meaning we had a strong chance of detecting a true difference if one existed."
      ],
      "metadata": {
        "id": "ZMJwrzHIBXeU"
      }
    },
    {
      "cell_type": "markdown",
      "source": [
        "#Recommendation"
      ],
      "metadata": {
        "id": "mry4eiAhB5LZ"
      }
    },
    {
      "cell_type": "markdown",
      "source": [
        "![Alt text](https://github.com/lindsayalexandra14/ds_portfolio/raw/main/2_images/templates/notebook/headers/beige/Recommendation.png)"
      ],
      "metadata": {
        "id": "IguEqI7MB6T1"
      }
    },
    {
      "cell_type": "markdown",
      "source": [
        "Due to the significance, power, and high business impact, I will recommend moving forward with implementing the treatment"
      ],
      "metadata": {
        "id": "lfL6v7OLCA5C"
      }
    },
    {
      "cell_type": "code",
      "source": [
        "pkgs <- installed.packages()[, c(\"Package\", \"Version\")]\n",
        "lines <- paste(pkgs[, \"Package\"], pkgs[, \"Version\"], sep = \"==\")\n",
        "writeLines(lines, \"requirements_r.txt\")"
      ],
      "metadata": {
        "id": "zwo6iwt3f28J"
      },
      "execution_count": null,
      "outputs": []
    },
    {
      "cell_type": "code",
      "source": [
        "# Print to console\n",
        "cat(lines, sep = \"\\n\")"
      ],
      "metadata": {
        "colab": {
          "base_uri": "https://localhost:8080/"
        },
        "id": "gzbA9_lsgcn1",
        "outputId": "4ceb2ac9-f365-4263-8f68-37b79243973e"
      },
      "execution_count": null,
      "outputs": [
        {
          "output_type": "stream",
          "name": "stdout",
          "text": [
            "glue==1.8.0\n",
            "IRdisplay==1.1\n",
            "IRkernel==1.3.2\n",
            "pbdZMQ==0.3-14\n",
            "pwr==1.3-0\n",
            "repr==1.1.7\n",
            "askpass==1.2.1\n",
            "backports==1.5.0\n",
            "base64enc==0.1-3\n",
            "bit==4.6.0\n",
            "bit64==4.6.0-1\n",
            "blob==1.2.4\n",
            "boot==1.3-31\n",
            "brew==1.0-10\n",
            "brio==1.1.5\n",
            "broom==1.0.9\n",
            "bslib==0.9.0\n",
            "cachem==1.1.0\n",
            "callr==3.7.6\n",
            "cellranger==1.1.0\n",
            "class==7.3-23\n",
            "cli==3.6.5\n",
            "clipr==0.8.0\n",
            "cluster==2.1.8.1\n",
            "codetools==0.2-20\n",
            "commonmark==2.0.0\n",
            "conflicted==1.2.0\n",
            "cpp11==0.5.2\n",
            "crayon==1.5.3\n",
            "credentials==2.0.2\n",
            "curl==6.4.0\n",
            "data.table==1.17.8\n",
            "DBI==1.2.3\n",
            "dbplyr==2.5.0\n",
            "desc==1.4.3\n",
            "devtools==2.4.5\n",
            "diffobj==0.3.6\n",
            "digest==0.6.37\n",
            "downlit==0.4.4\n",
            "dplyr==1.1.4\n",
            "dtplyr==1.3.1\n",
            "ellipsis==0.3.2\n",
            "evaluate==1.0.4\n",
            "fansi==1.0.6\n",
            "farver==2.1.2\n",
            "fastmap==1.2.0\n",
            "fontawesome==0.5.3\n",
            "forcats==1.0.0\n",
            "foreign==0.8-90\n",
            "fs==1.6.6\n",
            "gargle==1.5.2\n",
            "generics==0.1.4\n",
            "gert==2.1.5\n",
            "ggplot2==3.5.2\n",
            "gh==1.5.0\n",
            "gitcreds==0.1.2\n",
            "glue==1.8.0\n",
            "googledrive==2.1.1\n",
            "googlesheets4==1.1.1\n",
            "gtable==0.3.6\n",
            "haven==2.5.5\n",
            "highr==0.11\n",
            "hms==1.1.3\n",
            "htmltools==0.5.8.1\n",
            "htmlwidgets==1.6.4\n",
            "httpuv==1.6.16\n",
            "httr==1.4.7\n",
            "httr2==1.2.1\n",
            "ids==1.0.1\n",
            "ini==0.3.1\n",
            "isoband==0.2.7\n",
            "jquerylib==0.1.4\n",
            "jsonlite==2.0.0\n",
            "KernSmooth==2.23-26\n",
            "knitr==1.50\n",
            "labeling==0.4.3\n",
            "later==1.4.2\n",
            "lattice==0.22-7\n",
            "lifecycle==1.0.4\n",
            "lubridate==1.9.4\n",
            "magrittr==2.0.3\n",
            "MASS==7.3-65\n",
            "Matrix==1.7-3\n",
            "memoise==2.0.1\n",
            "mgcv==1.9-3\n",
            "mime==0.13\n",
            "miniUI==0.1.2\n",
            "modelr==0.1.11\n",
            "nlme==3.1-168\n",
            "nnet==7.3-20\n",
            "openssl==2.3.3\n",
            "pillar==1.11.0\n",
            "pkgbuild==1.4.8\n",
            "pkgconfig==2.0.3\n",
            "pkgdown==2.1.3\n",
            "pkgload==1.4.0\n",
            "praise==1.0.0\n",
            "prettyunits==1.2.0\n",
            "processx==3.8.6\n",
            "profvis==0.4.0\n",
            "progress==1.2.3\n",
            "promises==1.3.3\n",
            "ps==1.9.1\n",
            "purrr==1.1.0\n",
            "R6==2.6.1\n",
            "ragg==1.4.0\n",
            "rappdirs==0.3.3\n",
            "rcmdcheck==1.4.0\n",
            "RColorBrewer==1.1-3\n",
            "Rcpp==1.1.0\n",
            "readr==2.1.5\n",
            "readxl==1.4.5\n",
            "rematch==2.0.0\n",
            "rematch2==2.1.2\n",
            "remotes==2.5.0\n",
            "reprex==2.1.1\n",
            "rlang==1.1.6\n",
            "rmarkdown==2.29\n",
            "roxygen2==7.3.2\n",
            "rpart==4.1.24\n",
            "rprojroot==2.1.0\n",
            "rstudioapi==0.17.1\n",
            "rversions==2.1.2\n",
            "rvest==1.0.4\n",
            "sass==0.4.10\n",
            "scales==1.4.0\n",
            "selectr==0.4-2\n",
            "sessioninfo==1.2.3\n",
            "shiny==1.11.1\n",
            "sourcetools==0.1.7-1\n",
            "spatial==7.3-18\n",
            "stringi==1.8.7\n",
            "stringr==1.5.1\n",
            "survival==3.8-3\n",
            "sys==3.4.3\n",
            "systemfonts==1.2.3\n",
            "testthat==3.2.3\n",
            "textshaping==1.0.1\n",
            "tibble==3.3.0\n",
            "tidyr==1.3.1\n",
            "tidyselect==1.2.1\n",
            "tidyverse==2.0.0\n",
            "timechange==0.3.0\n",
            "tinytex==0.57\n",
            "tzdb==0.5.0\n",
            "urlchecker==1.0.1\n",
            "usethis==3.1.0\n",
            "utf8==1.2.6\n",
            "uuid==1.2-1\n",
            "vctrs==0.6.5\n",
            "viridisLite==0.4.2\n",
            "vroom==1.6.5\n",
            "waldo==0.6.2\n",
            "whisker==0.4.1\n",
            "withr==3.0.2\n",
            "xfun==0.52\n",
            "xml2==1.3.8\n",
            "xopen==1.0.1\n",
            "xtable==1.8-4\n",
            "yaml==2.3.10\n",
            "zip==2.3.3\n",
            "base==4.5.1\n",
            "compiler==4.5.1\n",
            "datasets==4.5.1\n",
            "graphics==4.5.1\n",
            "grDevices==4.5.1\n",
            "grid==4.5.1\n",
            "methods==4.5.1\n",
            "parallel==4.5.1\n",
            "splines==4.5.1\n",
            "stats==4.5.1\n",
            "stats4==4.5.1\n",
            "tcltk==4.5.1\n",
            "tools==4.5.1\n",
            "utils==4.5.1\n"
          ]
        }
      ]
    },
    {
      "cell_type": "code",
      "source": [],
      "metadata": {
        "id": "b_mXX6aMgYjT"
      },
      "execution_count": null,
      "outputs": []
    }
  ]
}