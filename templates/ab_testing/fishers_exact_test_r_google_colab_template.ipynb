{
  "nbformat": 4,
  "nbformat_minor": 0,
  "metadata": {
    "colab": {
      "provenance": []
    },
    "kernelspec": {
      "name": "ir",
      "display_name": "R"
    },
    "language_info": {
      "name": "R"
    }
  },
  "cells": [
    {
      "cell_type": "markdown",
      "source": [
        "#Top"
      ],
      "metadata": {
        "id": "VEoj-VkkCfQK"
      }
    },
    {
      "cell_type": "markdown",
      "source": [
        "[![Open in GitHub](https://img.shields.io/badge/Open%20Folder%20in-GitHub-181717?logo=github&logoColor=white)](https://github.com/lindsayalexandra14/ds_portfolio/tree/main/1_projects/statistical_analysis/a_b_testing/fishers_exact_test)"
      ],
      "metadata": {
        "id": "XGYv8GnvBzR6"
      }
    },
    {
      "cell_type": "markdown",
      "source": [
        "[![Open In Colab](https://colab.research.google.com/assets/colab-badge.svg)](https://colab.research.google.com/drive/1LWFEoJVm84Q7L33JBShM4n1jbMwN9_yX#scrollTo=-mlchltjHZ84)"
      ],
      "metadata": {
        "id": "-mlchltjHZ84"
      }
    },
    {
      "cell_type": "markdown",
      "source": [
        "![Alt text](https://github.com/lindsayalexandra14/ds_portfolio/raw/main/2_images/templates/notebook/headers/lilac/AB%20Testing%20Small%20Sample%20Size.png)"
      ],
      "metadata": {
        "id": "soTnQgfsyr3w"
      }
    },
    {
      "cell_type": "markdown",
      "source": [
        "**summary**\n",
        "*   This hypothetical experiment tests two Landing Pages (control vs. treatment)\n",
        "*   The initial sample size is 30,000 users but the test gets cut short and our sample is cut to 305 users and I need to use Fisher's Exact Test for small sample sizes where a cell has < 10 users\n",
        "*   The landing page needs to be switched over sooner due to changed timelines, so the results give as much information as I will get about how the treatment performed\n",
        "*   I am trying to prove that the treatment performed better than the control because the team is interested in moving forward with the treatment\n",
        "*  It was established from the test that the treatment performed better with significance (at alpha=0.05). The practical significance is low (cohen's h = 0.02). It did not have the full desired statistical power (75% vs. 80%)\n",
        "*  In this case, given the constraints, I am comfortable enough with the treatment performing some level higher than the control with significance and not vice versa that I will recommend moving forward with implementing the treatment\n",
        "\n",
        "**tl;dr for results**\n",
        "\n",
        "*   Skip to \"Results Summary\" at the end\n",
        "\n",
        "\n",
        "\n"
      ],
      "metadata": {
        "id": "-QsWDKinNrlW"
      }
    },
    {
      "cell_type": "markdown",
      "source": [
        "![Alt text](https://github.com/lindsayalexandra14/ds_portfolio/raw/main/2_images/templates/notebook/headers/lilac/Fishers%20R.png)"
      ],
      "metadata": {
        "id": "R56clHT1y3dV"
      }
    },
    {
      "cell_type": "markdown",
      "source": [
        "#Setup"
      ],
      "metadata": {
        "id": "FA1FQ2lOQ0Tn"
      }
    },
    {
      "cell_type": "markdown",
      "source": [
        "![Alt text](https://github.com/lindsayalexandra14/ds_portfolio/raw/main/2_images/templates/notebook/headers/lilac/Setup.png)"
      ],
      "metadata": {
        "id": "WZnIt0KczlRU"
      }
    },
    {
      "cell_type": "markdown",
      "source": [
        "##Install packages"
      ],
      "metadata": {
        "id": "dPz06eJaQq7l"
      }
    },
    {
      "cell_type": "markdown",
      "source": [
        "![Alt text](https://github.com/lindsayalexandra14/ds_portfolio/raw/main/2_images/templates/notebook/headers/lilac/Install%20Packages.png)"
      ],
      "metadata": {
        "id": "D--s9ZBXzoTY"
      }
    },
    {
      "cell_type": "code",
      "source": [
        "install.packages(\"exact2x2\")\n",
        "install.packages(\"statmod\")"
      ],
      "metadata": {
        "id": "9zvP9XGiy0mY"
      },
      "execution_count": null,
      "outputs": []
    },
    {
      "cell_type": "markdown",
      "source": [
        "##Import Libraries"
      ],
      "metadata": {
        "id": "HoHN_A4gXBgS"
      }
    },
    {
      "cell_type": "markdown",
      "source": [
        "![Alt text](https://github.com/lindsayalexandra14/ds_portfolio/raw/main/2_images/templates/notebook/headers/lilac/Import%20Libraries.png)"
      ],
      "metadata": {
        "id": "yZvxPfaZ0Gq0"
      }
    },
    {
      "cell_type": "code",
      "source": [
        "library(exact2x2)\n",
        "library(statmod)\n",
        "library(glue)"
      ],
      "metadata": {
        "id": "1CpP_a13yx6X"
      },
      "execution_count": null,
      "outputs": []
    },
    {
      "cell_type": "markdown",
      "source": [
        "#Test Design"
      ],
      "metadata": {
        "id": "DYvtqdRO0PwD"
      }
    },
    {
      "cell_type": "markdown",
      "source": [
        "![Alt text](https://github.com/lindsayalexandra14/ds_portfolio/raw/main/2_images/templates/notebook/headers/lilac/Test%20Design.png)"
      ],
      "metadata": {
        "id": "Cw0Mx9NG0PKj"
      }
    },
    {
      "cell_type": "markdown",
      "source": [
        "##Parameters"
      ],
      "metadata": {
        "id": "a03pY0PVDNx6"
      }
    },
    {
      "cell_type": "code",
      "source": [
        "alpha <- 0.05             # Significance level\n",
        "power <- 0.80             # Statistical power (Probability of detecting an effect when it exists; 0.8 is standard)\n",
        "control=0.14              # Baseline rate\n",
        "effect <- 0.05            # Desired relative effect (e.g., 5% lift over baseline)\n",
        "mde <- control * effect   # Minimum Detectable Effect (MDE) # Minimum difference to detect in absolute terms\n",
        "treatment= control + mde  # Treatment rate (includes effect)\n",
        "print(paste('Control:',control))\n",
        "print(paste('Treatment:',treatment))"
      ],
      "metadata": {
        "colab": {
          "base_uri": "https://localhost:8080/"
        },
        "id": "aMR7MHXWDL8_",
        "outputId": "1d665b67-9916-474d-dfce-17a5af4657d9"
      },
      "execution_count": null,
      "outputs": [
        {
          "output_type": "stream",
          "name": "stdout",
          "text": [
            "[1] \"Control: 0.14\"\n",
            "[1] \"Treatment: 0.147\"\n"
          ]
        }
      ]
    },
    {
      "cell_type": "code",
      "source": [
        "p_1=treatment\n",
        "p_2=control\n",
        "p1_label = \"Treatment\"\n",
        "p2_label = \"Control\"\n",
        "\n",
        "alternative = \"greater\" # in reference to p1:\n",
        "# p1 is \"greater\" than p2\n",
        "# p1 is \"less\" than p2\n",
        "# p1 is different from ()\"two.sided\" p2\n",
        "\n",
        "hypothesis <- switch(alternative,\n",
        "  greater = sprintf(\"%s (%.4f) is greater than %s (%.4f)\", p1_label, p_1, p2_label, p_2),\n",
        "  less = sprintf(\"%s (%.4f) is less than %s (%.4f)\", p1_label, p_1, p2_label, p_2),\n",
        "  two.sided = sprintf(\"%s (%.4f) is different from %s (%.4f)\", p1_label, p_1, p2_label, p_2),\n",
        ")\n",
        "\n",
        "cat(\"Hypothesis:\",hypothesis)\n"
      ],
      "metadata": {
        "colab": {
          "base_uri": "https://localhost:8080/"
        },
        "id": "cfAPtE1jEtCS",
        "outputId": "9b398083-a313-4bc0-d60c-8e450f6ec5fb"
      },
      "execution_count": null,
      "outputs": [
        {
          "output_type": "stream",
          "name": "stdout",
          "text": [
            "Hypothesis: Treatment (0.1470) is greater than Control (0.1400)"
          ]
        }
      ]
    },
    {
      "cell_type": "markdown",
      "source": [
        "##Effect size"
      ],
      "metadata": {
        "id": "OD6U-ny5XF6t"
      }
    },
    {
      "cell_type": "markdown",
      "source": [
        "![Alt text](https://github.com/lindsayalexandra14/ds_portfolio/raw/main/2_images/templates/notebook/headers/lilac/Effect%20Size.png)"
      ],
      "metadata": {
        "id": "PdoyHO8I0TTa"
      }
    },
    {
      "cell_type": "code",
      "source": [
        "# Cohen's h (standardized effect size for proportions)\n",
        "proportion_effectsize <- function(treatment, control) {\n",
        "  2 * asin(sqrt(treatment)) - 2 * asin(sqrt(control))\n",
        "}\n",
        "effect_size <- proportion_effectsize(treatment, control)\n",
        "\n",
        "cat(sprintf(\"Control = %.4f\\n\", control))\n",
        "cat(sprintf(\"Treatment= %.4f\\n\", treatment))\n",
        "cat(sprintf(\"Minimum Detectable Effect (MDE): %.3f\\n\", mde))\n",
        "cat(sprintf(\"Effect Size (Cohen's h): %.3f\\n\", effect_size))"
      ],
      "metadata": {
        "colab": {
          "base_uri": "https://localhost:8080/"
        },
        "id": "uUuXpakhVeYG",
        "outputId": "cca26cb1-4c28-4832-9281-e8b93e71d8cc"
      },
      "execution_count": null,
      "outputs": [
        {
          "output_type": "stream",
          "name": "stdout",
          "text": [
            "Control = 0.1400\n",
            "Treatment= 0.1470\n",
            "Minimum Detectable Effect (MDE): 0.007\n",
            "Effect Size (Cohen's h): 0.020\n"
          ]
        }
      ]
    },
    {
      "cell_type": "markdown",
      "source": [
        "Cohen's h benchmarks:\n",
        "\n",
        "0.2 = small effect\n",
        "\n",
        "0.5 = medium effect\n",
        "\n",
        "0.8 = large effect\n",
        "\n",
        "If the effect is tiny, it will require a very large sample size to detect."
      ],
      "metadata": {
        "id": "9OQDglquWROz"
      }
    },
    {
      "cell_type": "markdown",
      "source": [
        "*   Effect is translated into Cohen’s h\n",
        "*   It is a way to quantify how big the difference between two proportions is, on a standardized scale  \n",
        "*   Absolute differences (like +2%) are different on a baseline of 5% vs 50%\n",
        "*   Puts differences on a common scale, to compare effect sizes fairly across experiments\n",
        "*   Demonstrates practical meaning (vs. just statistical significance)"
      ],
      "metadata": {
        "id": "KnOrqBWDYovf"
      }
    },
    {
      "cell_type": "markdown",
      "source": [
        "##Sample Size"
      ],
      "metadata": {
        "id": "_f3S0i5mftm4"
      }
    },
    {
      "cell_type": "markdown",
      "source": [
        "![Alt text](https://github.com/lindsayalexandra14/ds_portfolio/raw/main/2_images/templates/notebook/headers/lilac/Sample%20Size.png)"
      ],
      "metadata": {
        "id": "Gz9OoNJp0Wwu"
      }
    },
    {
      "cell_type": "markdown",
      "source": [
        "Calculate minimum sample size for each group (cell) for one-sided and two-sided tests:\n",
        "*   A one-sided test is used when you want to test if one group performs specifically better or worse than the other (a directional hypothesis).\n",
        "*   A two-sided test is used when you want to test if there is any difference between the groups, regardless of direction — whether one is better or worse."
      ],
      "metadata": {
        "id": "rXocQ1R7XqxQ"
      }
    },
    {
      "cell_type": "code",
      "source": [
        "simulate_fisher_power <- function(p1, p2, n1, n2, alpha, reps = 1000, alternative, seed=100) {\n",
        "  set.seed(seed)\n",
        "  rejects <- replicate(reps, {\n",
        "    x1 <- rbinom(1, n1, p1)\n",
        "    x2 <- rbinom(1, n2, p2)\n",
        "\n",
        "    # Creates contingency table, x1 is reference for hypothesis\n",
        "    tbl <- matrix(c(x1, n1 - x1, x2, n2 - x2), nrow = 2, byrow = TRUE)\n",
        "\n",
        "    fisher.test(tbl, alternative = alternative)$p.value < alpha\n",
        "  })\n",
        "\n",
        "  mean(rejects)\n",
        "}"
      ],
      "metadata": {
        "id": "lZSNLfojtR-v"
      },
      "execution_count": null,
      "outputs": []
    },
    {
      "cell_type": "markdown",
      "source": [
        "Option 1: Test out different #s manually to find optimal sample size to reach power:"
      ],
      "metadata": {
        "id": "5IZXCkybRMGR"
      }
    },
    {
      "cell_type": "code",
      "source": [
        "n_1 <- 30000   # input sample size for group 1\n",
        "n_2 <- 30000   # input sample size for group 2\n",
        "\n",
        "# Estimate Power at a Fixed Sample Size:\n",
        "estimated_power <- simulate_fisher_power(p1=p_1, p2=p_2, n_1, n_2, alpha=alpha, alternative = alternative)\n",
        "cat(sprintf(\"Power for manual estimate: %.3f\\n\", estimated_power))"
      ],
      "metadata": {
        "colab": {
          "base_uri": "https://localhost:8080/"
        },
        "id": "a-5-4NBTwJel",
        "outputId": "58cdd7de-ef16-47ea-ef02-0eab8f612d08"
      },
      "execution_count": null,
      "outputs": [
        {
          "output_type": "stream",
          "name": "stdout",
          "text": [
            "Power for manual estimate: 0.800\n"
          ]
        }
      ]
    },
    {
      "cell_type": "markdown",
      "source": [
        "Option 2: Use function to find the sample size with the selected power:"
      ],
      "metadata": {
        "id": "i115PyhZRG7j"
      }
    },
    {
      "cell_type": "code",
      "source": [
        "# Minimum Sample Size Finder\n",
        "find_min_sample_size <- function(p1, p2, alpha, power, max_n = 50000,\n",
        "                                 reps = 1000, alternative, step = 1000, seed=100) {\n",
        "  set.seed(seed)\n",
        "  for (n in seq(1000, max_n, by = step)) {\n",
        "    sim_power <- simulate_fisher_power(p1, p2, n1 = n, n2 = n,\n",
        "                                       alpha = alpha, reps = reps, alternative = alternative, seed=seed)\n",
        "    cat(sprintf(\"n = %d → power = %.3f\\n\", n, sim_power))\n",
        "    if (sim_power >= power) {\n",
        "      return(n)\n",
        "    }\n",
        "  }\n",
        "  return(NA)\n",
        "}\n",
        "\n",
        "set.seed(100)\n",
        "# Run the minimum sample size search\n",
        "cat(\"\\nSearching for minimum required sample size...\\n\")\n",
        "min_n <- find_min_sample_size(p1 = p_1, p2 = p_2, alpha = alpha, power = power, alternative = alternative)\n",
        "cat(sprintf(\"\\nMinimum sample size per group to achieve %.0f%% power: %d\\n\", power * 100, min_n))\n"
      ],
      "metadata": {
        "colab": {
          "base_uri": "https://localhost:8080/"
        },
        "id": "VlHDi2QRu-xV",
        "outputId": "a134f1ad-6ff1-46db-92d9-769b934d16fe"
      },
      "execution_count": null,
      "outputs": [
        {
          "output_type": "stream",
          "name": "stdout",
          "text": [
            "\n",
            "Searching for minimum required sample size...\n",
            "n = 1000 → power = 0.108\n",
            "n = 2000 → power = 0.165\n",
            "n = 3000 → power = 0.204\n",
            "n = 4000 → power = 0.196\n",
            "n = 5000 → power = 0.261\n",
            "n = 6000 → power = 0.285\n",
            "n = 7000 → power = 0.334\n",
            "n = 8000 → power = 0.346\n",
            "n = 9000 → power = 0.370\n",
            "n = 10000 → power = 0.416\n",
            "n = 11000 → power = 0.448\n",
            "n = 12000 → power = 0.444\n",
            "n = 13000 → power = 0.492\n",
            "n = 14000 → power = 0.506\n",
            "n = 15000 → power = 0.534\n",
            "n = 16000 → power = 0.574\n",
            "n = 17000 → power = 0.584\n",
            "n = 18000 → power = 0.606\n",
            "n = 19000 → power = 0.596\n",
            "n = 20000 → power = 0.616\n",
            "n = 21000 → power = 0.648\n",
            "n = 22000 → power = 0.653\n",
            "n = 23000 → power = 0.700\n",
            "n = 24000 → power = 0.716\n",
            "n = 25000 → power = 0.723\n",
            "n = 26000 → power = 0.731\n",
            "n = 27000 → power = 0.747\n",
            "n = 28000 → power = 0.780\n",
            "n = 29000 → power = 0.776\n",
            "n = 30000 → power = 0.800\n",
            "\n",
            "Minimum sample size per group to achieve 80% power: 30000\n"
          ]
        }
      ]
    },
    {
      "cell_type": "markdown",
      "source": [
        "#Results"
      ],
      "metadata": {
        "id": "6Yf_ZR6kkDgj"
      }
    },
    {
      "cell_type": "markdown",
      "source": [
        "![Alt text](https://github.com/lindsayalexandra14/ds_portfolio/raw/main/2_images/templates/notebook/headers/lilac/Results.png)"
      ],
      "metadata": {
        "id": "rIIlrX0z0bPQ"
      }
    },
    {
      "cell_type": "markdown",
      "source": [
        "##Data"
      ],
      "metadata": {
        "id": "YtIPKg6UbGC4"
      }
    },
    {
      "cell_type": "markdown",
      "source": [
        "![Alt text](https://github.com/lindsayalexandra14/ds_portfolio/raw/main/2_images/templates/notebook/headers/lilac/Data.png)"
      ],
      "metadata": {
        "id": "rzYRmPhj0dOj"
      }
    },
    {
      "cell_type": "markdown",
      "source": [
        "###Import Data"
      ],
      "metadata": {
        "id": "pmp3911PRlHc"
      }
    },
    {
      "cell_type": "markdown",
      "source": [
        "![Alt text](https://github.com/lindsayalexandra14/ds_portfolio/raw/main/2_images/templates/notebook/headers/lilac/Import%20Data.png)"
      ],
      "metadata": {
        "id": "1NVCSamQ0gWe"
      }
    },
    {
      "cell_type": "markdown",
      "source": [
        "From a dataset:"
      ],
      "metadata": {
        "id": "3onXfGSQRcVR"
      }
    },
    {
      "cell_type": "code",
      "source": [
        "#df_data="
      ],
      "metadata": {
        "id": "LlDAgiCPRg7X"
      },
      "execution_count": null,
      "outputs": []
    },
    {
      "cell_type": "markdown",
      "source": [
        "Manually input:"
      ],
      "metadata": {
        "id": "hkSyymUGReB-"
      }
    },
    {
      "cell_type": "code",
      "source": [
        "control_conversions=7\n",
        "treatment_conversions=18\n",
        "control_no_conversions=150\n",
        "treatment_no_conversions=130"
      ],
      "metadata": {
        "id": "EkpHlrkJzgpH"
      },
      "execution_count": null,
      "outputs": []
    },
    {
      "cell_type": "code",
      "source": [
        "print(p1_label) # set above in test design\n",
        "print(p2_label)"
      ],
      "metadata": {
        "colab": {
          "base_uri": "https://localhost:8080/"
        },
        "id": "OWB6rXsBejmT",
        "outputId": "f34137a9-fb86-457f-a468-0206cee3391f"
      },
      "execution_count": null,
      "outputs": [
        {
          "output_type": "stream",
          "name": "stdout",
          "text": [
            "[1] \"Treatment\"\n",
            "[1] \"Control\"\n"
          ]
        }
      ]
    },
    {
      "cell_type": "markdown",
      "source": [
        "##Contingency Table"
      ],
      "metadata": {
        "id": "j-QndXr9kIhb"
      }
    },
    {
      "cell_type": "markdown",
      "source": [
        "![Alt text](https://github.com/lindsayalexandra14/ds_portfolio/raw/main/2_images/templates/notebook/headers/lilac/Contingency%20Table.png)"
      ],
      "metadata": {
        "id": "W9TNkBwe0i_f"
      }
    },
    {
      "cell_type": "code",
      "source": [
        "table <- matrix(c(control_conversions, control_no_conversions, treatment_conversions, treatment_no_conversions), nrow = 2, byrow = TRUE)\n",
        "colnames(table) <- c(\"Converted\", \"Not_Converted\")\n",
        "rownames(table) <- c(\"Control\", \"Treatment\")\n",
        "print(table)"
      ],
      "metadata": {
        "colab": {
          "base_uri": "https://localhost:8080/"
        },
        "id": "6r9EjTLOzVCQ",
        "outputId": "6408911b-ac6e-45bc-f2de-3ef99f72d6a4"
      },
      "execution_count": null,
      "outputs": [
        {
          "output_type": "stream",
          "name": "stdout",
          "text": [
            "          Converted Not_Converted\n",
            "Control           7           150\n",
            "Treatment        18           130\n"
          ]
        }
      ]
    },
    {
      "cell_type": "code",
      "source": [
        "# Flip rows if p1_label is not in the first row\n",
        "if (rownames(table)[1] != p1_label) {\n",
        "  table_to_use <- table[c(2, 1), ]  # flip row order\n",
        "}\n",
        "\n",
        "# Print the final table\n",
        "print(table_to_use)"
      ],
      "metadata": {
        "colab": {
          "base_uri": "https://localhost:8080/"
        },
        "id": "tYwD-2tsfRFc",
        "outputId": "9338b541-3912-4fc0-aa39-b9283a129d3c"
      },
      "execution_count": null,
      "outputs": [
        {
          "output_type": "stream",
          "name": "stdout",
          "text": [
            "          Converted Not_Converted\n",
            "Treatment        18           130\n",
            "Control           7           150\n"
          ]
        }
      ]
    },
    {
      "cell_type": "markdown",
      "source": [
        "##Conversion Rates:"
      ],
      "metadata": {
        "id": "Gbke0NJBR6Lb"
      }
    },
    {
      "cell_type": "markdown",
      "source": [
        "![Alt text](https://github.com/lindsayalexandra14/ds_portfolio/raw/main/2_images/templates/notebook/headers/lilac/Conversion%20Rates.png)"
      ],
      "metadata": {
        "id": "oEjB47Gg0lz9"
      }
    },
    {
      "cell_type": "code",
      "source": [
        "n1 <- sum(table_to_use[1, ])           # Reference group (row 1)\n",
        "n2 <- sum(table_to_use[2, ])           # (row 2)\n",
        "\n",
        "p1 <- table_to_use[1, \"Converted\"] / n1   # Reference group (row 1) conversion rate\n",
        "p2 <- table_to_use[2, \"Converted\"] / n2   # (row 2) conversion rate\n",
        "\n",
        "groups <- c(p1 = p1_label, p2 = p2_label)\n",
        "\n",
        "print(glue(\"p1: \",\"{groups['p1']} Conversion Rate: {round(p1 * 100, 2)}%\"))\n",
        "print(glue(\"p2: \",\"{groups['p2']} Conversion Rate: {round(p2 * 100, 2)}%\"))\n"
      ],
      "metadata": {
        "id": "8fgZr4SGtJus",
        "colab": {
          "base_uri": "https://localhost:8080/"
        },
        "outputId": "e9148343-bdf2-42ef-adfa-4ddec525e008"
      },
      "execution_count": null,
      "outputs": [
        {
          "output_type": "stream",
          "name": "stdout",
          "text": [
            "p1: Treatment Conversion Rate: 12.16%\n",
            "p2: Control Conversion Rate: 4.46%\n"
          ]
        }
      ]
    },
    {
      "cell_type": "code",
      "source": [
        "result_hypothesis <- switch(alternative,\n",
        "  greater = sprintf(\"%s (%.4f) is greater than %s (%.4f)\", p1_label, p1, p2_label, p2),\n",
        "  less = sprintf(\"%s (%.4f) is less than %s (%.4f)\", p1_label, p1, p2_label, p2),\n",
        "  two.sided = sprintf(\"%s (%.4f) is different from %s (%.4f)\", p1_label, p1, p2_label, p2),\n",
        ")\n",
        "\n",
        "cat(\"Result Hypothesis:\",result_hypothesis)"
      ],
      "metadata": {
        "colab": {
          "base_uri": "https://localhost:8080/"
        },
        "id": "C6e9LN92VML7",
        "outputId": "e86686d8-cf0c-4e8b-b6ac-e01ac6aa99e9"
      },
      "execution_count": null,
      "outputs": [
        {
          "output_type": "stream",
          "name": "stdout",
          "text": [
            "Result Hypothesis: Treatment (0.1216) is greater than Control (0.0446)"
          ]
        }
      ]
    },
    {
      "cell_type": "markdown",
      "source": [
        "##Effect Size:"
      ],
      "metadata": {
        "id": "xrC71ypPR73P"
      }
    },
    {
      "cell_type": "markdown",
      "source": [
        "![Alt text](https://github.com/lindsayalexandra14/ds_portfolio/raw/main/2_images/templates/notebook/headers/lilac/Effect%20Size.png)"
      ],
      "metadata": {
        "id": "FD2_7PAg0pJN"
      }
    },
    {
      "cell_type": "code",
      "source": [
        "# Absolute Difference\n",
        "abs_diff <- abs(p1 - p2)\n",
        "\n",
        "# Cohen's h function\n",
        "proportion_effectsize <- function(control, treatment) {\n",
        "  2 * asin(sqrt(treatment)) - 2 * asin(sqrt(control))\n",
        "}\n",
        "\n",
        "h <- proportion_effectsize(control, treatment)\n",
        "\n",
        "cat(sprintf(\"Absolute difference: %.3f (%.1f%%)\\n\", abs_diff, abs_diff * 100))\n",
        "cat(sprintf(\"Cohen's h: %.3f\\n\", h))\n",
        "\n",
        "# Interpret effect size\n",
        "interpret_h <- function(h) {\n",
        "  if (abs(h) < 0.2) return(\"negligible\")\n",
        "  if (abs(h) < 0.5) return(\"small\")\n",
        "  if (abs(h) < 0.8) return(\"medium\")\n",
        "  return(\"large\")\n",
        "}\n",
        "cat(sprintf(\"Effect size interpretation: %s\\n\", interpret_h(h)))\n"
      ],
      "metadata": {
        "colab": {
          "base_uri": "https://localhost:8080/"
        },
        "id": "Zwz0J5R6A0fy",
        "outputId": "1d86b9e1-2c30-4714-8178-8ec9ce8de64f"
      },
      "execution_count": null,
      "outputs": [
        {
          "output_type": "stream",
          "name": "stdout",
          "text": [
            "Absolute difference: 0.077 (7.7%)\n",
            "Cohen's h: 0.020\n",
            "Effect size interpretation: negligible\n"
          ]
        }
      ]
    },
    {
      "cell_type": "markdown",
      "source": [
        "##Fisher's Exact Test"
      ],
      "metadata": {
        "id": "dBaKK3vekLGr"
      }
    },
    {
      "cell_type": "markdown",
      "source": [
        "![Alt text](https://github.com/lindsayalexandra14/ds_portfolio/raw/main/2_images/templates/notebook/headers/lilac/Fishers%20Exact%20Test.png)"
      ],
      "metadata": {
        "id": "ksfkj-Xx0sYX"
      }
    },
    {
      "cell_type": "markdown",
      "source": [
        "Use Fisher's Exact Test since a cell (control converted) has < 10 users:"
      ],
      "metadata": {
        "id": "ctEwi9eCUp4G"
      }
    },
    {
      "cell_type": "code",
      "source": [
        "print(table_to_use)"
      ],
      "metadata": {
        "colab": {
          "base_uri": "https://localhost:8080/"
        },
        "id": "MRVQt8l6z5rK",
        "outputId": "6b1c0dd2-e153-4115-eea8-7e367f1e7d04"
      },
      "execution_count": null,
      "outputs": [
        {
          "output_type": "stream",
          "name": "stdout",
          "text": [
            "          Converted Not_Converted\n",
            "Treatment        18           130\n",
            "Control           7           150\n"
          ]
        }
      ]
    },
    {
      "cell_type": "markdown",
      "source": [
        "Check parameters and change if needed:"
      ],
      "metadata": {
        "id": "OAEzDSWPy3CP"
      }
    },
    {
      "cell_type": "code",
      "source": [
        "print(alternative)\n",
        "print(alpha)\n",
        "print(power)\n",
        "# alternative=\"greater\" # Row 1 (reference) of Contingency Table is greater than Row 2\n",
        "# alpha=0.05\n",
        "# power=0.8"
      ],
      "metadata": {
        "id": "wCi-KHDUynMm",
        "colab": {
          "base_uri": "https://localhost:8080/"
        },
        "outputId": "cbaf4774-357e-4560-ef2e-1a132bbd0970"
      },
      "execution_count": null,
      "outputs": [
        {
          "output_type": "stream",
          "name": "stdout",
          "text": [
            "[1] \"greater\"\n",
            "[1] 0.05\n",
            "[1] 0.8\n"
          ]
        }
      ]
    },
    {
      "cell_type": "markdown",
      "source": [
        "Run test:"
      ],
      "metadata": {
        "id": "VWrT1q0Ylvn9"
      }
    },
    {
      "cell_type": "code",
      "source": [
        "library(exact2x2)\n",
        "result <-  exact2x2(table_to_use, alternative = alternative, conf.level = 1 - alpha, tsmethod=\"central\")\n",
        "print(result)\n",
        "\n",
        "# ALTERNATIVE:\n",
        "# If you don't need CI, can do this test:\n",
        "# One side of CI not valid in one-sided tests for fisher's\n",
        "# result <- fisher.test(table, alternative = alternative, conf.level = 1-alpha)\n",
        "# print(result)"
      ],
      "metadata": {
        "colab": {
          "base_uri": "https://localhost:8080/"
        },
        "id": "oOpXG8bZ2Apr",
        "outputId": "003b4177-cf5b-4fcc-e6eb-68a709634c76"
      },
      "execution_count": null,
      "outputs": [
        {
          "output_type": "stream",
          "name": "stdout",
          "text": [
            "\n",
            "\tOne-sided Fisher's Exact Test\n",
            "\n",
            "data:  table_to_use\n",
            "p-value = 0.01186\n",
            "alternative hypothesis: true odds ratio is greater than 1\n",
            "95 percent confidence interval:\n",
            " 1.294771      Inf\n",
            "sample estimates:\n",
            "odds ratio \n",
            "  2.956901 \n",
            "\n"
          ]
        }
      ]
    },
    {
      "cell_type": "markdown",
      "source": [
        "#P-value"
      ],
      "metadata": {
        "id": "5rVeo0h9x4LZ"
      }
    },
    {
      "cell_type": "markdown",
      "source": [
        "![Alt text](https://github.com/lindsayalexandra14/ds_portfolio/raw/main/2_images/templates/notebook/headers/lilac/Pvalue.png)"
      ],
      "metadata": {
        "id": "I_FK4eC50bb3"
      }
    },
    {
      "cell_type": "code",
      "source": [
        "# Extract p-value from result\n",
        "p_value <- result$p.value\n",
        "\n",
        "print(paste(\"p-value: \",round(p_value,3)))\n",
        "\n",
        "pvalue_message <- if (p_value < alpha) {\n",
        "  sprintf(\"Because the p-value (%.3f) is less than alpha (%.3f), this result is statistically significant at the %.0f%% confidence level.\",\n",
        "          p_value, alpha, (1 - alpha) * 100)\n",
        "} else {\n",
        "  sprintf(\"Because the p-value (%.3f) is greater than or equal to alpha (%.3f), this result is not statistically significant at the %.0f%% confidence level.\",\n",
        "          p_value, alpha, (1 - alpha) * 100)\n",
        "}\n",
        "\n",
        "cat(strwrap(pvalue_message, width = 80), sep = \"\\n\")\n"
      ],
      "metadata": {
        "colab": {
          "base_uri": "https://localhost:8080/"
        },
        "id": "17Tmi2Oaxlm2",
        "outputId": "d4128673-0e2f-492f-98cc-e562b12bcbd7"
      },
      "execution_count": null,
      "outputs": [
        {
          "output_type": "stream",
          "name": "stdout",
          "text": [
            "[1] \"p-value:  0.012\"\n",
            "Because the p-value (0.012) is less than alpha (0.050), this result is\n",
            "statistically significant at the 95% confidence level.\n"
          ]
        }
      ]
    },
    {
      "cell_type": "markdown",
      "source": [
        "###If one-sided test:"
      ],
      "metadata": {
        "id": "PYulGMsklQw6"
      }
    },
    {
      "cell_type": "markdown",
      "source": [
        "##Confidence Interval"
      ],
      "metadata": {
        "id": "xURzYJxZkOgn"
      }
    },
    {
      "cell_type": "markdown",
      "source": [
        "![Alt text](https://github.com/lindsayalexandra14/ds_portfolio/raw/main/2_images/templates/notebook/headers/lilac/Confidence%20Interval.png)"
      ],
      "metadata": {
        "id": "TJZHsKT61At9"
      }
    },
    {
      "cell_type": "markdown",
      "source": [
        "###\"Less\" Hypothesis:"
      ],
      "metadata": {
        "id": "LgWwj6V_lInL"
      }
    },
    {
      "cell_type": "markdown",
      "source": [
        "The upper bound of the CI is what you want to look at for \"less\" — it should be < 1 for significance."
      ],
      "metadata": {
        "id": "6QkRTgl70Pon"
      }
    },
    {
      "cell_type": "markdown",
      "source": [
        "For a \"less\" alternative (testing if Group B < Group A):"
      ],
      "metadata": {
        "id": "PDqO1PRun4uY"
      }
    },
    {
      "cell_type": "markdown",
      "source": [
        "\n",
        "If the upper bound < 1:\n",
        "You are confident the odds in Group B are lower than in Group A.\n",
        "This supports your \"less\" hypothesis → Result significant.\n",
        "\n",
        "If the upper bound ≥ 1:\n",
        "It’s possible Group B’s odds are not lower than Group A’s (could be equal or higher).\n",
        "This does not support your \"less\" hypothesis → Result not significant."
      ],
      "metadata": {
        "id": "sqrCevdGiyAU"
      }
    },
    {
      "cell_type": "markdown",
      "source": [
        "###\"Greater\" Hypothesis:"
      ],
      "metadata": {
        "id": "Ss54WbWxlLoR"
      }
    },
    {
      "cell_type": "markdown",
      "source": [
        "The lower bound of the CI is what you want to look at for \"greater\" — it should be > 1 for significance."
      ],
      "metadata": {
        "id": "BiVaq9b8nVgX"
      }
    },
    {
      "cell_type": "markdown",
      "source": [
        "For a \"greater\" alternative (testing if Group B > Group A):"
      ],
      "metadata": {
        "id": "Wpi6zi2on2Rz"
      }
    },
    {
      "cell_type": "markdown",
      "source": [
        "If lower bound > 1:\n",
        "With your chosen confidence level, you can say the odds of conversion in Group B are at least this much higher than in Group A.\n",
        "This supports your \"greater\" hypothesis → Result is significant.\n",
        "\n",
        "If lower bound ≤ 1:\n",
        "You cannot confidently say that Group B’s odds are higher than Group A’s.\n",
        "This does not support your \"greater\" hypothesis → Result is not significant."
      ],
      "metadata": {
        "id": "h4lMH1KwnvXP"
      }
    },
    {
      "cell_type": "markdown",
      "source": [
        "###Interpretation:"
      ],
      "metadata": {
        "id": "qWJrUaDMlzEC"
      }
    },
    {
      "cell_type": "code",
      "source": [
        "lower_ci <- result$conf.int[1]\n",
        "upper_ci <- result$conf.int[2]\n",
        "\n",
        "# Make sure p1_label and p2_label are defined\n",
        "# Example:\n",
        "# p1_label <- \"Group A\"\n",
        "# p2_label <- \"Group B\"\n",
        "\n",
        "if (alternative == \"less\") {\n",
        "  if (upper_ci < 1) {\n",
        "    percent_diff <- (1 - upper_ci) * 100\n",
        "    sentence <- paste0(\n",
        "      sprintf(\"95%% CI Upper Bound for Odds Ratio: %.3f.\", upper_ci), \"\\n\\n\",\n",
        "      sprintf(\"With %.0f%% confidence, %s (p₁) has lower odds of conversion than %s (p₂).\", (1 - alpha) * 100, p1_label, p2_label), \"\\n\",\n",
        "      sprintf(\"The odds of conversion in %s are up to %.1f%% lower than in %s.\", p1_label, percent_diff, p2_label), \"\\n\",\n",
        "      sprintf(\"This supports the hypothesis that %s is better than %s.\", p2_label, p1_label)\n",
        "    )\n",
        "  } else {\n",
        "    sentence <- paste0(\n",
        "      sprintf(\"95%% CI Upper Bound for Odds Ratio: %.3f.\", upper_ci), \"\\n\\n\",\n",
        "      sprintf(\"With %.0f%% confidence, we cannot rule out that %s is not better than %s.\", (1 - alpha) * 100, p2_label, p1_label), \"\\n\",\n",
        "      sprintf(\"This does not support the hypothesis that %s is better.\", p2_label)\n",
        "    )\n",
        "  }\n",
        "\n",
        "} else if (alternative == \"greater\") {\n",
        "  if (lower_ci > 1) {\n",
        "    percent_diff <- (lower_ci - 1) * 100\n",
        "    sentence <- paste0(\n",
        "      sprintf(\"95%% CI Lower Bound for Odds Ratio: %.3f.\", lower_ci), \"\\n\\n\",\n",
        "      sprintf(\"With %.0f%% confidence, %s (p₁) has higher odds of conversion than %s (p₂).\", (1 - alpha) * 100, p1_label, p2_label), \"\\n\",\n",
        "      sprintf(\"The odds of conversion in %s are at least %.1f%% higher than in %s.\", p1_label, percent_diff, p2_label), \"\\n\",\n",
        "      sprintf(\"This supports the hypothesis that %s is better than %s.\", p1_label, p2_label)\n",
        "    )\n",
        "  } else {\n",
        "    sentence <- paste0(\n",
        "      sprintf(\"95%% CI Lower Bound for Odds Ratio: %.3f.\", lower_ci), \"\\n\\n\",\n",
        "      sprintf(\"With %.0f%% confidence, we cannot rule out that %s is not better than %s.\", (1 - alpha) * 100, p1_label, p2_label), \"\\n\",\n",
        "      sprintf(\"This does not support the hypothesis that %s is better.\", p1_label)\n",
        "    )\n",
        "  }\n",
        "\n",
        "} else if (alternative == \"two.sided\") {\n",
        "  if (lower_ci > 1) {\n",
        "    percent_diff <- (lower_ci - 1) * 100\n",
        "    sentence <- paste0(\n",
        "      sprintf(\"95%% CI: [%.3f, %.3f].\", lower_ci, upper_ci), \"\\n\\n\",\n",
        "      sprintf(\"With %.0f%% confidence, there is a statistically significant difference in odds of conversion between %s (p₁) and %s (p₂).\", (1 - alpha) * 100, p1_label, p2_label), \"\\n\",\n",
        "      sprintf(\"The confidence interval suggests that the odds of conversion in %s may be at least %.1f%% higher than in %s.\", p1_label, percent_diff, p2_label)\n",
        "    )\n",
        "  } else if (upper_ci < 1) {\n",
        "    percent_diff <- (1 - upper_ci) * 100\n",
        "    sentence <- paste0(\n",
        "      sprintf(\"95%% CI: [%.3f, %.3f].\", lower_ci, upper_ci), \"\\n\\n\",\n",
        "      sprintf(\"With %.0f%% confidence, there is a statistically significant difference in odds of conversion between %s (p₁) and %s (p₂).\", (1 - alpha) * 100, p1_label, p2_label), \"\\n\",\n",
        "      sprintf(\"The confidence interval suggests that the odds of conversion in %s may be up to %.1f%% lower than in %s.\", p1_label, percent_diff, p2_label)\n",
        "    )\n",
        "  } else {\n",
        "    sentence <- paste0(\n",
        "      sprintf(\"95%% CI: [%.3f, %.3f].\", lower_ci, upper_ci), \"\\n\\n\",\n",
        "      sprintf(\"With %.0f%% confidence, we cannot rule out no difference in odds between %s and %s.\", (1 - alpha) * 100, p1_label, p2_label), \"\\n\",\n",
        "      \"This does not support a statistically significant difference.\"\n",
        "    )\n",
        "  }\n",
        "}\n",
        "\n",
        "cat(sentence, \"\\n\\n\")\n",
        "\n",
        "# Significance check\n",
        "includes_one <- (lower_ci <= 1) && (upper_ci >= 1)\n",
        "\n",
        "message <- if (includes_one) {\n",
        "  sprintf(\"Because the interval includes 1, this result is not statistically significant at the %.0f%% confidence level.\", (1 - alpha) * 100)\n",
        "} else {\n",
        "  sprintf(\"Because the interval does not include 1, this result is statistically significant at the %.0f%% confidence level.\", (1 - alpha) * 100)\n",
        "}\n",
        "\n",
        "cat(message)\n"
      ],
      "metadata": {
        "colab": {
          "base_uri": "https://localhost:8080/"
        },
        "id": "l-g9OCb9QzPt",
        "outputId": "b850db32-a93e-4555-bca5-df7f0aa3cf04"
      },
      "execution_count": null,
      "outputs": [
        {
          "output_type": "stream",
          "name": "stdout",
          "text": [
            "95% CI Lower Bound for Odds Ratio: 1.295.\n",
            "\n",
            "With 95% confidence, Treatment (p₁) has higher odds of conversion than Control (p₂).\n",
            "The odds of conversion in Treatment are at least 29.5% higher than in Control.\n",
            "This supports the hypothesis that Treatment is better than Control. \n",
            "\n",
            "Because the interval does not include 1, this result is statistically significant at the 95% confidence level."
          ]
        }
      ]
    },
    {
      "cell_type": "markdown",
      "source": [
        "##Statistical Power"
      ],
      "metadata": {
        "id": "NXa50cjNkZxK"
      }
    },
    {
      "cell_type": "markdown",
      "source": [
        "![Alt text](https://github.com/lindsayalexandra14/ds_portfolio/raw/main/2_images/templates/notebook/headers/lilac/Statistical%20Power.png)"
      ],
      "metadata": {
        "id": "2rS0ARAb1E8y"
      }
    },
    {
      "cell_type": "code",
      "source": [
        "print(table_to_use)"
      ],
      "metadata": {
        "colab": {
          "base_uri": "https://localhost:8080/"
        },
        "id": "p7yzBKHwSfx-",
        "outputId": "21afe3d2-77d8-4806-c021-d440a9277839"
      },
      "execution_count": null,
      "outputs": [
        {
          "output_type": "stream",
          "name": "stdout",
          "text": [
            "          Converted Not_Converted\n",
            "Treatment        18           130\n",
            "Control           7           150\n"
          ]
        }
      ]
    },
    {
      "cell_type": "code",
      "source": [
        "# Calculate power (one-sided test)\n",
        "set.seed(100)\n",
        "result_power <- power.fisher.test(n1 = n1, n2 = n2, p1 = p1, p2 = p2,\n",
        "                           alpha = alpha,\n",
        "                           alternative = alternative,   # Group 1 vs. Group 2\n",
        "                           nsim = 10000)  # Number of simulations"
      ],
      "metadata": {
        "id": "JKsnuRrA27D3"
      },
      "execution_count": null,
      "outputs": []
    },
    {
      "cell_type": "code",
      "source": [
        "power_pct <- sprintf(\"%.1f\", result_power * 100)\n",
        "cat(\"Result Power:\",power_pct,\"%\\n\\n\")\n",
        "\n",
        "if (result_power < 0.8) {\n",
        "  power_sentence <- sprintf(\n",
        "    \"Our test was underpowered (e.g., only ~%s%% power), meaning there was \\na higher chance we failed to detect a true difference due to limited sample size. \\nAs a result, we cannot be statistically \\nconfident in it without further data and cannot give a confident \\nestimate in incremental revenue from the test.\",\n",
        "    power_pct\n",
        "  )\n",
        "} else {\n",
        "  power_sentence <- sprintf(\n",
        "    \"Our test was adequately powered (e.g., ~%s%% power), meaning we had a \\nstrong chance of detecting a true difference if one existed.\",\n",
        "    power_pct\n",
        "  )\n",
        "}\n",
        "\n",
        "cat(power_sentence, \"\\n\")\n"
      ],
      "metadata": {
        "colab": {
          "base_uri": "https://localhost:8080/"
        },
        "id": "I2qR9R6cbkg5",
        "outputId": "666fda14-8dbb-4118-87af-22700195f82e"
      },
      "execution_count": null,
      "outputs": [
        {
          "output_type": "stream",
          "name": "stdout",
          "text": [
            "Result Power: 75.3 %\n",
            "\n",
            "Our test was underpowered (e.g., only ~75.3% power), meaning there was \n",
            "a higher chance we failed to detect a true difference due to limited sample size. \n",
            "As a result, while the effect appears meaningful, we cannot be statistically \n",
            "confident in it without further data and cannot give a confident \n",
            "estimate in incremental revenue from the test. \n"
          ]
        }
      ]
    },
    {
      "cell_type": "markdown",
      "source": [
        "# Results Summary"
      ],
      "metadata": {
        "id": "8DTH8pW2XaVc"
      }
    },
    {
      "cell_type": "markdown",
      "source": [
        "![Alt text](https://github.com/lindsayalexandra14/ds_portfolio/raw/main/2_images/templates/notebook/headers/lilac/Results%20Summary.png)"
      ],
      "metadata": {
        "id": "ckoivvmW1IAB"
      }
    },
    {
      "cell_type": "code",
      "source": [
        "cat(\"\\n\")\n",
        "print(table_to_use)\n",
        "cat(\"\\n\")\n",
        "print(glue(\"p1: \",\"{groups['p1']} Conversion Rate: {round(p1 * 100, 2)}%\"))\n",
        "print(glue(\"p2: \",\"{groups['p2']} Conversion Rate: {round(p2 * 100, 2)}%\"))\n",
        "cat(\"\\n\")\n",
        "cat(\"Result Hypothesis:\",result_hypothesis)\n",
        "cat(\"\\n\")\n",
        "cat(\"\\n\")\n",
        "cat(sprintf(\"Absolute difference: %.3f (%.1f%%)\\n\", abs_diff, abs_diff * 100))\n",
        "cat(sprintf(\"Cohen's h: %.3f\\n\", h))\n",
        "cat(sprintf(\"Effect size interpretation: %s\\n\", interpret_h(h)))\n",
        "cat(\"\\n\")\n",
        "print(result)\n",
        "cat(strwrap(pvalue_message, width = 80), sep = \"\\n\")\n",
        "cat(\"\\n\")\n",
        "cat(sentence, \"\\n\")\n",
        "cat(\"\\n\")\n",
        "cat(message, \"\\n\")\n",
        "cat(\"\\n\")\n",
        "cat(\"Result Power:\",power_pct,\"%\\n\\n\")\n",
        "cat(power_sentence, \"\\n\")"
      ],
      "metadata": {
        "colab": {
          "base_uri": "https://localhost:8080/"
        },
        "id": "ecS4axKIPe3k",
        "outputId": "84cf28be-30f0-426f-a725-e279de94acf7"
      },
      "execution_count": null,
      "outputs": [
        {
          "output_type": "stream",
          "name": "stdout",
          "text": [
            "\n",
            "          Converted Not_Converted\n",
            "Treatment        18           130\n",
            "Control           7           150\n",
            "\n",
            "p1: Treatment Conversion Rate: 12.16%\n",
            "p2: Control Conversion Rate: 4.46%\n",
            "\n",
            "Result Hypothesis: Treatment (0.1216) is greater than Control (0.0446)\n",
            "\n",
            "Absolute difference: 0.077 (7.7%)\n",
            "Cohen's h: 0.020\n",
            "Effect size interpretation: negligible\n",
            "\n",
            "\n",
            "\tOne-sided Fisher's Exact Test\n",
            "\n",
            "data:  table_to_use\n",
            "p-value = 0.01186\n",
            "alternative hypothesis: true odds ratio is greater than 1\n",
            "95 percent confidence interval:\n",
            " 1.294771      Inf\n",
            "sample estimates:\n",
            "odds ratio \n",
            "  2.956901 \n",
            "\n",
            "Because the p-value (0.012) is less than alpha (0.050), this result is\n",
            "statistically significant at the 95% confidence level.\n",
            "\n",
            "95% CI Lower Bound for Odds Ratio: 1.295.\n",
            "\n",
            "With 95% confidence, Treatment (p₁) has higher odds of conversion than Control (p₂).\n",
            "The odds of conversion in Treatment are at least 29.5% higher than in Control.\n",
            "This supports the hypothesis that Treatment is better than Control. \n",
            "\n",
            "Because the interval does not include 1, this result is statistically significant at the 95% confidence level. \n",
            "\n",
            "Result Power: 75.3 %\n",
            "\n",
            "Our test was underpowered (e.g., only ~75.3% power), meaning there was \n",
            "a higher chance we failed to detect a true difference due to limited sample size. \n",
            "As a result, while the effect appears meaningful, we cannot be statistically \n",
            "confident in it without further data and cannot give a confident \n",
            "estimate in incremental revenue from the test. \n"
          ]
        }
      ]
    },
    {
      "cell_type": "markdown",
      "source": [
        "#Odds Ratio Conversion"
      ],
      "metadata": {
        "id": "3_dWgk2WubcB"
      }
    },
    {
      "cell_type": "markdown",
      "source": [
        "![Alt text](https://github.com/lindsayalexandra14/ds_portfolio/raw/main/2_images/templates/notebook/headers/lilac/Odds%20Ratio%20Conversion.png)"
      ],
      "metadata": {
        "id": "tcUlgW6rxY_6"
      }
    },
    {
      "cell_type": "code",
      "source": [
        "print(paste(\"Control:\",control))\n",
        "print(paste(\"Treatment:\",treatment))\n",
        "\n",
        "control_odds=control/(1-control)\n",
        "treatment_odds=treatment/(1-treatment)\n",
        "odds_ratio=treatment_odds/control_odds\n",
        "\n",
        "print(paste(\"Odds Ratio:\",round(odds_ratio,2)))\n",
        "print(paste(\"Lower CI:\",round(lower_ci,2)))\n",
        "# print(paste(\"Upper CI:\",round(upper_ci,2)))"
      ],
      "metadata": {
        "colab": {
          "base_uri": "https://localhost:8080/"
        },
        "id": "xIqmBD6IukL8",
        "outputId": "f1639433-7749-45bf-b807-e38b7704b7ad"
      },
      "execution_count": null,
      "outputs": [
        {
          "output_type": "stream",
          "name": "stdout",
          "text": [
            "[1] \"Control: 0.14\"\n",
            "[1] \"Treatment: 0.147\"\n",
            "[1] \"Odds Ratio: 1.06\"\n",
            "[1] \"Lower CI: 1.29\"\n"
          ]
        }
      ]
    },
    {
      "cell_type": "markdown",
      "source": [
        "Your hypothesized Odds Ratio (OR) of 1.06 (based on Relative Rate (RR) = 0.147/0.14 =1.05)\n",
        "\n",
        "*  Control odds = 0.14 / (1 - 0.14) = 0.1628\n",
        "*  Treatment odds = 0.147 / (1 - 0.147) = 0.1724\n",
        "*  Treatment odds / Control odds = 0.1724 / 0.1628 = 1.059\n",
        "\n",
        "5% increase in probability leads to a 6% increase in odds\n",
        "\n",
        "If your minimum meaningful effect was an odds ratio of 1.06, then:\n",
        "\n",
        "You’d want your lower CI bound ≥ 1.06\n",
        "\n",
        "Your result of 1.295 >1.06 → it's statistically significant, and stronger than hypothesized\n",
        "\n",
        "If you only wanted any significant increase, then >1 is enough.\n",
        "\n",
        "1.295 > 1.06 (hypothesized) Strong enough to confirm a 6% OR (5% RR)increase, but without power"
      ],
      "metadata": {
        "id": "82rNs8Qmz9V0"
      }
    }
  ]
}