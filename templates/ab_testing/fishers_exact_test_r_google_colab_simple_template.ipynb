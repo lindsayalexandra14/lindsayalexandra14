{
  "cells": [
    {
      "cell_type": "markdown",
      "metadata": {
        "id": "VEoj-VkkCfQK"
      },
      "source": [
        "#Top"
      ]
    },
    {
      "cell_type": "markdown",
      "metadata": {
        "id": "Dok8jkCDBu4Q"
      },
      "source": [
        "[![Open in GitHub](https://img.shields.io/badge/Open%20Folder%20in-GitHub-181717?logo=github&logoColor=white)](https://github.com/lindsayalexandra14/lindsayalexandra14/tree/main/templates/ab_testing)"
      ]
    },
    {
      "cell_type": "markdown",
      "metadata": {
        "id": "-mlchltjHZ84"
      },
      "source": [
        "[![Open In Colab](https://colab.research.google.com/assets/colab-badge.svg)](https://colab.research.google.com/drive/1Roy58qPtC8SFLXWinWi0jiuirKRZ4s9-)"
      ]
    },
    {
      "cell_type": "markdown",
      "metadata": {
        "id": "soTnQgfsyr3w"
      },
      "source": [
        "![Alt text](https://github.com/lindsayalexandra14/ds_portfolio/raw/main/2_images/templates/notebook/headers/lilac/AB%20Testing%20Small%20Sample%20Size.png)"
      ]
    },
    {
      "cell_type": "markdown",
      "metadata": {
        "id": "-QsWDKinNrlW"
      },
      "source": [
        "**test**\n",
        "*   This hypothetical experiment tests two Landing Pages (control vs. treatment)\n",
        "*   I am trying to prove that the treatment performed better than the control because the team is interested in moving forward with the treatment\n",
        "*   The initial sample size is 30,000 users but the test gets cut short (due to constraints below) and our sample is cut to 305 users and I need to use Fisher's Exact Test for small sample sizes where a cell has < 10 users\n",
        "\n",
        "**constraints**\n",
        "*   The landing page needs to be switched over sooner due to changed timelines, so the results give as much information as I will get about how the treatment performed\n",
        "\n",
        "**result**\n",
        "*  It was established from the test that the treatment performed better with significance (at alpha=0.05). The practical significance is low (cohen's h = 0.02) but the business impact is high. It did not have the full desired statistical power (75% vs. 80%)\n",
        "\n",
        "**recommendation**\n",
        "*  In this case, given the constraints, I am comfortable enough with the treatment performing some level higher than the control with significance and not vice versa that I recommend moving forward with implementing the treatment\n",
        "\n",
        "\n",
        "\n"
      ]
    },
    {
      "cell_type": "markdown",
      "metadata": {
        "id": "R56clHT1y3dV"
      },
      "source": [
        "![Alt text](https://github.com/lindsayalexandra14/ds_portfolio/raw/main/2_images/templates/notebook/headers/lilac/Fishers%20R.png)"
      ]
    },
    {
      "cell_type": "markdown",
      "metadata": {
        "id": "FA1FQ2lOQ0Tn"
      },
      "source": [
        "#Setup"
      ]
    },
    {
      "cell_type": "markdown",
      "metadata": {
        "id": "WZnIt0KczlRU"
      },
      "source": [
        "![Alt text](https://github.com/lindsayalexandra14/ds_portfolio/raw/main/2_images/templates/notebook/headers/lilac/Setup.png)"
      ]
    },
    {
      "cell_type": "code",
      "execution_count": null,
      "metadata": {
        "id": "9zvP9XGiy0mY",
        "vscode": {
          "languageId": "r"
        }
      },
      "outputs": [],
      "source": [
        "install.packages(\"exact2x2\")\n",
        "install.packages(\"statmod\")"
      ]
    },
    {
      "cell_type": "code",
      "execution_count": null,
      "metadata": {
        "id": "1CpP_a13yx6X",
        "vscode": {
          "languageId": "r"
        }
      },
      "outputs": [],
      "source": [
        "library(exact2x2)\n",
        "library(statmod)\n",
        "library(glue)"
      ]
    },
    {
      "cell_type": "markdown",
      "metadata": {
        "id": "DYvtqdRO0PwD"
      },
      "source": [
        "#Test Design"
      ]
    },
    {
      "cell_type": "markdown",
      "metadata": {
        "id": "Cw0Mx9NG0PKj"
      },
      "source": [
        "![Alt text](https://github.com/lindsayalexandra14/ds_portfolio/raw/main/2_images/templates/notebook/headers/lilac/Test%20Design.png)"
      ]
    },
    {
      "cell_type": "code",
      "execution_count": 40,
      "metadata": {
        "colab": {
          "base_uri": "https://localhost:8080/"
        },
        "id": "aMR7MHXWDL8_",
        "outputId": "e528b388-209b-4735-a367-c72ba796ac2c",
        "vscode": {
          "languageId": "r"
        }
      },
      "outputs": [
        {
          "name": "stdout",
          "output_type": "stream",
          "text": [
            "Test Design:\n",
            "\n",
            "Control: 0.14 \n",
            "Treatment: 0.147 \n",
            "Hypothesis: Treatment (0.1470) is greater than Control (0.1400)\n",
            "Minimum Detectable Effect (MDE): 0.007 negligible\n",
            "Effect Size (Cohen's h): 0.020\n",
            "Sample size: 30000\n",
            "Power: 0.800\n"
          ]
        }
      ],
      "source": [
        "# Parameters\n",
        "alpha <- 0.05             # Significance level\n",
        "power <- 0.80             # Statistical power (Probability of detecting an effect when it exists)\n",
        "control=0.14              # Baseline rate\n",
        "effect <- 0.05            # Desired relative effect (e.g., 5% lift over baseline)\n",
        "mde <- control * effect   # Minimum Detectable Effect (MDE). Difference in absolute terms\n",
        "treatment= control + mde  # Treatment rate (includes effect)\n",
        "cat(sprintf(\"Test Design:\\n\"))\n",
        "cat(\"\\n\")\n",
        "cat(paste('Control:', control, \"\\n\"))\n",
        "cat(paste('Treatment:', treatment, \"\\n\"))\n",
        "\n",
        "# Reference proportion for hypothesis\n",
        "p_1=treatment\n",
        "p_2=control\n",
        "p1_label = \"Treatment\"\n",
        "p2_label = \"Control\"\n",
        "\n",
        "# Hypothesis\n",
        "alternative = \"greater\" # in reference to p1:\n",
        "\n",
        "hypothesis <- switch(alternative,\n",
        "  greater = sprintf(\"%s (%.4f) is greater than %s (%.4f)\", p1_label, p_1, p2_label, p_2),\n",
        "  less = sprintf(\"%s (%.4f) is less than %s (%.4f)\", p1_label, p_1, p2_label, p_2),\n",
        "  two.sided = sprintf(\"%s (%.4f) is different from %s (%.4f)\", p1_label, p_1, p2_label, p_2),\n",
        ")\n",
        "cat(\"Hypothesis:\",hypothesis)\n",
        "\n",
        "# Effect (Cohen's h: standardized effect size for proportions)\n",
        "proportion_effectsize <- function(treatment, control) {\n",
        "  2 * asin(sqrt(treatment)) - 2 * asin(sqrt(control))\n",
        "}\n",
        "effect_size <- proportion_effectsize(treatment, control)\n",
        "\n",
        "interpret_effect_size <- function(effect_size) {\n",
        "  if (abs(h) < 0.2) return(\"negligible\")\n",
        "  if (abs(h) < 0.5) return(\"small\")\n",
        "  if (abs(h) < 0.8) return(\"medium\")\n",
        "  return(\"large\")\n",
        "}\n",
        "\n",
        "cat(sprintf(\"\\nMinimum Detectable Effect (MDE): %.3f %s\\n\", mde,interpret_effect_size(effect_size)))\n",
        "cat(sprintf(\"Effect Size (Cohen's h): %.3f\\n\", effect_size))\n",
        "\n",
        "# Power Function\n",
        "simulate_fisher_power <- function(p1, p2, n1, n2, alpha, reps = 1000, alternative, seed=100) {\n",
        "  set.seed(seed)\n",
        "  rejects <- replicate(reps, {\n",
        "    x1 <- rbinom(1, n1, p1)\n",
        "    x2 <- rbinom(1, n2, p2)\n",
        "\n",
        "    # Creates contingency table, x1 is reference for hypothesis\n",
        "    tbl <- matrix(c(x1, n1 - x1, x2, n2 - x2), nrow = 2, byrow = TRUE)\n",
        "\n",
        "    fisher.test(tbl, alternative = alternative)$p.value < alpha\n",
        "  })\n",
        "\n",
        "  mean(rejects)\n",
        "}\n",
        "\n",
        "# Sample Size\n",
        "  # Calculate minimum sample size for each group for one-sided test:\n",
        "  # Test if one group performs better or worse than the other\n",
        "\n",
        "n_1 <- 30000   # input sample size for group 1\n",
        "n_2 <- 30000   # input sample size for group 2\n",
        "\n",
        "# Estimate Power at Sample Size\n",
        "estimated_power <- simulate_fisher_power(p1=p_1, p2=p_2, n_1, n_2, alpha=alpha, alternative = alternative)\n",
        "cat(sprintf(\"Sample size: %s\\n\",n_1))\n",
        "cat(sprintf(\"Power: %.3f\\n\", estimated_power))"
      ]
    },
    {
      "cell_type": "markdown",
      "metadata": {
        "id": "6Yf_ZR6kkDgj"
      },
      "source": [
        "#Results"
      ]
    },
    {
      "cell_type": "markdown",
      "metadata": {
        "id": "rIIlrX0z0bPQ"
      },
      "source": [
        "![Alt text](https://github.com/lindsayalexandra14/ds_portfolio/raw/main/2_images/templates/notebook/headers/lilac/Results.png)"
      ]
    },
    {
      "cell_type": "code",
      "execution_count": 45,
      "metadata": {
        "colab": {
          "base_uri": "https://localhost:8080/"
        },
        "id": "EkpHlrkJzgpH",
        "outputId": "b92a536f-2ec6-41da-8ee9-933a1098bf72",
        "vscode": {
          "languageId": "r"
        }
      },
      "outputs": [
        {
          "name": "stdout",
          "output_type": "stream",
          "text": [
            "Results:\n",
            "\n",
            "          Converted Not_Converted\n",
            "Treatment        18           130\n",
            "Control           7           150\n",
            "\n",
            "p1: Treatment Conversion Rate: 12.16%\n",
            "p2: Control Conversion Rate: 4.46%\n",
            "\n",
            "Result Hypothesis: Treatment (0.1216) is greater than Control (0.0446)\n",
            "\n",
            "Absolute difference: 0.077 (7.7%)\n",
            "Cohen's h: 0.020\n",
            "Effect size interpretation: negligible\n",
            "\n",
            "\n",
            "\tOne-sided Fisher's Exact Test\n",
            "\n",
            "data:  table_to_use\n",
            "p-value = 0.01186\n",
            "alternative hypothesis: true odds ratio is greater than 1\n",
            "95 percent confidence interval:\n",
            " 1.294771      Inf\n",
            "sample estimates:\n",
            "odds ratio \n",
            "  2.956901 \n",
            "\n",
            "[1] \"Result Power: 75.3 %\"\n"
          ]
        }
      ],
      "source": [
        "cat(\"Results:\")\n",
        "cat(\"\\n\")\n",
        "cat(\"\\n\")\n",
        "\n",
        "# Data\n",
        "control_conversions=7\n",
        "treatment_conversions=18\n",
        "control_no_conversions=150\n",
        "treatment_no_conversions=130\n",
        "\n",
        "table <- matrix(c(control_conversions, control_no_conversions, treatment_conversions, treatment_no_conversions), nrow = 2, byrow = TRUE)\n",
        "colnames(table) <- c(\"Converted\", \"Not_Converted\")\n",
        "rownames(table) <- c(\"Control\", \"Treatment\")\n",
        "\n",
        "# Flip table if p1_label is not in the first row\n",
        "if (rownames(table)[1] != p1_label) {\n",
        "  table_to_use <- table[c(2, 1), ]\n",
        "}\n",
        "\n",
        "print(table_to_use)\n",
        "\n",
        "# Conversion Rates\n",
        "n1 <- sum(table_to_use[1, ])           # Reference group (row 1)\n",
        "n2 <- sum(table_to_use[2, ])           # (row 2)\n",
        "\n",
        "p1 <- table_to_use[1, \"Converted\"] / n1   # Reference group (row 1) conversion rate\n",
        "p2 <- table_to_use[2, \"Converted\"] / n2   # (row 2) conversion rate\n",
        "\n",
        "groups <- c(p1 = p1_label, p2 = p2_label)\n",
        "\n",
        "cat(\"\\n\")\n",
        "print(glue(\"p1: \",\"{groups['p1']} Conversion Rate: {round(p1 * 100, 2)}%\"))\n",
        "print(glue(\"p2: \",\"{groups['p2']} Conversion Rate: {round(p2 * 100, 2)}%\"))\n",
        "\n",
        "# Results Hypothesis\n",
        "result_hypothesis <- switch(alternative,\n",
        "  greater = sprintf(\"%s (%.4f) is greater than %s (%.4f)\", p1_label, p1, p2_label, p2),\n",
        "  less = sprintf(\"%s (%.4f) is less than %s (%.4f)\", p1_label, p1, p2_label, p2),\n",
        "  two.sided = sprintf(\"%s (%.4f) is different from %s (%.4f)\", p1_label, p1, p2_label, p2),\n",
        ")\n",
        "\n",
        "cat(\"\\n\")\n",
        "cat(\"Result Hypothesis:\",result_hypothesis)\n",
        "\n",
        "# Absolute Difference\n",
        "abs_diff <- abs(p1 - p2)\n",
        "\n",
        "cat(\"\\n\")\n",
        "cat(\"\\n\")\n",
        "cat(sprintf(\"Absolute difference: %.3f (%.1f%%)\\n\", abs_diff, abs_diff * 100))\n",
        "\n",
        "# Effect (Cohen's h)\n",
        "proportion_effectsize <- function(control, treatment) {\n",
        "  2 * asin(sqrt(treatment)) - 2 * asin(sqrt(control))\n",
        "}\n",
        "\n",
        "h <- proportion_effectsize(control, treatment)\n",
        "\n",
        "interpret_h <- function(h) {\n",
        "  if (abs(h) < 0.2) return(\"negligible\")\n",
        "  if (abs(h) < 0.5) return(\"small\")\n",
        "  if (abs(h) < 0.8) return(\"medium\")\n",
        "  return(\"large\")\n",
        "}\n",
        "\n",
        "cat(sprintf(\"Cohen's h: %.3f\\n\", h))\n",
        "cat(sprintf(\"Effect size interpretation: %s\\n\", interpret_h(h)))\n",
        "\n",
        "# Fisher's Test\n",
        "result <-  exact2x2(table_to_use, alternative = alternative, conf.level = 1 - alpha, tsmethod=\"central\")\n",
        "cat(\"\\n\")\n",
        "print(result)\n",
        "\n",
        "# P-value\n",
        "p_value <- result$p.value\n",
        "\n",
        "# Lower CI\n",
        "lower_ci <- result$conf.int[1]\n",
        "\n",
        "# Power\n",
        "set.seed(100)\n",
        "result_power <- power.fisher.test(n1 = n1, n2 = n2, p1 = p1, p2 = p2,\n",
        "                           alpha = alpha,\n",
        "                           alternative = alternative,\n",
        "                           nsim = 10000)\n",
        "\n",
        "print(paste(\"Result Power:\",round(result_power*100,1),\"%\"))"
      ]
    },
    {
      "cell_type": "markdown",
      "metadata": {
        "id": "CQnSUjzkqZXd"
      },
      "source": [
        "#Results Summary"
      ]
    },
    {
      "cell_type": "markdown",
      "metadata": {
        "id": "_BjICDClq403"
      },
      "source": [
        "![Alt text](https://github.com/lindsayalexandra14/ds_portfolio/raw/main/2_images/templates/notebook/headers/lilac/Results%20Summary.png)"
      ]
    },
    {
      "cell_type": "markdown",
      "metadata": {
        "id": "tGULe8_wgW4h"
      },
      "source": [
        "***performance:***   \n",
        "With 95% confidence, the treatment group has higher odds of conversion than the control group. The odds of conversion in the treatment group are at least 29.5% higher than in the control group based on the 95% CI lower bound odds ratio of 1.295. This supports the hypothesis that treatment is better than control.\n",
        "\n",
        "***significance:***  \n",
        "Because the interval does not include 1, and the p-value (0.012) is less than alpha (0.050), this result is statistically significant at the 95% confidence level. The practical significance is low (cohen's h = 0.02) but the business impact is high based on domain knowledge.\n",
        "\n",
        "***power:***  \n",
        "Our test was somewhat underpowered (e.g., only ~75% power vs. 80% desired), meaning there was\n",
        "a higher chance we failed to detect a true difference due to limited sample size.\n",
        "As a result, while the effect appears meaningful, we cannot be statistically\n",
        "confident in it without further data and cannot give a confident\n",
        "estimate in incremental revenue from the test."
      ]
    },
    {
      "cell_type": "markdown",
      "metadata": {
        "id": "hCFaYo9NjOFn"
      },
      "source": [
        "#Recommendation"
      ]
    },
    {
      "cell_type": "markdown",
      "metadata": {
        "id": "8Bb-_8SVjvMv"
      },
      "source": [
        "![Alt text](https://github.com/lindsayalexandra14/ds_portfolio/raw/main/2_images/templates/notebook/headers/lilac/Recommendation.png)"
      ]
    },
    {
      "cell_type": "markdown",
      "metadata": {
        "id": "MuqKfzFxjMlh"
      },
      "source": [
        "*  In this case, given the constraints in needing to choose a landing page prematurely, I am comfortable enough with the treatment performing some level higher than the control with significance and not vice versa that I recommend moving forward with implementing the treatment"
      ]
    }
  ],
  "metadata": {
    "colab": {
      "provenance": []
    },
    "kernelspec": {
      "display_name": "R",
      "name": "ir"
    },
    "language_info": {
      "name": "R"
    }
  },
  "nbformat": 4,
  "nbformat_minor": 0
}
