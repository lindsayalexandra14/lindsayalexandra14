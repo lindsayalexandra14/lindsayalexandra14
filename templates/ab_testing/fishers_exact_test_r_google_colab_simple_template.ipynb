{
  "nbformat": 4,
  "nbformat_minor": 0,
  "metadata": {
    "colab": {
      "provenance": []
    },
    "kernelspec": {
      "name": "ir",
      "display_name": "R"
    },
    "language_info": {
      "name": "R"
    }
  },
  "cells": [
    {
      "cell_type": "markdown",
      "source": [
        "#Top"
      ],
      "metadata": {
        "id": "VEoj-VkkCfQK"
      }
    },
    {
      "cell_type": "markdown",
      "source": [
        "[![Open in GitHub](https://img.shields.io/badge/Open%20Folder%20in-GitHub-181717?logo=github&logoColor=white)](https://github.com/lindsayalexandra14/ds_portfolio/tree/main/1_projects/statistical_analysis/a_b_testing/fishers_exact_test)"
      ],
      "metadata": {
        "id": "Dok8jkCDBu4Q"
      }
    },
    {
      "cell_type": "markdown",
      "source": [
        "[![Open In Colab](https://colab.research.google.com/assets/colab-badge.svg)](https://github.com/lindsayalexandra14/ds_portfolio/blob/main/1_projects/statistical_analysis/a_b_testing/fishers_exact_test/fishers_exact_test_r_google_colab.ipynb)"
      ],
      "metadata": {
        "id": "-mlchltjHZ84"
      }
    },
    {
      "cell_type": "markdown",
      "source": [
        "![Alt text](https://github.com/lindsayalexandra14/ds_portfolio/raw/main/2_images/templates/notebook/headers/lilac/AB%20Testing%20Small%20Sample%20Size.png)"
      ],
      "metadata": {
        "id": "soTnQgfsyr3w"
      }
    },
    {
      "cell_type": "markdown",
      "source": [
        "**test**\n",
        "*   This hypothetical experiment tests two Landing Pages (control vs. treatment)\n",
        "*   I am trying to prove that the treatment performed better than the control because the team is interested in moving forward with the treatment\n",
        "*   The initial sample size is 30,000 users but the test gets cut short (due to constraints below) and our sample is cut to 305 users and I need to use Fisher's Exact Test for small sample sizes where a cell has < 10 users\n",
        "\n",
        "**constraints**\n",
        "*   The landing page needs to be switched over sooner due to changed timelines, so the results give as much information as I will get about how the treatment performed\n",
        "\n",
        "**result**\n",
        "*  It was established from the test that the treatment performed better with significance (at alpha=0.05). The practical significance is low (cohen's h = 0.02) but the business impact is high. It did not have the full desired statistical power (75% vs. 80%)\n",
        "\n",
        "**recommendation**\n",
        "*  In this case, given the constraints, I am comfortable enough with the treatment performing some level higher than the control with significance and not vice versa that I recommend moving forward with implementing the treatment\n",
        "\n",
        "\n",
        "\n"
      ],
      "metadata": {
        "id": "-QsWDKinNrlW"
      }
    },
    {
      "cell_type": "markdown",
      "source": [
        "![Alt text](https://github.com/lindsayalexandra14/ds_portfolio/raw/main/2_images/templates/notebook/headers/lilac/Fishers%20R.png)"
      ],
      "metadata": {
        "id": "R56clHT1y3dV"
      }
    },
    {
      "cell_type": "markdown",
      "source": [
        "#Setup"
      ],
      "metadata": {
        "id": "FA1FQ2lOQ0Tn"
      }
    },
    {
      "cell_type": "markdown",
      "source": [
        "![Alt text](https://github.com/lindsayalexandra14/ds_portfolio/raw/main/2_images/templates/notebook/headers/lilac/Setup.png)"
      ],
      "metadata": {
        "id": "WZnIt0KczlRU"
      }
    },
    {
      "cell_type": "code",
      "source": [
        "install.packages(\"exact2x2\")\n",
        "install.packages(\"statmod\")"
      ],
      "metadata": {
        "id": "9zvP9XGiy0mY"
      },
      "execution_count": null,
      "outputs": []
    },
    {
      "cell_type": "code",
      "source": [
        "library(exact2x2)\n",
        "library(statmod)\n",
        "library(glue)"
      ],
      "metadata": {
        "id": "1CpP_a13yx6X"
      },
      "execution_count": null,
      "outputs": []
    },
    {
      "cell_type": "markdown",
      "source": [
        "#Test Design"
      ],
      "metadata": {
        "id": "DYvtqdRO0PwD"
      }
    },
    {
      "cell_type": "markdown",
      "source": [
        "![Alt text](https://github.com/lindsayalexandra14/ds_portfolio/raw/main/2_images/templates/notebook/headers/lilac/Test%20Design.png)"
      ],
      "metadata": {
        "id": "Cw0Mx9NG0PKj"
      }
    },
    {
      "cell_type": "code",
      "source": [
        "# Parameters\n",
        "alpha <- 0.05             # Significance level\n",
        "power <- 0.80             # Statistical power (Probability of detecting an effect when it exists)\n",
        "control=0.14              # Baseline rate\n",
        "effect <- 0.05            # Desired relative effect (e.g., 5% lift over baseline)\n",
        "mde <- control * effect   # Minimum Detectable Effect (MDE). Difference in absolute terms\n",
        "treatment= control + mde  # Treatment rate (includes effect)\n",
        "cat(sprintf(\"Test Design:\\n\"))\n",
        "cat(\"\\n\")\n",
        "cat(paste('Control:', control, \"\\n\"))\n",
        "cat(paste('Treatment:', treatment, \"\\n\"))\n",
        "\n",
        "# Reference proportion for hypothesis\n",
        "p_1=treatment\n",
        "p_2=control\n",
        "p1_label = \"Treatment\"\n",
        "p2_label = \"Control\"\n",
        "\n",
        "# Hypothesis\n",
        "alternative = \"greater\" # in reference to p1:\n",
        "\n",
        "hypothesis <- switch(alternative,\n",
        "  greater = sprintf(\"%s (%.4f) is greater than %s (%.4f)\", p1_label, p_1, p2_label, p_2),\n",
        "  less = sprintf(\"%s (%.4f) is less than %s (%.4f)\", p1_label, p_1, p2_label, p_2),\n",
        "  two.sided = sprintf(\"%s (%.4f) is different from %s (%.4f)\", p1_label, p_1, p2_label, p_2),\n",
        ")\n",
        "cat(\"Hypothesis:\",hypothesis)\n",
        "\n",
        "# Effect (Cohen's h: standardized effect size for proportions)\n",
        "proportion_effectsize <- function(treatment, control) {\n",
        "  2 * asin(sqrt(treatment)) - 2 * asin(sqrt(control))\n",
        "}\n",
        "effect_size <- proportion_effectsize(treatment, control)\n",
        "\n",
        "interpret_effect_size <- function(effect_size) {\n",
        "  if (abs(h) < 0.2) return(\"negligible\")\n",
        "  if (abs(h) < 0.5) return(\"small\")\n",
        "  if (abs(h) < 0.8) return(\"medium\")\n",
        "  return(\"large\")\n",
        "}\n",
        "\n",
        "cat(sprintf(\"\\nMinimum Detectable Effect (MDE): %.3f %s\\n\", mde,interpret_effect_size(effect_size)))\n",
        "cat(sprintf(\"Effect Size (Cohen's h): %.3f\\n\", effect_size))\n",
        "\n",
        "# Power Function\n",
        "simulate_fisher_power <- function(p1, p2, n1, n2, alpha, reps = 1000, alternative, seed=100) {\n",
        "  set.seed(seed)\n",
        "  rejects <- replicate(reps, {\n",
        "    x1 <- rbinom(1, n1, p1)\n",
        "    x2 <- rbinom(1, n2, p2)\n",
        "\n",
        "    # Creates contingency table, x1 is reference for hypothesis\n",
        "    tbl <- matrix(c(x1, n1 - x1, x2, n2 - x2), nrow = 2, byrow = TRUE)\n",
        "\n",
        "    fisher.test(tbl, alternative = alternative)$p.value < alpha\n",
        "  })\n",
        "\n",
        "  mean(rejects)\n",
        "}\n",
        "\n",
        "# Sample Size\n",
        "  # Calculate minimum sample size for each group for one-sided test:\n",
        "  # Test if one group performs better or worse than the other\n",
        "\n",
        "n_1 <- 30000   # input sample size for group 1\n",
        "n_2 <- 30000   # input sample size for group 2\n",
        "\n",
        "# Estimate Power at Sample Size\n",
        "estimated_power <- simulate_fisher_power(p1=p_1, p2=p_2, n_1, n_2, alpha=alpha, alternative = alternative)\n",
        "cat(sprintf(\"Sample size: %s\\n\",n_1))\n",
        "cat(sprintf(\"Power: %.3f\\n\", estimated_power))"
      ],
      "metadata": {
        "colab": {
          "base_uri": "https://localhost:8080/"
        },
        "id": "aMR7MHXWDL8_",
        "outputId": "e528b388-209b-4735-a367-c72ba796ac2c"
      },
      "execution_count": 40,
      "outputs": [
        {
          "output_type": "stream",
          "name": "stdout",
          "text": [
            "Test Design:\n",
            "\n",
            "Control: 0.14 \n",
            "Treatment: 0.147 \n",
            "Hypothesis: Treatment (0.1470) is greater than Control (0.1400)\n",
            "Minimum Detectable Effect (MDE): 0.007 negligible\n",
            "Effect Size (Cohen's h): 0.020\n",
            "Sample size: 30000\n",
            "Power: 0.800\n"
          ]
        }
      ]
    },
    {
      "cell_type": "markdown",
      "source": [
        "#Results"
      ],
      "metadata": {
        "id": "6Yf_ZR6kkDgj"
      }
    },
    {
      "cell_type": "markdown",
      "source": [
        "![Alt text](https://github.com/lindsayalexandra14/ds_portfolio/raw/main/2_images/templates/notebook/headers/lilac/Results.png)"
      ],
      "metadata": {
        "id": "rIIlrX0z0bPQ"
      }
    },
    {
      "cell_type": "code",
      "source": [
        "cat(\"Results:\")\n",
        "cat(\"\\n\")\n",
        "cat(\"\\n\")\n",
        "\n",
        "# Data\n",
        "control_conversions=7\n",
        "treatment_conversions=18\n",
        "control_no_conversions=150\n",
        "treatment_no_conversions=130\n",
        "\n",
        "table <- matrix(c(control_conversions, control_no_conversions, treatment_conversions, treatment_no_conversions), nrow = 2, byrow = TRUE)\n",
        "colnames(table) <- c(\"Converted\", \"Not_Converted\")\n",
        "rownames(table) <- c(\"Control\", \"Treatment\")\n",
        "\n",
        "# Flip table if p1_label is not in the first row\n",
        "if (rownames(table)[1] != p1_label) {\n",
        "  table_to_use <- table[c(2, 1), ]\n",
        "}\n",
        "\n",
        "print(table_to_use)\n",
        "\n",
        "# Conversion Rates\n",
        "n1 <- sum(table_to_use[1, ])           # Reference group (row 1)\n",
        "n2 <- sum(table_to_use[2, ])           # (row 2)\n",
        "\n",
        "p1 <- table_to_use[1, \"Converted\"] / n1   # Reference group (row 1) conversion rate\n",
        "p2 <- table_to_use[2, \"Converted\"] / n2   # (row 2) conversion rate\n",
        "\n",
        "groups <- c(p1 = p1_label, p2 = p2_label)\n",
        "\n",
        "cat(\"\\n\")\n",
        "print(glue(\"p1: \",\"{groups['p1']} Conversion Rate: {round(p1 * 100, 2)}%\"))\n",
        "print(glue(\"p2: \",\"{groups['p2']} Conversion Rate: {round(p2 * 100, 2)}%\"))\n",
        "\n",
        "# Results Hypothesis\n",
        "result_hypothesis <- switch(alternative,\n",
        "  greater = sprintf(\"%s (%.4f) is greater than %s (%.4f)\", p1_label, p1, p2_label, p2),\n",
        "  less = sprintf(\"%s (%.4f) is less than %s (%.4f)\", p1_label, p1, p2_label, p2),\n",
        "  two.sided = sprintf(\"%s (%.4f) is different from %s (%.4f)\", p1_label, p1, p2_label, p2),\n",
        ")\n",
        "\n",
        "cat(\"\\n\")\n",
        "cat(\"Result Hypothesis:\",result_hypothesis)\n",
        "\n",
        "# Absolute Difference\n",
        "abs_diff <- abs(p1 - p2)\n",
        "\n",
        "cat(\"\\n\")\n",
        "cat(\"\\n\")\n",
        "cat(sprintf(\"Absolute difference: %.3f (%.1f%%)\\n\", abs_diff, abs_diff * 100))\n",
        "\n",
        "# Effect (Cohen's h)\n",
        "proportion_effectsize <- function(control, treatment) {\n",
        "  2 * asin(sqrt(treatment)) - 2 * asin(sqrt(control))\n",
        "}\n",
        "\n",
        "h <- proportion_effectsize(control, treatment)\n",
        "\n",
        "interpret_h <- function(h) {\n",
        "  if (abs(h) < 0.2) return(\"negligible\")\n",
        "  if (abs(h) < 0.5) return(\"small\")\n",
        "  if (abs(h) < 0.8) return(\"medium\")\n",
        "  return(\"large\")\n",
        "}\n",
        "\n",
        "cat(sprintf(\"Cohen's h: %.3f\\n\", h))\n",
        "cat(sprintf(\"Effect size interpretation: %s\\n\", interpret_h(h)))\n",
        "\n",
        "# Fisher's Test\n",
        "result <-  exact2x2(table_to_use, alternative = alternative, conf.level = 1 - alpha, tsmethod=\"central\")\n",
        "cat(\"\\n\")\n",
        "print(result)\n",
        "\n",
        "# P-value\n",
        "p_value <- result$p.value\n",
        "\n",
        "# Lower CI\n",
        "lower_ci <- result$conf.int[1]\n",
        "\n",
        "# Power\n",
        "set.seed(100)\n",
        "result_power <- power.fisher.test(n1 = n1, n2 = n2, p1 = p1, p2 = p2,\n",
        "                           alpha = alpha,\n",
        "                           alternative = alternative,\n",
        "                           nsim = 10000)\n",
        "\n",
        "print(paste(\"Result Power:\",round(result_power*100,1),\"%\"))"
      ],
      "metadata": {
        "id": "EkpHlrkJzgpH",
        "colab": {
          "base_uri": "https://localhost:8080/"
        },
        "outputId": "b92a536f-2ec6-41da-8ee9-933a1098bf72"
      },
      "execution_count": 45,
      "outputs": [
        {
          "output_type": "stream",
          "name": "stdout",
          "text": [
            "Results:\n",
            "\n",
            "          Converted Not_Converted\n",
            "Treatment        18           130\n",
            "Control           7           150\n",
            "\n",
            "p1: Treatment Conversion Rate: 12.16%\n",
            "p2: Control Conversion Rate: 4.46%\n",
            "\n",
            "Result Hypothesis: Treatment (0.1216) is greater than Control (0.0446)\n",
            "\n",
            "Absolute difference: 0.077 (7.7%)\n",
            "Cohen's h: 0.020\n",
            "Effect size interpretation: negligible\n",
            "\n",
            "\n",
            "\tOne-sided Fisher's Exact Test\n",
            "\n",
            "data:  table_to_use\n",
            "p-value = 0.01186\n",
            "alternative hypothesis: true odds ratio is greater than 1\n",
            "95 percent confidence interval:\n",
            " 1.294771      Inf\n",
            "sample estimates:\n",
            "odds ratio \n",
            "  2.956901 \n",
            "\n",
            "[1] \"Result Power: 75.3 %\"\n"
          ]
        }
      ]
    },
    {
      "cell_type": "markdown",
      "source": [
        "#Results Summary"
      ],
      "metadata": {
        "id": "CQnSUjzkqZXd"
      }
    },
    {
      "cell_type": "markdown",
      "source": [
        "![Alt text](https://github.com/lindsayalexandra14/ds_portfolio/raw/main/2_images/templates/notebook/headers/lilac/Results%20Summary.png)"
      ],
      "metadata": {
        "id": "_BjICDClq403"
      }
    },
    {
      "cell_type": "markdown",
      "source": [
        "***performance:***   \n",
        "With 95% confidence, the treatment group has higher odds of conversion than the control group. The odds of conversion in the treatment group are at least 29.5% higher than in the control group based on the 95% CI lower bound odds ratio of 1.295. This supports the hypothesis that treatment is better than control.\n",
        "\n",
        "***significance:***  \n",
        "Because the interval does not include 1, and the p-value (0.012) is less than alpha (0.050), this result is statistically significant at the 95% confidence level. The practical significance is low (cohen's h = 0.02) but the business impact is high based on domain knowledge.\n",
        "\n",
        "***power:***  \n",
        "Our test was somewhat underpowered (e.g., only ~75% power vs. 80% desired), meaning there was\n",
        "a higher chance we failed to detect a true difference due to limited sample size.\n",
        "As a result, while the effect appears meaningful, we cannot be statistically\n",
        "confident in it without further data and cannot give a confident\n",
        "estimate in incremental revenue from the test."
      ],
      "metadata": {
        "id": "tGULe8_wgW4h"
      }
    },
    {
      "cell_type": "markdown",
      "source": [
        "#Recommendation"
      ],
      "metadata": {
        "id": "hCFaYo9NjOFn"
      }
    },
    {
      "cell_type": "markdown",
      "source": [
        "![Alt text](https://github.com/lindsayalexandra14/ds_portfolio/raw/main/2_images/templates/notebook/headers/lilac/Recommendation.png)"
      ],
      "metadata": {
        "id": "8Bb-_8SVjvMv"
      }
    },
    {
      "cell_type": "markdown",
      "source": [
        "*  In this case, given the constraints in needing to choose a landing page prematurely, I am comfortable enough with the treatment performing some level higher than the control with significance and not vice versa that I recommend moving forward with implementing the treatment"
      ],
      "metadata": {
        "id": "MuqKfzFxjMlh"
      }
    }
  ]
}