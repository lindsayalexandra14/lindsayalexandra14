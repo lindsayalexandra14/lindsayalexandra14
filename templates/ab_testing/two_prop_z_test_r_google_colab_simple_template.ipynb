{
  "cells": [
    {
      "cell_type": "markdown",
      "metadata": {
        "id": "VEoj-VkkCfQK"
      },
      "source": [
        "#Top"
      ]
    },
    {
      "cell_type": "markdown",
      "metadata": {
        "id": "XGYv8GnvBzR6"
      },
      "source": [
        "[![Open in GitHub](https://img.shields.io/badge/Open%20Folder%20in-GitHub-181717?logo=github&logoColor=white)](https://github.com/lindsayalexandra14/ds_portfolio/tree/main/1_projects/statistical_analysis/a_b_testing/large_sample)"
      ]
    },
    {
      "cell_type": "markdown",
      "metadata": {
        "id": "-mlchltjHZ84"
      },
      "source": [
        "[![Open In Colab](https://colab.research.google.com/assets/colab-badge.svg)](https://colab.research.google.com/drive/1ldAYN8DwHW2oxcLv-QSe_8u_LUWMOB27)"
      ]
    },
    {
      "cell_type": "markdown",
      "metadata": {
        "id": "soTnQgfsyr3w"
      },
      "source": [
        "![Alt text](https://github.com/lindsayalexandra14/ds_portfolio/raw/main/2_images/templates/notebook/headers/beige/AB%20Testing%20Large%20Sample%20Size.png)"
      ]
    },
    {
      "cell_type": "markdown",
      "metadata": {
        "id": "-QsWDKinNrlW"
      },
      "source": [
        "**test**\n",
        "*   This hypothetical experiment tests two Landing Pages (control vs. treatment)\n",
        "*   The sample size is 32,000 users\n",
        "*   I will use Z-Test for Two Proportions, which is good for large sample sizes\n",
        "*   I am trying to prove that the treatment performed better than the control because the team is interested in moving forward with the treatment\n",
        "  \n",
        "**result**  \n",
        "*  It was established from the test that the treatment performed better with significance (at alpha=0.05). The treatment has a higher conversion rate than the control by at least 1.71%+ points. The practical significance is very small (cohen's h = 0.06) but the cost of implementing the treatment is low and due to the high volume, there will be high business impact and the revenue will outweigh the cost. The result had the full desired statistical power (>80%)\n",
        "  \n",
        "**recommendation**\n",
        "*  Due to the significance, power, and high business impact, I will recommend moving forward with implementing the treatment\n",
        "\n",
        "**tl;dr for results**\n",
        "\n",
        "*   Skip to \"Results Summary\" at the end\n",
        "\n",
        "\n",
        "\n"
      ]
    },
    {
      "cell_type": "markdown",
      "metadata": {
        "id": "FA1FQ2lOQ0Tn"
      },
      "source": [
        "#Setup"
      ]
    },
    {
      "cell_type": "markdown",
      "metadata": {
        "id": "WZnIt0KczlRU"
      },
      "source": [
        "![Alt text](https://github.com/lindsayalexandra14/ds_portfolio/raw/main/2_images/templates/notebook/headers/beige/Setup.png)"
      ]
    },
    {
      "cell_type": "code",
      "execution_count": null,
      "metadata": {
        "id": "1CpP_a13yx6X",
        "vscode": {
          "languageId": "r"
        }
      },
      "outputs": [],
      "source": [
        "install.packages('pwr')\n",
        "install.packages('glue')"
      ]
    },
    {
      "cell_type": "code",
      "execution_count": 3,
      "metadata": {
        "id": "6sa6eUa66ptJ",
        "vscode": {
          "languageId": "r"
        }
      },
      "outputs": [],
      "source": [
        "library(pwr)\n",
        "library(glue)"
      ]
    },
    {
      "cell_type": "markdown",
      "metadata": {
        "id": "DYvtqdRO0PwD"
      },
      "source": [
        "#Test Design"
      ]
    },
    {
      "cell_type": "markdown",
      "metadata": {
        "id": "Cw0Mx9NG0PKj"
      },
      "source": [
        "![Alt text](https://github.com/lindsayalexandra14/ds_portfolio/raw/main/2_images/templates/notebook/headers/beige/Test%20Design.png)"
      ]
    },
    {
      "cell_type": "code",
      "execution_count": 9,
      "metadata": {
        "colab": {
          "base_uri": "https://localhost:8080/"
        },
        "id": "aMR7MHXWDL8_",
        "outputId": "92abae1e-1e51-4e49-dcdb-a12791a18c86",
        "vscode": {
          "languageId": "r"
        }
      },
      "outputs": [
        {
          "name": "stdout",
          "output_type": "stream",
          "text": [
            "Test Design:\n",
            "\n",
            "Control: 0.14 \n",
            "Treatment: 0.147 \n",
            "Hypothesis: Treatment (0.1470) is greater than Control (0.1400)\n",
            "Minimum Detectable Effect (MDE): 0.007 negligible\n",
            "Effect Size (Cohen's h): 0.020\n",
            "Sample Size: (alternative) greater : n = 31011 \n"
          ]
        }
      ],
      "source": [
        "#Parameters\n",
        "alpha <- 0.05            # Significance level\n",
        "power <- 0.80            # Statistical power (Probability of detecting an effect when it exists; 0.8 is standard)\n",
        "control=0.14             # Baseline rate\n",
        "effect <- 0.05           # Desired relative effect (e.g., 5% lift over baseline)\n",
        "mde <- control * effect   # Minimum Detectable Effect (MDE)\n",
        "  # Minimum difference you want to detect in absolute terms\n",
        "treatment= control + mde  #Treatment rate (includes effect)\n",
        "cat(sprintf(\"Test Design:\\n\"))\n",
        "cat(\"\\n\")\n",
        "cat(paste('Control:', control, \"\\n\"))\n",
        "cat(paste('Treatment:', treatment, \"\\n\"))\n",
        "\n",
        "#Hypothesis\n",
        "p_1=treatment\n",
        "p_2=control\n",
        "p1_label = \"Treatment\"\n",
        "p2_label = \"Control\"\n",
        "\n",
        "alternative = \"greater\" # in reference to p1:\n",
        "# A one-sided test is used when you want to test if one group performs\n",
        "# specifically better or worse than the other (a directional hypothesis).\n",
        "# p1 is \"greater\" than p2\n",
        "# p1 is \"less\" than p2\n",
        "# p1 is different from ()\"two.sided\" p2\n",
        "\n",
        "hypothesis <- switch(alternative,\n",
        "  greater = sprintf(\"%s (%.4f) is greater than %s (%.4f)\", p1_label, p_1, p2_label, p_2),\n",
        "  less = sprintf(\"%s (%.4f) is less than %s (%.4f)\", p1_label, p_1, p2_label, p_2),\n",
        "  two.sided = sprintf(\"%s (%.4f) is different from %s (%.4f)\", p1_label, p_1, p2_label, p_2),\n",
        ")\n",
        "\n",
        "cat(\"Hypothesis:\",hypothesis)\n",
        "\n",
        "# Effect size (Cohen's h: standardized effect size for proportions)\n",
        "\n",
        "effect_size = ES.h(treatment, control)\n",
        "\n",
        "interpret_effect_size <- function(effect_size) {\n",
        "  if (abs(effect_size) < 0.2) return(\"negligible\")\n",
        "  if (abs(effect_size) < 0.5) return(\"small\")\n",
        "  if (abs(effect_size) < 0.8) return(\"medium\")\n",
        "  return(\"large\")\n",
        "}\n",
        "\n",
        "\n",
        "cat(sprintf(\"\\nMinimum Detectable Effect (MDE): %.3f %s\\n\", mde,interpret_effect_size(effect_size)))\n",
        "cat(sprintf(\"Effect Size (Cohen's h): %.3f\\n\", effect_size))\n",
        "\n",
        "#Sample Size\n",
        "\n",
        "# determine the minimum number of samples for each group\n",
        "\n",
        "# pwr.2p.test requires inputting the effect size\n",
        "result1 <- pwr.2p.test(h=effect_size, sig.level=alpha, power=power,alternative=alternative)\n",
        "\n",
        "# Inputting effect\n",
        "cat(paste(\"Sample Size: (alternative)\", alternative, \": n =\", round(result1$n)), \"\\n\")"
      ]
    },
    {
      "cell_type": "markdown",
      "metadata": {
        "id": "9OQDglquWROz"
      },
      "source": [
        "Cohen's h benchmarks:\n",
        "\n",
        "0.2 = small effect\n",
        "\n",
        "0.5 = medium effect\n",
        "\n",
        "0.8 = large effect\n",
        "\n",
        "If the effect is tiny, it will require a very large sample size to detect."
      ]
    },
    {
      "cell_type": "markdown",
      "metadata": {
        "id": "6Yf_ZR6kkDgj"
      },
      "source": [
        "#Results"
      ]
    },
    {
      "cell_type": "markdown",
      "metadata": {
        "id": "rIIlrX0z0bPQ"
      },
      "source": [
        "![Alt text](https://github.com/lindsayalexandra14/ds_portfolio/raw/main/2_images/templates/notebook/headers/beige/Results.png)"
      ]
    },
    {
      "cell_type": "code",
      "execution_count": 23,
      "metadata": {
        "colab": {
          "base_uri": "https://localhost:8080/"
        },
        "id": "EkpHlrkJzgpH",
        "outputId": "77eed208-91a1-48d2-bb3c-da68019778b9",
        "vscode": {
          "languageId": "r"
        }
      },
      "outputs": [
        {
          "name": "stdout",
          "output_type": "stream",
          "text": [
            "Results:\n",
            "\n",
            "p1: Treatment Conversion Rate: 15.6%\n",
            "p2: Control Conversion Rate: 13.44%\n",
            "\n",
            "Result Hypothesis: Treatment (0.1560) is greater than Control (0.1344)\n",
            "\n",
            "Absolute difference: 0.022 (2.2%)\n",
            "Uplift: 16.1%\n",
            "Cohen's h: 0.061\n",
            "Effect size interpretation: negligible\n",
            "\n",
            "\t2-sample test for equality of proportions without continuity correction\n",
            "\n",
            "data:  x out of n\n",
            "X-squared = 60.366, df = 1, p-value = 3.938e-15\n",
            "alternative hypothesis: greater\n",
            "95 percent confidence interval:\n",
            " 0.01705418 1.00000000\n",
            "sample estimates:\n",
            "   prop 1    prop 2 \n",
            "0.1560062 0.1343750 \n",
            "\n",
            "[1] \"p-value: 0.0000\"\n",
            "[1] \"95 % confidence interval: [ 0.0170541815700391 , 1 ]\"\n",
            "\n",
            "Treatment 95% CI: 0.1520 to 0.1600\n",
            "Control 95% CI: 0.1306 to 0.1381\n",
            "\n",
            "     Difference of proportion power calculation for binomial distribution (arcsine transformation) \n",
            "\n",
            "              h = 0.06144038\n",
            "              n = 32024.98\n",
            "      sig.level = 0.05\n",
            "          power = 1\n",
            "    alternative = greater\n",
            "\n",
            "NOTE: same sample sizes\n",
            "\n",
            "Result Power: 100 %\n",
            "\n"
          ]
        }
      ],
      "source": [
        "cat(\"Results:\")\n",
        "cat(\"\\n\")\n",
        "\n",
        "# Data\n",
        "n_observations_control <- 32000\n",
        "n_observations_treatment <- 32050\n",
        "\n",
        "conversions_control <- 4300\n",
        "conversions_treatment <- 5000\n",
        "\n",
        "n1 <- n_observations_treatment\n",
        "n2 <- n_observations_control\n",
        "\n",
        "# print(p1_label) # set above in test design\n",
        "# print(p2_label)\n",
        "\n",
        "# Conversion Rates\n",
        "conv_rate_control = (conversions_control / n_observations_control)\n",
        "conv_rate_treatment = (conversions_treatment / n_observations_treatment)\n",
        "\n",
        "p1=conv_rate_treatment #assign p1 vs. p2, test alternative references p1\n",
        "p2=conv_rate_control\n",
        "\n",
        "c1=conversions_treatment\n",
        "c2=conversions_control\n",
        "\n",
        "n1=n_observations_treatment\n",
        "n2=n_observations_control\n",
        "\n",
        "cat(\"\\n\")\n",
        "print(glue(\"p1: \",\"{p1_label} Conversion Rate: {round(p1 * 100, 2)}%\"))\n",
        "print(glue(\"p2: \",\"{p2_label} Conversion Rate: {round(p2 * 100, 2)}%\"))\n",
        "\n",
        "# Result Hypothesis\n",
        "result_hypothesis <- switch(alternative,\n",
        "  greater = sprintf(\"%s (%.4f) is greater than %s (%.4f)\", p1_label, p1, p2_label, p2),\n",
        "  less = sprintf(\"%s (%.4f) is less than %s (%.4f)\", p1_label, p1, p2_label, p2),\n",
        "  two.sided = sprintf(\"%s (%.4f) is different from %s (%.4f)\", p1_label, p1, p2_label, p2),\n",
        ")\n",
        "cat(\"\\n\")\n",
        "cat(\"Result Hypothesis:\",result_hypothesis)\n",
        "cat(\"\\n\")\n",
        "cat(\"\\n\")\n",
        "\n",
        "# Uplift\n",
        "uplift = (p1 - p2) / p2\n",
        "\n",
        "# Absolute Difference\n",
        "abs_diff = abs(p1 - p2)\n",
        "\n",
        "# Cohen's h function\n",
        "proportion_effectsize <- function(p1, p2) {\n",
        "  2 * asin(sqrt(p1)) - 2 * asin(sqrt(p2))\n",
        "}\n",
        "\n",
        "h <- proportion_effectsize(p1, p2)\n",
        "\n",
        "# Interpret effect size\n",
        "interpret_h <- function(h) {\n",
        "  if (abs(h) < 0.2) return(\"negligible\")\n",
        "  if (abs(h) < 0.5) return(\"small\")\n",
        "  if (abs(h) < 0.8) return(\"medium\")\n",
        "  return(\"large\")\n",
        "}\n",
        "cat(sprintf(\"Absolute difference: %.3f (%.1f%%)\\n\", abs_diff, abs_diff * 100))\n",
        "print(glue(\"Uplift: {round(uplift * 100, 2)}%\"))\n",
        "cat(sprintf(\"Cohen's h: %.3f\\n\", h))\n",
        "cat(sprintf(\"Effect size interpretation: %s\\n\", interpret_h(h)))\n",
        "\n",
        "#z-test\n",
        "x <- c(c1, c2)  # successes\n",
        "n <- c(n1, n2)  # totals\n",
        "\n",
        "# Run two-proportion test\n",
        "# Correction not needed with large sample size\n",
        "test_result <- prop.test(x = x, n = n, alternative = alternative, correct = FALSE)\n",
        "\n",
        "print(test_result)\n",
        "\n",
        "# Extract p-value from result\n",
        "p_value <- test_result$p.value\n",
        "\n",
        "print(sprintf(\"p-value: %.4f\", p_value))\n",
        "\n",
        "# Extract confidence interval (for the difference in proportions):\n",
        "conf_int <- test_result$conf.int\n",
        "\n",
        "print(paste((1-alpha)*100,\"%\",\"confidence interval: [\",conf_int[1],\",\",conf_int[2],']'))\n",
        "cat(\"\\n\")\n",
        "\n",
        "# Confidence interval for conversion rate:\n",
        "se_p1 <- sqrt(p1 * (1 - p1) / n1)\n",
        "lower_ci_p1 <- p1 - 1.96 * se_p1\n",
        "upper_ci_p1 <- p1 + 1.96 * se_p1\n",
        "\n",
        "cat(sprintf(\"%s 95%% CI: %.4f to %.4f\\n\",p1_label, lower_ci_p1, upper_ci_p1))\n",
        "\n",
        "se_p2 <- sqrt(p2 * (1 - p2) / n2)\n",
        "lower_ci_p2 <- p2 - 1.96 * se_p2\n",
        "upper_ci_p2 <- p2 + 1.96 * se_p2\n",
        "\n",
        "cat(sprintf(\"%s 95%% CI: %.4f to %.4f\\n\",p2_label, lower_ci_p2, upper_ci_p2))\n",
        "\n",
        "# Effective sample size (harmonic mean for unequal n)\n",
        "n_effective <- (2 * n1 * n2) / (n1 + n2)\n",
        "\n",
        "# Calculate power\n",
        "power_result <- pwr.2p.test(h = h, n = n_effective, sig.level = alpha, alternative = alternative)\n",
        "print(power_result)\n",
        "\n",
        "# Extract the power\n",
        "power_pct <- round(power_result$power * 100, 1)\n",
        "\n",
        "cat(\"Result Power:\", power_pct, \"%\\n\\n\")\n",
        "\n"
      ]
    },
    {
      "cell_type": "markdown",
      "metadata": {
        "id": "8DTH8pW2XaVc"
      },
      "source": [
        "# Results Summary"
      ]
    },
    {
      "cell_type": "markdown",
      "metadata": {
        "id": "ckoivvmW1IAB"
      },
      "source": [
        "![Alt text](https://github.com/lindsayalexandra14/ds_portfolio/raw/main/2_images/templates/notebook/headers/beige/Results%20Summary.png)"
      ]
    },
    {
      "cell_type": "markdown",
      "metadata": {
        "id": "x3RPAHj55IMO"
      },
      "source": [
        "***performance:***.\n",
        "With 95% confidence, the treatment has a higher conversion rate than the control by at least 1.71%+ points (based on the lower bound CI of 0.0171). This supports the hypothesis that treatment is better than control.\n",
        "\n",
        "***significance:***.\n",
        "Because the p-value (0.000) is less than alpha (0.050), and the 95% confidence interval for the difference does not contain 0, this result is statistically significant at the 95% confidence level. The practical significance is low (cohen's h = 0.06) but the business impact is high based on domain knowledge.\n",
        "\n",
        "***power:***.\n",
        "Our test was adequately powered (e.g., ~100% power vs. 80% desired), meaning we had a strong chance of detecting a true difference if one existed."
      ]
    },
    {
      "cell_type": "markdown",
      "metadata": {
        "id": "EduC7deS37Ul"
      },
      "source": [
        "If you repeated your experiment or data collection many times under the same conditions, then 95% of those calculated confidence intervals would contain the true population conversion rate"
      ]
    },
    {
      "cell_type": "markdown",
      "metadata": {
        "id": "nSlAjbXN6AuG"
      },
      "source": [
        "#Recommendation"
      ]
    },
    {
      "cell_type": "markdown",
      "metadata": {
        "id": "j4QHe5g-48d1"
      },
      "source": [
        "![Alt text](https://github.com/lindsayalexandra14/ds_portfolio/raw/main/2_images/templates/notebook/headers/beige/Recommendation.png)"
      ]
    },
    {
      "cell_type": "markdown",
      "metadata": {
        "id": "W1vGMe4R56Z1"
      },
      "source": [
        "Due to the significance, power, and high business impact, I will recommend moving forward with implementing the treatment\n",
        "\n"
      ]
    }
  ],
  "metadata": {
    "colab": {
      "provenance": []
    },
    "kernelspec": {
      "display_name": "R",
      "name": "ir"
    },
    "language_info": {
      "name": "R"
    }
  },
  "nbformat": 4,
  "nbformat_minor": 0
}
