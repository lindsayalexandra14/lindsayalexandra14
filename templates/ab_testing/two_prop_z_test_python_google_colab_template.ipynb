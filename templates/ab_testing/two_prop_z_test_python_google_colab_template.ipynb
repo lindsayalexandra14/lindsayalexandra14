{
  "nbformat": 4,
  "nbformat_minor": 0,
  "metadata": {
    "colab": {
      "provenance": []
    },
    "kernelspec": {
      "name": "python3",
      "display_name": "Python 3"
    },
    "language_info": {
      "name": "python"
    }
  },
  "cells": [
    {
      "cell_type": "markdown",
      "source": [
        "#Top"
      ],
      "metadata": {
        "id": "VEoj-VkkCfQK"
      }
    },
    {
      "cell_type": "markdown",
      "source": [
        "[![Open in GitHub](https://img.shields.io/badge/Open%20Folder%20in-GitHub-181717?logo=github&logoColor=white)](https://github.com/lindsayalexandra14/lindsayalexandra14/tree/main/templates/ab_testing)"
      ],
      "metadata": {
        "id": "XGYv8GnvBzR6"
      }
    },
    {
      "cell_type": "markdown",
      "source": [
        "[![Open In Colab](https://colab.research.google.com/assets/colab-badge.svg)](https://colab.research.google.com/drive/17cZWoW5lvq5EGTlWNSdCw3sjgT8vLxNI)"
      ],
      "metadata": {
        "id": "-mlchltjHZ84"
      }
    },
    {
      "cell_type": "markdown",
      "source": [
        "![Alt text](https://github.com/lindsayalexandra14/ds_portfolio/raw/main/2_images/templates/notebook/headers/beige/AB%20Testing%20Large%20Sample%20Size.png)"
      ],
      "metadata": {
        "id": "soTnQgfsyr3w"
      }
    },
    {
      "cell_type": "markdown",
      "source": [
        "**summary**\n",
        "*   This hypothetical experiment tests two Landing Pages (control vs. treatment)\n",
        "*   The sample size is 30,000 users\n",
        "*   I will use Z-Test for Two Proportions, which is good for large sample sizes\n",
        "*   I am trying to prove that the treatment performed better than the control because the team is interested in moving forward with the treatment\n",
        "*  It was established from the test that the treatment performed better with significance (at alpha=0.05). The practical significance is low (cohen's h = 0.29). It did not have the full desired statistical power (70% vs. 80%)\n",
        "*  In this case, I am comfortable enough with the treatment performing some level higher than the control with significance and not vice versa that I will recommend moving forward with implementing the treatment\n",
        "\n",
        "**tl;dr for results**\n",
        "\n",
        "*   Skip to \"Results Summary\" at the end\n",
        "\n",
        "\n",
        "\n"
      ],
      "metadata": {
        "id": "-QsWDKinNrlW"
      }
    },
    {
      "cell_type": "markdown",
      "source": [
        "#Setup"
      ],
      "metadata": {
        "id": "FA1FQ2lOQ0Tn"
      }
    },
    {
      "cell_type": "markdown",
      "source": [
        "![Alt text](https://github.com/lindsayalexandra14/ds_portfolio/raw/main/2_images/templates/notebook/headers/beige/Setup.png)"
      ],
      "metadata": {
        "id": "WZnIt0KczlRU"
      }
    },
    {
      "cell_type": "markdown",
      "source": [
        "##Import Libraries"
      ],
      "metadata": {
        "id": "HoHN_A4gXBgS"
      }
    },
    {
      "cell_type": "markdown",
      "source": [
        "![Alt text](https://github.com/lindsayalexandra14/ds_portfolio/raw/main/2_images/templates/notebook/headers/beige/Import%20Libraries.png)"
      ],
      "metadata": {
        "id": "yZvxPfaZ0Gq0"
      }
    },
    {
      "cell_type": "code",
      "source": [
        "from statsmodels.stats.power import NormalIndPower\n",
        "from statsmodels.stats.proportion import proportion_effectsize\n",
        "from statsmodels.stats.proportion import proportions_ztest, proportion_confint\n",
        "from statsmodels.stats.proportion import confint_proportions_2indep\n",
        "import numpy as np\n",
        "from statsmodels.stats.proportion import proportions_ztest\n",
        "import textwrap\n",
        "from statsmodels.stats.power import TTestIndPower\n",
        "import math"
      ],
      "metadata": {
        "id": "1CpP_a13yx6X"
      },
      "execution_count": null,
      "outputs": []
    },
    {
      "cell_type": "markdown",
      "source": [
        "#Test Design"
      ],
      "metadata": {
        "id": "DYvtqdRO0PwD"
      }
    },
    {
      "cell_type": "markdown",
      "source": [
        "![Alt text](https://github.com/lindsayalexandra14/ds_portfolio/raw/main/2_images/templates/notebook/headers/beige/Test%20Design.png)"
      ],
      "metadata": {
        "id": "Cw0Mx9NG0PKj"
      }
    },
    {
      "cell_type": "markdown",
      "source": [
        "##Parameters"
      ],
      "metadata": {
        "id": "a03pY0PVDNx6"
      }
    },
    {
      "cell_type": "code",
      "source": [
        "alpha = 0.05            # Significance level\n",
        "power = 0.80            # Statistical power (Probability of detecting an effect when it exists; 0.8 is standard)\n",
        "control = 0.14             # Baseline rate\n",
        "effect = 0.05           # Desired relative effect (e.g., 5% lift over baseline)\n",
        "mde = control * effect   # Minimum Detectable Effect (MDE)\n",
        "  # Minimum difference you want to detect in absolute terms\n",
        "  # It is the absolute difference between the proportions\n",
        "  # e.g., 5% of a 16% baseline = 0.008. Or want 23% to go to 24% = 1% MDE\n",
        "treatment = control + mde  #Treatment rate (includes effect)\n",
        "print(f\"Control: {control:.4f}\")\n",
        "print(f\"Treatment: {treatment:.4f}\")"
      ],
      "metadata": {
        "colab": {
          "base_uri": "https://localhost:8080/"
        },
        "id": "aMR7MHXWDL8_",
        "outputId": "6bb55e32-ac64-4528-ad3c-e9a79710241b"
      },
      "execution_count": null,
      "outputs": [
        {
          "output_type": "stream",
          "name": "stdout",
          "text": [
            "Control: 0.1400\n",
            "Treatment: 0.1470\n"
          ]
        }
      ]
    },
    {
      "cell_type": "code",
      "source": [
        "p_1=treatment\n",
        "p_2=control\n",
        "p1_label = \"Treatment\"\n",
        "p2_label = \"Control\"\n",
        "\n",
        "alternative = \"larger\" # in reference to p1:\n",
        "# p1 is \"greater\" than p2\n",
        "# p1 is \"less\" than p2\n",
        "# p1 is different from ()\"two.sided\" p2\n",
        "\n",
        "hypothesis_dict = {\n",
        "    \"larger\":  f\"{p1_label} ({p_1:.4f}) is larger than {p2_label} ({p_2:.4f})\",\n",
        "    \"smaller\":     f\"{p1_label} ({p_1:.4f}) is smaller than {p2_label} ({p_2:.4f})\",\n",
        "    \"two-sided\":f\"{p1_label} ({p_1:.4f}) is different from {p2_label} ({p_2:.4f})\"\n",
        "}\n",
        "\n",
        "# Get message based on the 'alternative'\n",
        "hypothesis = hypothesis_dict.get(alternative, \"Invalid alternative\")\n",
        "\n",
        "print(\"Hypothesis:\", hypothesis)\n"
      ],
      "metadata": {
        "colab": {
          "base_uri": "https://localhost:8080/"
        },
        "id": "cfAPtE1jEtCS",
        "outputId": "7342ae68-5327-4fe9-dfe5-8ad7401c6824"
      },
      "execution_count": null,
      "outputs": [
        {
          "output_type": "stream",
          "name": "stdout",
          "text": [
            "Hypothesis: Treatment (0.1470) is larger than Control (0.1400)\n"
          ]
        }
      ]
    },
    {
      "cell_type": "markdown",
      "source": [
        "##Effect size"
      ],
      "metadata": {
        "id": "OD6U-ny5XF6t"
      }
    },
    {
      "cell_type": "markdown",
      "source": [
        "![Alt text](https://github.com/lindsayalexandra14/ds_portfolio/raw/main/2_images/templates/notebook/headers/beige/Effect%20Size.png)"
      ],
      "metadata": {
        "id": "PdoyHO8I0TTa"
      }
    },
    {
      "cell_type": "code",
      "source": [
        "# Cohen's h (standardized effect size for proportions)\n",
        "effect_size = proportion_effectsize(p_1, p_2)\n",
        "\n",
        "print(f\"Control: {control:.4f}\")\n",
        "print(f\"Treatment: {treatment:.4f}\")\n",
        "print(f\"Minimum Detectable Effect (MDE): {mde:.3f}\")\n",
        "print('Effect size for p_1={0:.4f} p_2={1:.4f} is: {2:0.3f}'.format(p_1,p_2,effect_size))"
      ],
      "metadata": {
        "colab": {
          "base_uri": "https://localhost:8080/"
        },
        "id": "uUuXpakhVeYG",
        "outputId": "eba1e7bd-2cfe-4f89-e39d-3149c8e3b8af"
      },
      "execution_count": null,
      "outputs": [
        {
          "output_type": "stream",
          "name": "stdout",
          "text": [
            "Control: 0.1400\n",
            "Treatment: 0.1470\n",
            "Minimum Detectable Effect (MDE): 0.007\n",
            "Effect size for p_1=0.1470 p_2=0.1400 is: 0.020\n"
          ]
        }
      ]
    },
    {
      "cell_type": "markdown",
      "source": [
        "Cohen's h benchmarks:\n",
        "\n",
        "0.2 = small effect\n",
        "\n",
        "0.5 = medium effect\n",
        "\n",
        "0.8 = large effect\n",
        "\n",
        "If the effect is tiny, it will require a very large sample size to detect."
      ],
      "metadata": {
        "id": "9OQDglquWROz"
      }
    },
    {
      "cell_type": "markdown",
      "source": [
        "*   Effect is translated into Cohen’s h\n",
        "*   It is a way to quantify how big the difference between two proportions is, on a standardized scale  \n",
        "*   Absolute differences (like +2%) are different on a baseline of 5% vs 50%\n",
        "*   Puts differences on a common scale, to compare effect sizes fairly across experiments\n",
        "*   Demonstrates practical meaning (vs. just statistical significance)"
      ],
      "metadata": {
        "id": "KnOrqBWDYovf"
      }
    },
    {
      "cell_type": "markdown",
      "source": [
        "##Sample Size"
      ],
      "metadata": {
        "id": "_f3S0i5mftm4"
      }
    },
    {
      "cell_type": "markdown",
      "source": [
        "![Alt text](https://github.com/lindsayalexandra14/ds_portfolio/raw/main/2_images/templates/notebook/headers/beige/Sample%20Size.png)"
      ],
      "metadata": {
        "id": "Gz9OoNJp0Wwu"
      }
    },
    {
      "cell_type": "markdown",
      "source": [
        "Calculate minimum sample size for each group (cell) for one-sided and two-sided tests:\n",
        "*   A one-sided test is used when you want to test if one group performs specifically better or worse than the other (a directional hypothesis).\n",
        "*   A two-sided test is used when you want to test if there is any difference between the groups, regardless of direction — whether one is better or worse."
      ],
      "metadata": {
        "id": "rXocQ1R7XqxQ"
      }
    },
    {
      "cell_type": "code",
      "source": [
        "# initialize power analysis\n",
        "power_analysis = NormalIndPower()\n",
        "\n",
        "# determine the minimum samples for each group (one-sided test)\n",
        "n = power_analysis.solve_power(effect_size=effect_size, alpha=alpha, power=power,\n",
        "ratio=1, alternative=alternative)\n",
        "print('Sample size/Number needed in each group for one-sided test: {:.3f}'.format(n))\n",
        "\n",
        "# two-sided test\n",
        "n = power_analysis.solve_power(effect_size=effect_size, alpha=alpha, power=power,\n",
        "ratio=1, alternative='two-sided')\n",
        "print('Sample size/Number needed in each group for two-sided test: {:.3f}'.format(n))\n"
      ],
      "metadata": {
        "colab": {
          "base_uri": "https://localhost:8080/"
        },
        "id": "wB__CtSE5vCI",
        "outputId": "84363448-34f6-4e22-8784-5272518c53b2"
      },
      "execution_count": null,
      "outputs": [
        {
          "output_type": "stream",
          "name": "stdout",
          "text": [
            "Sample size/Number needed in each group for one-sided test: 31011.454\n",
            "Sample size/Number needed in each group for two-sided test: 39369.563\n"
          ]
        }
      ]
    },
    {
      "cell_type": "markdown",
      "source": [
        "#Results"
      ],
      "metadata": {
        "id": "6Yf_ZR6kkDgj"
      }
    },
    {
      "cell_type": "markdown",
      "source": [
        "![Alt text](https://github.com/lindsayalexandra14/ds_portfolio/raw/main/2_images/templates/notebook/headers/beige/Results.png)"
      ],
      "metadata": {
        "id": "rIIlrX0z0bPQ"
      }
    },
    {
      "cell_type": "markdown",
      "source": [
        "##Data"
      ],
      "metadata": {
        "id": "YtIPKg6UbGC4"
      }
    },
    {
      "cell_type": "markdown",
      "source": [
        "![Alt text](https://github.com/lindsayalexandra14/ds_portfolio/raw/main/2_images/templates/notebook/headers/beige/Data.png)"
      ],
      "metadata": {
        "id": "rzYRmPhj0dOj"
      }
    },
    {
      "cell_type": "markdown",
      "source": [
        "###Import Data"
      ],
      "metadata": {
        "id": "pmp3911PRlHc"
      }
    },
    {
      "cell_type": "markdown",
      "source": [
        "![Alt text](https://github.com/lindsayalexandra14/ds_portfolio/raw/main/2_images/templates/notebook/headers/beige/Import%20Data.png)"
      ],
      "metadata": {
        "id": "1NVCSamQ0gWe"
      }
    },
    {
      "cell_type": "markdown",
      "source": [
        "From a dataset:"
      ],
      "metadata": {
        "id": "3onXfGSQRcVR"
      }
    },
    {
      "cell_type": "code",
      "source": [
        "#df_data="
      ],
      "metadata": {
        "id": "LlDAgiCPRg7X"
      },
      "execution_count": null,
      "outputs": []
    },
    {
      "cell_type": "markdown",
      "source": [
        "Manually input:"
      ],
      "metadata": {
        "id": "hkSyymUGReB-"
      }
    },
    {
      "cell_type": "code",
      "source": [
        "n_observations_control = 32000\n",
        "n_observations_treatment = 32050\n",
        "\n",
        "conversions_control = 4300\n",
        "conversions_treatment = 5000"
      ],
      "metadata": {
        "id": "EkpHlrkJzgpH"
      },
      "execution_count": null,
      "outputs": []
    },
    {
      "cell_type": "code",
      "source": [
        "print(p1_label) # set above in test design\n",
        "print(p2_label)"
      ],
      "metadata": {
        "colab": {
          "base_uri": "https://localhost:8080/"
        },
        "id": "OWB6rXsBejmT",
        "outputId": "3494637d-7b27-4d60-bef3-3f5b22e6fbef"
      },
      "execution_count": null,
      "outputs": [
        {
          "output_type": "stream",
          "name": "stdout",
          "text": [
            "Treatment\n",
            "Control\n"
          ]
        }
      ]
    },
    {
      "cell_type": "markdown",
      "source": [
        "##Conversion Rates:"
      ],
      "metadata": {
        "id": "Gbke0NJBR6Lb"
      }
    },
    {
      "cell_type": "markdown",
      "source": [
        "![Alt text](https://github.com/lindsayalexandra14/ds_portfolio/raw/main/2_images/templates/notebook/headers/beige/Conversion%20Rates.png)"
      ],
      "metadata": {
        "id": "oEjB47Gg0lz9"
      }
    },
    {
      "cell_type": "code",
      "source": [
        "conv_rate_control = (conversions_control / n_observations_control)\n",
        "conv_rate_treatment = (conversions_treatment / n_observations_treatment)\n",
        "\n",
        "p1=conv_rate_treatment #assign p1 vs. p2, test alternative references p1\n",
        "p2=conv_rate_control\n",
        "\n",
        "c1=conversions_treatment\n",
        "c2=conversions_control\n",
        "\n",
        "n1=n_observations_treatment\n",
        "n2=n_observations_control\n",
        "\n",
        "uplift = (p1 - p2) / p2\n",
        "\n",
        "abs_diff = abs(p1 - p2)\n",
        "\n",
        "count = np.array([conversions_treatment, conversions_control])\n",
        "nobs = np.array([n_observations_treatment, n_observations_control])\n",
        "\n",
        "print(\"The conversion rate in our control group is: \"+\"{:.2%}\".format(conv_rate_control))\n",
        "print(\"The conversion rate in our treatment group is: \"+\"{:.2%}\".format(conv_rate_treatment))\n",
        "print(\"\")\n",
        "print(\"The relative uplift is: \"+\"{:.2%}\".format(uplift))\n",
        "print((\"Absolute difference: \"+\"{:.2%}\".format(abs_diff)))"
      ],
      "metadata": {
        "id": "8fgZr4SGtJus",
        "colab": {
          "base_uri": "https://localhost:8080/"
        },
        "outputId": "5245838c-8e7f-49cd-bb0e-78129a7db6a0"
      },
      "execution_count": null,
      "outputs": [
        {
          "output_type": "stream",
          "name": "stdout",
          "text": [
            "The conversion rate in our control group is: 13.44%\n",
            "The conversion rate in our treatment group is: 15.60%\n",
            "\n",
            "The relative uplift is: 16.10%\n",
            "Absolute difference: 2.16%\n"
          ]
        }
      ]
    },
    {
      "cell_type": "markdown",
      "source": [
        "Check parameters and change if needed:"
      ],
      "metadata": {
        "id": "OAEzDSWPy3CP"
      }
    },
    {
      "cell_type": "code",
      "source": [
        "print(alternative)\n",
        "print(alpha)\n",
        "print(power)"
      ],
      "metadata": {
        "id": "wCi-KHDUynMm",
        "colab": {
          "base_uri": "https://localhost:8080/"
        },
        "outputId": "4a102369-db24-4eca-fcbc-1591dd1f0bcf"
      },
      "execution_count": null,
      "outputs": [
        {
          "output_type": "stream",
          "name": "stdout",
          "text": [
            "larger\n",
            "0.05\n",
            "0.8\n"
          ]
        }
      ]
    },
    {
      "cell_type": "code",
      "source": [
        "result_hypothesis_dict = {\n",
        "    \"larger\":  f\"{p1_label} ({p1:.4f}) is greater than {p2_label} ({p2:.4f})\",\n",
        "    \"smaller\":     f\"{p1_label} ({p1:.4f}) is less than {p2_label} ({p2:.4f})\",\n",
        "    \"two-sided\":f\"{p1_label} ({p1:.4f}) is different from {p2_label} ({p2:.4f})\"\n",
        "}\n",
        "\n",
        "result_hypothesis = result_hypothesis_dict.get(alternative, \"Invalid alternative\")\n",
        "\n",
        "print(\"Result Hypothesis:\", result_hypothesis)"
      ],
      "metadata": {
        "colab": {
          "base_uri": "https://localhost:8080/"
        },
        "id": "C6e9LN92VML7",
        "outputId": "0c298390-017b-4f7d-f389-558774b6ac53"
      },
      "execution_count": null,
      "outputs": [
        {
          "output_type": "stream",
          "name": "stdout",
          "text": [
            "Result Hypothesis: Treatment (0.1560) is greater than Control (0.1344)\n"
          ]
        }
      ]
    },
    {
      "cell_type": "markdown",
      "source": [
        "##Effect Size:"
      ],
      "metadata": {
        "id": "xrC71ypPR73P"
      }
    },
    {
      "cell_type": "markdown",
      "source": [
        "![Alt text](https://github.com/lindsayalexandra14/ds_portfolio/raw/main/2_images/templates/notebook/headers/beige/Effect%20Size.png)"
      ],
      "metadata": {
        "id": "FD2_7PAg0pJN"
      }
    },
    {
      "cell_type": "code",
      "source": [
        "effect_size = proportion_effectsize(p1, p2)\n",
        "print(\"The effect size is \"+\"{:.2}\".format(effect_size))"
      ],
      "metadata": {
        "colab": {
          "base_uri": "https://localhost:8080/"
        },
        "id": "MgAJM93bARYy",
        "outputId": "c8266b07-3193-42a0-c27d-fbe1a06f3162"
      },
      "execution_count": null,
      "outputs": [
        {
          "output_type": "stream",
          "name": "stdout",
          "text": [
            "The effect size is 0.061\n"
          ]
        }
      ]
    },
    {
      "cell_type": "code",
      "source": [
        "def interpret_h(h):\n",
        "    abs_h = abs(h)\n",
        "    if abs_h < 0.2:\n",
        "        return \"negligible\"\n",
        "    elif abs_h < 0.5:\n",
        "        return \"small\"\n",
        "    elif abs_h < 0.8:\n",
        "        return \"medium\"\n",
        "    else:\n",
        "        return \"large\"\n",
        "\n",
        "h = effect_size\n",
        "interpretation = interpret_h(h)\n",
        "print(f\"Effect size interpretation: {interpretation}\")"
      ],
      "metadata": {
        "colab": {
          "base_uri": "https://localhost:8080/"
        },
        "id": "Zwz0J5R6A0fy",
        "outputId": "6da08cc0-814e-4df2-8ce3-2e346622b809"
      },
      "execution_count": null,
      "outputs": [
        {
          "output_type": "stream",
          "name": "stdout",
          "text": [
            "Effect size interpretation: negligible\n"
          ]
        }
      ]
    },
    {
      "cell_type": "markdown",
      "source": [
        "##z-Test"
      ],
      "metadata": {
        "id": "dBaKK3vekLGr"
      }
    },
    {
      "cell_type": "markdown",
      "source": [
        "![Alt text](https://github.com/lindsayalexandra14/ds_portfolio/raw/main/2_images/templates/notebook/headers/beige/ztest.png)"
      ],
      "metadata": {
        "id": "ksfkj-Xx0sYX"
      }
    },
    {
      "cell_type": "markdown",
      "source": [
        "Run test:"
      ],
      "metadata": {
        "id": "VWrT1q0Ylvn9"
      }
    },
    {
      "cell_type": "code",
      "source": [
        "stat, pval = proportions_ztest(count, nobs, alternative = alternative)\n",
        "print(f\"Z-statistic: {stat:.4f}\")"
      ],
      "metadata": {
        "id": "3hTVTPFh9MO6",
        "colab": {
          "base_uri": "https://localhost:8080/"
        },
        "outputId": "c3aa79ec-d8df-45bb-c283-30afe83f7e5d"
      },
      "execution_count": null,
      "outputs": [
        {
          "output_type": "stream",
          "name": "stdout",
          "text": [
            "Z-statistic: 7.7696\n"
          ]
        }
      ]
    },
    {
      "cell_type": "markdown",
      "source": [
        "##P-value"
      ],
      "metadata": {
        "id": "5rVeo0h9x4LZ"
      }
    },
    {
      "cell_type": "markdown",
      "source": [
        "![Alt text](https://github.com/lindsayalexandra14/ds_portfolio/raw/main/2_images/templates/notebook/headers/beige/Pvalue.png)"
      ],
      "metadata": {
        "id": "I_FK4eC50bb3"
      }
    },
    {
      "cell_type": "code",
      "source": [
        "p_value=pval\n",
        "print('The P-Value is {0:0.4f}'.format(p_value))"
      ],
      "metadata": {
        "colab": {
          "base_uri": "https://localhost:8080/"
        },
        "id": "R98mFE1a-iSP",
        "outputId": "6fcdf10c-f343-4bf7-bae2-da26e4401332"
      },
      "execution_count": null,
      "outputs": [
        {
          "output_type": "stream",
          "name": "stdout",
          "text": [
            "The P-Value is 0.0000\n"
          ]
        }
      ]
    },
    {
      "cell_type": "code",
      "source": [
        "if p_value < alpha:\n",
        "    pvalue_message = (f\"Because the p-value ({p_value:.3f}) is less than alpha ({alpha:.3f}), \"\n",
        "                      f\"this result is statistically significant at the {int((1 - alpha) * 100)}% confidence level.\")\n",
        "else:\n",
        "    pvalue_message = (f\"Because the p-value ({p_value:.3f}) is greater than or equal to alpha ({alpha:.3f}), \"\n",
        "                      f\"this result is not statistically significant at the {int((1 - alpha) * 100)}% confidence level.\")\n",
        "\n",
        "# Wrap text\n",
        "wrapped_pvalue_message = textwrap.fill(pvalue_message, width=80)\n",
        "\n",
        "print(wrapped_pvalue_message)\n"
      ],
      "metadata": {
        "colab": {
          "base_uri": "https://localhost:8080/"
        },
        "id": "17Tmi2Oaxlm2",
        "outputId": "1a3b4b96-1c3a-4408-e729-ffb405fd7c59"
      },
      "execution_count": null,
      "outputs": [
        {
          "output_type": "stream",
          "name": "stdout",
          "text": [
            "Because the p-value (0.000) is less than alpha (0.050), this result is\n",
            "statistically significant at the 95% confidence level.\n"
          ]
        }
      ]
    },
    {
      "cell_type": "markdown",
      "source": [
        "##Confidence Interval"
      ],
      "metadata": {
        "id": "xURzYJxZkOgn"
      }
    },
    {
      "cell_type": "markdown",
      "source": [
        "![Alt text](https://github.com/lindsayalexandra14/ds_portfolio/raw/main/2_images/templates/notebook/headers/beige/Confidence%20Interval.png)"
      ],
      "metadata": {
        "id": "TJZHsKT61At9"
      }
    },
    {
      "cell_type": "code",
      "source": [
        "# Confidence interval\n",
        "ci_low_1, ci_upp_1 = proportion_confint(c1, n1, alpha=alpha, method='normal')\n",
        "ci_low_2, ci_upp_2 = proportion_confint(c2, n2, alpha=alpha, method='normal')\n",
        "\n",
        "print(f\"95% Confidence interval: ({ci_low_1:.4f}, {ci_upp_1:.4f})\")\n",
        "print(f\"95% Confidence interval: ({ci_low_2:.4f}, {ci_upp_2:.4f})\")"
      ],
      "metadata": {
        "colab": {
          "base_uri": "https://localhost:8080/"
        },
        "id": "VduoRV1g0H3w",
        "outputId": "2fb16b55-2ed3-470d-fc6a-5497b9865bd3"
      },
      "execution_count": null,
      "outputs": [
        {
          "output_type": "stream",
          "name": "stdout",
          "text": [
            "95% Confidence interval: (0.1520, 0.1600)\n",
            "95% Confidence interval: (0.1306, 0.1381)\n"
          ]
        }
      ]
    },
    {
      "cell_type": "markdown",
      "source": [
        "If you repeated your experiment or data collection many times under the same conditions, then 95% of those calculated confidence intervals would contain the true population conversion rate"
      ],
      "metadata": {
        "id": "xc7tOwMl3s9c"
      }
    },
    {
      "cell_type": "code",
      "source": [
        "lower, upper = confint_proportions_2indep(c1, n1, c2, n2, method='wald')\n",
        "\n",
        "print(f\"95% CI for difference in proportions ({p1_label} - {p2_label}): ({lower:.4f}, {upper:.4f})\")\n"
      ],
      "metadata": {
        "colab": {
          "base_uri": "https://localhost:8080/"
        },
        "id": "piOiXWge2zYx",
        "outputId": "03f8f429-ccee-490f-f30c-27836f4ecf54"
      },
      "execution_count": null,
      "outputs": [
        {
          "output_type": "stream",
          "name": "stdout",
          "text": [
            "95% CI for difference in proportions (Treatment - Control): (0.0162, 0.0271)\n"
          ]
        }
      ]
    },
    {
      "cell_type": "markdown",
      "source": [
        "The range of values that the true difference in proportions (e.g., conversion rates) could plausibly fall within, given your sample data.\n",
        "\n",
        "You have a point estimate of the difference (e.g., p₁ - p₂)\n",
        "\n",
        "A range (e.g., [-0.0162, 0.0271]) where that true difference likely lies\n",
        "\n",
        "An associated confidence level (e.g., 95%) — meaning:\n",
        "\n",
        "If we repeated this experiment many times, 95% of the time the true difference would fall within this interval.\n",
        "\n",
        "If 0 is not in the confidence interval, the difference in proportions is statistically significant at the specified confidence level.\n",
        "\n",
        "This means there's evidence of a real difference between the two groups."
      ],
      "metadata": {
        "id": "Mbm3gydNF0Wy"
      }
    },
    {
      "cell_type": "markdown",
      "source": [
        "###Interpretation:"
      ],
      "metadata": {
        "id": "qWJrUaDMlzEC"
      }
    },
    {
      "cell_type": "code",
      "source": [
        "lower_ci = lower\n",
        "upper_ci = upper\n",
        "\n",
        "includes_zero = lower_ci <= 0 <= upper_ci\n",
        "confidence_level_percent = (1 - alpha) * 100\n",
        "\n",
        "if includes_zero:\n",
        "    signficance_message = (\n",
        "        f\"Because the interval includes 0, this result is not statistically \"\n",
        "        f\"significant at the {confidence_level_percent:.0f}% confidence level.\"\n",
        "    )\n",
        "else:\n",
        "    signficance_message = (\n",
        "        f\"Because the interval does not include 0, this result is statistically \"\n",
        "        f\"significant at the {confidence_level_percent:.0f}% confidence level.\"\n",
        "    )\n",
        "\n",
        "\n",
        "wrapped_significance_message = textwrap.fill(signficance_message, width=80)\n",
        "print(wrapped_significance_message)\n"
      ],
      "metadata": {
        "colab": {
          "base_uri": "https://localhost:8080/"
        },
        "id": "l-g9OCb9QzPt",
        "outputId": "453f2a7a-7b63-4c0b-9329-21ddaf140953"
      },
      "execution_count": null,
      "outputs": [
        {
          "output_type": "stream",
          "name": "stdout",
          "text": [
            "Because the interval does not include 0, this result is statistically\n",
            "significant at the 95% confidence level.\n"
          ]
        }
      ]
    },
    {
      "cell_type": "markdown",
      "source": [
        "##Statistical Power"
      ],
      "metadata": {
        "id": "NXa50cjNkZxK"
      }
    },
    {
      "cell_type": "markdown",
      "source": [
        "![Alt text](https://github.com/lindsayalexandra14/ds_portfolio/raw/main/2_images/templates/notebook/headers/beige/Statistical%20Power.png)"
      ],
      "metadata": {
        "id": "2rS0ARAb1E8y"
      }
    },
    {
      "cell_type": "code",
      "source": [
        "analysis = TTestIndPower()\n",
        "observed_power = analysis.power(effect_size=effect_size, nobs1=n1, alpha=alpha, ratio=n2/n1, alternative=alternative)\n",
        "# print(\"The observed power is \"+\"{:.4%}\".format(observed_power))\n",
        "\n",
        "\n",
        "desired_power = power\n",
        "\n",
        "if observed_power >= desired_power:\n",
        "    power_message = (\n",
        "        \"The observed power ({:.1%}) is sufficient (>= {:.2f}).\"\n",
        "        .format(observed_power, desired_power)\n",
        "    )\n",
        "else:\n",
        "    power_message = (\n",
        "        \"The observed power ({:.1%}) is insufficient (< {:.0%}), meaning there was a \"\n",
        "        \"higher chance we failed to detect a true difference due to limited sample size. \"\n",
        "        \"As a result, we cannot be statistically confident in it without further data.\"\n",
        "        .format(observed_power, desired_power)\n",
        "    )\n",
        "\n",
        "print(textwrap.fill(power_message, width=80))\n"
      ],
      "metadata": {
        "colab": {
          "base_uri": "https://localhost:8080/"
        },
        "id": "M0Re_JZo_hn4",
        "outputId": "460bfe2f-a32c-4a4b-e2cf-f71ff623f742"
      },
      "execution_count": null,
      "outputs": [
        {
          "output_type": "stream",
          "name": "stdout",
          "text": [
            "The observed power (100.0%) is sufficient (>= 0.80).\n"
          ]
        }
      ]
    },
    {
      "cell_type": "markdown",
      "source": [
        "# Results Summary"
      ],
      "metadata": {
        "id": "8DTH8pW2XaVc"
      }
    },
    {
      "cell_type": "markdown",
      "source": [
        "![Alt text](https://github.com/lindsayalexandra14/ds_portfolio/raw/main/2_images/templates/notebook/headers/beige/Results%20Summary.png)"
      ],
      "metadata": {
        "id": "ckoivvmW1IAB"
      }
    },
    {
      "cell_type": "code",
      "source": [
        "print(\"The conversion rate in our control group is: \"+\"{:.2%}\".format(conv_rate_control))\n",
        "print(\"The conversion rate in our treatment group is: \"+\"{:.2%}\".format(conv_rate_treatment))\n",
        "print(\"\")\n",
        "print(\"The relative uplift is: \"+\"{:.2%}\".format(uplift))\n",
        "print((\"Absolute difference: \"+\"{:.2%}\".format(abs_diff)))\n",
        "print(\"The effect size is \"+\"{:.2}\".format(effect_size))\n",
        "print(f\"Effect size interpretation: {interpretation}\")\n",
        "print(\"\")\n",
        "print(\"Result Hypothesis:\", result_hypothesis)\n",
        "print(\"\")\n",
        "print(f\"Z-statistic: {stat:.4f}\")\n",
        "print(\"\")\n",
        "print(wrapped_pvalue_message)\n",
        "print(\"\")\n",
        "print(f\"95% Confidence interval: ({ci_low_1:.4f}, {ci_upp_1:.4f})\")\n",
        "print(f\"95% Confidence interval: ({ci_low_2:.4f}, {ci_upp_2:.4f})\")\n",
        "print(\"\")\n",
        "print(f\"95% CI for difference in proportions ({p1_label} - {p2_label}): ({lower:.4f}, {upper:.4f})\")\n",
        "print(\"\")\n",
        "print(wrapped_significance_message)\n",
        "print(\"\")\n",
        "print(textwrap.fill(power_message, width=80))"
      ],
      "metadata": {
        "colab": {
          "base_uri": "https://localhost:8080/"
        },
        "id": "ecS4axKIPe3k",
        "outputId": "bc9b1e9e-6339-43ad-df4a-4d29752676a0"
      },
      "execution_count": null,
      "outputs": [
        {
          "output_type": "stream",
          "name": "stdout",
          "text": [
            "The conversion rate in our control group is: 13.44%\n",
            "The conversion rate in our treatment group is: 15.60%\n",
            "\n",
            "The relative uplift is: 16.10%\n",
            "Absolute difference: 2.16%\n",
            "The effect size is 0.061\n",
            "Effect size interpretation: negligible\n",
            "\n",
            "Result Hypothesis: Treatment (0.1560) is greater than Control (0.1344)\n",
            "\n",
            "Z-statistic: 7.7696\n",
            "\n",
            "Because the p-value (0.000) is less than alpha (0.050), this result is\n",
            "statistically significant at the 95% confidence level.\n",
            "\n",
            "95% Confidence interval: (0.1520, 0.1600)\n",
            "95% Confidence interval: (0.1306, 0.1381)\n",
            "\n",
            "95% CI for difference in proportions (Treatment - Control): (0.0162, 0.0271)\n",
            "\n",
            "Because the interval does not include 0, this result is statistically\n",
            "significant at the 95% confidence level.\n",
            "\n",
            "The observed power (100.0%) is sufficient (>= 0.80).\n"
          ]
        }
      ]
    },
    {
      "cell_type": "markdown",
      "source": [
        "#Recommendation"
      ],
      "metadata": {
        "id": "ksV1HnRAEIZx"
      }
    },
    {
      "cell_type": "markdown",
      "source": [
        "![Alt text](https://github.com/lindsayalexandra14/ds_portfolio/raw/main/2_images/templates/notebook/headers/beige/Recommendation.png)"
      ],
      "metadata": {
        "id": "gs1M3jF7EJlR"
      }
    },
    {
      "cell_type": "markdown",
      "source": [
        "Due to the significance, power, and high business impact, I will recommend moving forward with implementing the treatment"
      ],
      "metadata": {
        "id": "ojyiONmiESGq"
      }
    }
  ]
}