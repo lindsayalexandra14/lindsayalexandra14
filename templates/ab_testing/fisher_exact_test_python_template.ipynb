{
  "cells": [
    {
      "cell_type": "markdown",
      "source": [
        "#Top"
      ],
      "metadata": {
        "id": "fynq5p8GJd_C"
      },
      "id": "fynq5p8GJd_C"
    },
    {
      "cell_type": "markdown",
      "source": [
        "[![Open In Colab](https://colab.research.google.com/assets/colab-badge.svg)](https://github.com/lindsayalexandra14/lindsayalexandra14/raw/main/templates/ab_testing/fisher_exact_test_python_template.ipynb)"
      ],
      "metadata": {
        "id": "ZXToZT6qJapv"
      },
      "id": "ZXToZT6qJapv"
    },
    {
      "cell_type": "markdown",
      "source": [
        "*Note: Python version seems to be more conservative for sample size and CI than R*"
      ],
      "metadata": {
        "id": "CLuldrn-AN5x"
      },
      "id": "CLuldrn-AN5x"
    },
    {
      "cell_type": "markdown",
      "source": [
        "![Alt text](https://github.com/lindsayalexandra14/ds_portfolio/raw/main/2_images/templates/notebook/headers/lilac/AB%20Testing%20Landing%20Page%20Small%20Sample%20Size.png)"
      ],
      "metadata": {
        "id": "JD86hPA0JhB9"
      },
      "id": "JD86hPA0JhB9"
    },
    {
      "cell_type": "markdown",
      "source": [
        "**summary**\n",
        "*   This hypothetical experiment tests two Landing Pages (control vs. treatment)\n",
        "*   The initial sample size is 30,000 users but the test gets cut short and our sample is cut to 305 users and I need to use Fisher's Exact Test for small sample sizes where a cell has < 10 users\n",
        "*   The landing page needs to be switched over sooner due to changed timelines, so the results give as much information as I will get about how the treatment performed\n",
        "*   I am trying to prove that the treatment performed better than the control because the team is interested in moving forward with the treatment\n",
        "*  It was established from the test that the treatment performed better with significance (at alpha=0.05). The practical significance is low (cohen's h = 0.02). It did not have the full desired statistical power (75% vs. 80%)\n",
        "*  In this case, given the constraints, I am comfortable enough with the treatment performing some level higher than the control with significance and not vice versa that I will recommend moving forward with implementing the treatment\n",
        "\n",
        "**tl;dr for results**\n",
        "\n",
        "*   Skip to \"Results Summary\" at the end"
      ],
      "metadata": {
        "id": "f5I48K_KJkTm"
      },
      "id": "f5I48K_KJkTm"
    },
    {
      "cell_type": "markdown",
      "source": [
        "#Setup"
      ],
      "metadata": {
        "id": "PHyakBgOJpI8"
      },
      "id": "PHyakBgOJpI8"
    },
    {
      "cell_type": "markdown",
      "source": [
        "![Alt text](https://github.com/lindsayalexandra14/ds_portfolio/raw/main/2_images/templates/notebook/headers/lilac/Setup.png)"
      ],
      "metadata": {
        "id": "83TsiDB0Jq6P"
      },
      "id": "83TsiDB0Jq6P"
    },
    {
      "cell_type": "markdown",
      "source": [
        "##Install packages"
      ],
      "metadata": {
        "id": "7AxuPWBZJsy1"
      },
      "id": "7AxuPWBZJsy1"
    },
    {
      "cell_type": "markdown",
      "source": [
        "![Alt text](https://github.com/lindsayalexandra14/ds_portfolio/raw/main/2_images/templates/notebook/headers/lilac/Install%20Packages.png)"
      ],
      "metadata": {
        "id": "vCSeI2hjJuxa"
      },
      "id": "vCSeI2hjJuxa"
    },
    {
      "cell_type": "markdown",
      "source": [
        "##Import Libraries"
      ],
      "metadata": {
        "id": "6Myutdc2JxGf"
      },
      "id": "6Myutdc2JxGf"
    },
    {
      "cell_type": "markdown",
      "source": [
        "![Alt text](https://github.com/lindsayalexandra14/ds_portfolio/raw/main/2_images/templates/notebook/headers/lilac/Import%20Libraries.png)"
      ],
      "metadata": {
        "id": "ao1ZoF8uJzQt"
      },
      "id": "ao1ZoF8uJzQt"
    },
    {
      "cell_type": "code",
      "source": [
        "import numpy as np\n",
        "import pandas as pd\n",
        "import scipy.stats as stats\n",
        "from math import asin, sqrt\n",
        "import math\n",
        "import textwrap\n",
        "from scipy.stats import fisher_exact\n",
        "from statsmodels.stats.contingency_tables import Table2x2"
      ],
      "metadata": {
        "id": "kHRzG4H5J7_B"
      },
      "id": "kHRzG4H5J7_B",
      "execution_count": 1,
      "outputs": []
    },
    {
      "cell_type": "markdown",
      "source": [
        "#Test Design"
      ],
      "metadata": {
        "id": "Ry4NX-1gJ1SW"
      },
      "id": "Ry4NX-1gJ1SW"
    },
    {
      "cell_type": "markdown",
      "source": [
        "![Alt text](https://github.com/lindsayalexandra14/ds_portfolio/raw/main/2_images/templates/notebook/headers/lilac/Test%20Design%20Dark.png)"
      ],
      "metadata": {
        "id": "tghpuUhfJ3Ph"
      },
      "id": "tghpuUhfJ3Ph"
    },
    {
      "cell_type": "markdown",
      "source": [
        "##Parameters"
      ],
      "metadata": {
        "id": "eOLyT7prJ_xl"
      },
      "id": "eOLyT7prJ_xl"
    },
    {
      "cell_type": "code",
      "source": [
        "alpha = 0.05             # Significance level\n",
        "power = 0.80             # Desired statistical power\n",
        "                         #(Probability of detecting an effect when it exists; 0.8 is standard)\n",
        "control = 0.14           # Baseline conversion rate\n",
        "effect = 0.05            # Relative effect size (5% lift over basline)\n",
        "mde = control * effect   # Minimum Detectable Effect (absolute difference)\n",
        "treatment = control + mde  # Treatment conversion rate with lift\n",
        "\n",
        "print(f\"Control: {control:.4f}\")\n",
        "print(f\"Treatment: {treatment:.4f}\")"
      ],
      "metadata": {
        "colab": {
          "base_uri": "https://localhost:8080/"
        },
        "id": "wMOcjIvjKUOZ",
        "outputId": "30dcec09-3ffd-43a6-92ba-ffbd2750a1aa"
      },
      "id": "wMOcjIvjKUOZ",
      "execution_count": 2,
      "outputs": [
        {
          "output_type": "stream",
          "name": "stdout",
          "text": [
            "Control: 0.1400\n",
            "Treatment: 0.1470\n"
          ]
        }
      ]
    },
    {
      "cell_type": "code",
      "source": [
        "# Assign group labels\n",
        "p_1 = treatment\n",
        "p_2 = control\n",
        "p1_label = \"Treatment\"\n",
        "p2_label = \"Control\"\n",
        "alternative = \"greater\"  # 'greater', 'less', or 'two-sided'"
      ],
      "metadata": {
        "id": "rL88pXSnKW8e"
      },
      "id": "rL88pXSnKW8e",
      "execution_count": 3,
      "outputs": []
    },
    {
      "cell_type": "code",
      "source": [
        "# Hypothesis Statement\n",
        "if alternative == \"greater\":\n",
        "    hypothesis = f\"{p1_label} ({p_1:.4f}) is greater than {p2_label} ({p_2:.4f})\"\n",
        "elif alternative == \"less\":\n",
        "    hypothesis = f\"{p1_label} ({p_1:.4f}) is less than {p2_label} ({p_2:.4f})\"\n",
        "else:\n",
        "    hypothesis = f\"{p1_label} ({p_1:.4f}) is different from {p2_label} ({p_2:.4f})\"\n",
        "\n",
        "print(\"Hypothesis:\", hypothesis)"
      ],
      "metadata": {
        "colab": {
          "base_uri": "https://localhost:8080/"
        },
        "id": "0synwdwrKcJQ",
        "outputId": "1b215cb7-a0ee-4560-f17e-bed4419ee101"
      },
      "id": "0synwdwrKcJQ",
      "execution_count": 4,
      "outputs": [
        {
          "output_type": "stream",
          "name": "stdout",
          "text": [
            "Hypothesis: Treatment (0.1470) is greater than Control (0.1400)\n"
          ]
        }
      ]
    },
    {
      "cell_type": "markdown",
      "source": [
        "##Effect size"
      ],
      "metadata": {
        "id": "6KCJ-_CVKn1d"
      },
      "id": "6KCJ-_CVKn1d"
    },
    {
      "cell_type": "markdown",
      "source": [
        "![Alt text](https://github.com/lindsayalexandra14/ds_portfolio/raw/main/2_images/templates/notebook/headers/lilac/Effect%20Size.png)"
      ],
      "metadata": {
        "id": "QN3Pfq_XKl2U"
      },
      "id": "QN3Pfq_XKl2U"
    },
    {
      "cell_type": "code",
      "source": [
        "# Cohen's h - Standardized Effect Size for Proportions\n",
        "def cohens_h(p1, p2):\n",
        "    return 2 * (asin(sqrt(p1)) - asin(sqrt(p2)))\n",
        "\n",
        "effect_size = cohens_h(treatment, control)\n",
        "\n",
        "print(f\"Minimum Detectable Effect (MDE): {mde:.3f}\")\n",
        "print(f\"Effect Size (Cohen's h): {effect_size:.3f}\")"
      ],
      "metadata": {
        "colab": {
          "base_uri": "https://localhost:8080/"
        },
        "id": "nF9qS9RJKsfp",
        "outputId": "693ddf51-ea82-46f3-e131-597739cf9d03"
      },
      "id": "nF9qS9RJKsfp",
      "execution_count": 5,
      "outputs": [
        {
          "output_type": "stream",
          "name": "stdout",
          "text": [
            "Minimum Detectable Effect (MDE): 0.007\n",
            "Effect Size (Cohen's h): 0.020\n"
          ]
        }
      ]
    },
    {
      "cell_type": "markdown",
      "source": [
        "Cohen's h benchmarks:\n",
        "\n",
        "0.2 = small effect\n",
        "\n",
        "0.5 = medium effect\n",
        "\n",
        "0.8 = large effect\n",
        "\n",
        "If the effect is tiny, it will require a very large sample size to detect."
      ],
      "metadata": {
        "id": "2J3Jo2onK8HI"
      },
      "id": "2J3Jo2onK8HI"
    },
    {
      "cell_type": "markdown",
      "source": [
        "*   Effect is translated into Cohen’s h\n",
        "*   It is a way to quantify how big the difference between two proportions is, on a standardized scale  \n",
        "*   Absolute differences (like +2%) are different on a baseline of 5% vs 50%\n",
        "*   Puts differences on a common scale, to compare effect sizes fairly across experiments\n",
        "*   Demonstrates practical meaning (vs. just statistical significance)"
      ],
      "metadata": {
        "id": "8PDVOhvUK-Sp"
      },
      "id": "8PDVOhvUK-Sp"
    },
    {
      "cell_type": "markdown",
      "source": [
        "##Sample Size"
      ],
      "metadata": {
        "id": "3pu755w4LDF8"
      },
      "id": "3pu755w4LDF8"
    },
    {
      "cell_type": "markdown",
      "source": [
        "![Alt text](https://github.com/lindsayalexandra14/ds_portfolio/raw/main/2_images/templates/notebook/headers/lilac/Sample%20Size.png)"
      ],
      "metadata": {
        "id": "AafPlFaFLBRK"
      },
      "id": "AafPlFaFLBRK"
    },
    {
      "cell_type": "markdown",
      "source": [
        "Calculate minimum sample size for each group (cell) for one-sided and two-sided tests:\n",
        "*   A one-sided test is used when you want to test if one group performs specifically better or worse than the other (a directional hypothesis).\n",
        "*   A two-sided test is used when you want to test if there is any difference between the groups, regardless of direction — whether one is better or worse."
      ],
      "metadata": {
        "id": "acMH6hPwLHKH"
      },
      "id": "acMH6hPwLHKH"
    },
    {
      "cell_type": "code",
      "source": [
        "# Simulate Power Using Fisher's Exact Test\n",
        "def simulate_fisher_power(p1, p2, n1, n2, alpha, reps=10000, alternative=alternative, seed=100):\n",
        "    np.random.seed(seed)\n",
        "    count = 0\n",
        "    for _ in range(reps):\n",
        "        x1 = np.random.binomial(n1, p1)\n",
        "        x2 = np.random.binomial(n2, p2)\n",
        "        table = [[x1, n1 - x1], [x2, n2 - x2]]\n",
        "        p = stats.fisher_exact(table, alternative=alternative)[1]\n",
        "        if p < alpha:\n",
        "            count += 1\n",
        "    return count / reps"
      ],
      "metadata": {
        "id": "VmZ6b4EyLM7p"
      },
      "id": "VmZ6b4EyLM7p",
      "execution_count": 6,
      "outputs": []
    },
    {
      "cell_type": "code",
      "source": [
        "# Find Minimum Sample Size to Achieve Desired Power\n",
        "def find_min_sample_size(p1, p2, alpha, power, max_n=50000, reps=10000, alternative=alternative, step=1000, seed=100):\n",
        "    np.random.seed(seed)\n",
        "    for n in range(1000, max_n + 1, step):\n",
        "        sim_power = simulate_fisher_power(p1, p2, n1=n, n2=n, alpha=alpha, reps=reps, alternative=alternative, seed=seed)\n",
        "        print(f\"n = {n} → power = {sim_power:.3f}\")\n",
        "        if sim_power >= power:\n",
        "            return n\n",
        "    return None"
      ],
      "metadata": {
        "id": "blPA00roLO-s"
      },
      "id": "blPA00roLO-s",
      "execution_count": 7,
      "outputs": []
    },
    {
      "cell_type": "code",
      "execution_count": 8,
      "id": "2a8764a3",
      "metadata": {
        "colab": {
          "base_uri": "https://localhost:8080/"
        },
        "id": "2a8764a3",
        "outputId": "ea5a4676-9ae4-4d29-86a8-dfd5fe643149"
      },
      "outputs": [
        {
          "output_type": "stream",
          "name": "stdout",
          "text": [
            "\n",
            "Searching for minimum required sample size...\n",
            "n = 1000 → power = 0.105\n",
            "n = 2000 → power = 0.144\n",
            "n = 3000 → power = 0.182\n",
            "n = 4000 → power = 0.217\n",
            "n = 5000 → power = 0.240\n",
            "n = 6000 → power = 0.278\n",
            "n = 7000 → power = 0.314\n",
            "n = 8000 → power = 0.336\n",
            "n = 9000 → power = 0.365\n",
            "n = 10000 → power = 0.401\n",
            "n = 11000 → power = 0.425\n",
            "n = 12000 → power = 0.459\n",
            "n = 13000 → power = 0.469\n",
            "n = 14000 → power = 0.506\n",
            "n = 15000 → power = 0.530\n",
            "n = 16000 → power = 0.548\n",
            "n = 17000 → power = 0.573\n",
            "n = 18000 → power = 0.593\n",
            "n = 19000 → power = 0.617\n",
            "n = 20000 → power = 0.637\n",
            "n = 21000 → power = 0.646\n",
            "n = 22000 → power = 0.664\n",
            "n = 23000 → power = 0.681\n",
            "n = 24000 → power = 0.702\n",
            "n = 25000 → power = 0.716\n",
            "n = 26000 → power = 0.741\n",
            "n = 27000 → power = 0.752\n",
            "n = 28000 → power = 0.759\n",
            "n = 29000 → power = 0.773\n",
            "n = 30000 → power = 0.788\n",
            "n = 31000 → power = 0.798\n",
            "n = 32000 → power = 0.806\n",
            "\n",
            " Minimum sample size per group to achieve 80% power: 32000\n"
          ]
        }
      ],
      "source": [
        "# Run Sample Size Estimation\n",
        "print(\"\\nSearching for minimum required sample size...\")\n",
        "min_n = find_min_sample_size(p1=p_1, p2=p_2, alpha=alpha, power=power, alternative=alternative)\n",
        "\n",
        "if min_n:\n",
        "    print(f\"\\n Minimum sample size per group to achieve {power*100:.0f}% power: {min_n}\")\n",
        "\n",
        "else:\n",
        "    print(\"\\n Could not achieve desired power within sample size limits.\")\n"
      ]
    },
    {
      "cell_type": "code",
      "source": [
        "# Fixed sample sizes\n",
        "n_1 = 32000  # Sample size for group 1\n",
        "n_2 = 32000  # Sample size for group 2\n",
        "\n",
        "# Estimate power at fixed sample size\n",
        "estimated_power = simulate_fisher_power(p1=p_1, p2=p_2, n1=n_1, n2=n_2,\n",
        "                                        alpha=alpha, alternative=alternative)\n",
        "\n",
        "print(f\"Power for manual estimate: {estimated_power:.3f}\")"
      ],
      "metadata": {
        "colab": {
          "base_uri": "https://localhost:8080/"
        },
        "id": "AREbz-IAMHhd",
        "outputId": "5388e0ab-e9de-4a4d-d174-b7038d25fc82"
      },
      "id": "AREbz-IAMHhd",
      "execution_count": 9,
      "outputs": [
        {
          "output_type": "stream",
          "name": "stdout",
          "text": [
            "Power for manual estimate: 0.806\n"
          ]
        }
      ]
    },
    {
      "cell_type": "markdown",
      "source": [
        "#Results"
      ],
      "metadata": {
        "id": "iBM1c2w0Nt4K"
      },
      "id": "iBM1c2w0Nt4K"
    },
    {
      "cell_type": "markdown",
      "source": [
        "![Alt text](https://github.com/lindsayalexandra14/ds_portfolio/raw/main/2_images/templates/notebook/headers/lilac/Results%20Dark.png)"
      ],
      "metadata": {
        "id": "ATeeZOMLN03X"
      },
      "id": "ATeeZOMLN03X"
    },
    {
      "cell_type": "markdown",
      "source": [
        "##Data"
      ],
      "metadata": {
        "id": "elk4A1zRN3bc"
      },
      "id": "elk4A1zRN3bc"
    },
    {
      "cell_type": "markdown",
      "source": [
        "![Alt text](https://github.com/lindsayalexandra14/ds_portfolio/raw/main/2_images/templates/notebook/headers/lilac/Data.png)"
      ],
      "metadata": {
        "id": "guhurJ_TN5dy"
      },
      "id": "guhurJ_TN5dy"
    },
    {
      "cell_type": "markdown",
      "source": [
        "###Import Data"
      ],
      "metadata": {
        "id": "trwydCa0N7Pa"
      },
      "id": "trwydCa0N7Pa"
    },
    {
      "cell_type": "markdown",
      "source": [
        "![Alt text](https://github.com/lindsayalexandra14/ds_portfolio/raw/main/2_images/templates/notebook/headers/lilac/Import%20Data.png)"
      ],
      "metadata": {
        "id": "1vFs7gZ7N9cu"
      },
      "id": "1vFs7gZ7N9cu"
    },
    {
      "cell_type": "markdown",
      "source": [
        "From a dataset:"
      ],
      "metadata": {
        "id": "fnvyn4WYOBTX"
      },
      "id": "fnvyn4WYOBTX"
    },
    {
      "cell_type": "code",
      "source": [
        "#df_data="
      ],
      "metadata": {
        "id": "tHP0x1ciODSJ"
      },
      "id": "tHP0x1ciODSJ",
      "execution_count": 10,
      "outputs": []
    },
    {
      "cell_type": "markdown",
      "source": [
        "Manually input:"
      ],
      "metadata": {
        "id": "vD_YZRkHOC2R"
      },
      "id": "vD_YZRkHOC2R"
    },
    {
      "cell_type": "code",
      "source": [
        "control_conversions=7\n",
        "treatment_conversions=18\n",
        "control_no_conversions=150\n",
        "treatment_no_conversions=130"
      ],
      "metadata": {
        "id": "SJl1f1TaNvO4"
      },
      "id": "SJl1f1TaNvO4",
      "execution_count": 11,
      "outputs": []
    },
    {
      "cell_type": "code",
      "source": [
        "print(p1_label) # set above in test design\n",
        "print(p2_label)"
      ],
      "metadata": {
        "colab": {
          "base_uri": "https://localhost:8080/"
        },
        "id": "-hz_QUwZNx8y",
        "outputId": "faa55fce-d0e9-4a2c-dd90-3d76652d9ba1"
      },
      "id": "-hz_QUwZNx8y",
      "execution_count": 12,
      "outputs": [
        {
          "output_type": "stream",
          "name": "stdout",
          "text": [
            "Treatment\n",
            "Control\n"
          ]
        }
      ]
    },
    {
      "cell_type": "markdown",
      "source": [
        "##Contingency Table"
      ],
      "metadata": {
        "id": "VYfqH4SAOK5o"
      },
      "id": "VYfqH4SAOK5o"
    },
    {
      "cell_type": "markdown",
      "source": [
        "![Alt text](https://github.com/lindsayalexandra14/ds_portfolio/raw/main/2_images/templates/notebook/headers/lilac/Contingency%20Table.png)"
      ],
      "metadata": {
        "id": "0lJa9y2eOIp8"
      },
      "id": "0lJa9y2eOIp8"
    },
    {
      "cell_type": "code",
      "source": [
        "# Create contingency table\n",
        "data = np.array([\n",
        "    [control_conversions, control_no_conversions],\n",
        "    [treatment_conversions, treatment_no_conversions]\n",
        "])\n",
        "\n",
        "table = pd.DataFrame(data, columns=[\"Converted\", \"Not_Converted\"], index=[\"Control\", \"Treatment\"])\n",
        "\n",
        "print(table)"
      ],
      "metadata": {
        "colab": {
          "base_uri": "https://localhost:8080/"
        },
        "id": "oQNVKyKkOWLB",
        "outputId": "9865b956-d4b2-4d10-e8ab-9a345d51566b"
      },
      "id": "oQNVKyKkOWLB",
      "execution_count": 13,
      "outputs": [
        {
          "output_type": "stream",
          "name": "stdout",
          "text": [
            "           Converted  Not_Converted\n",
            "Control            7            150\n",
            "Treatment         18            130\n"
          ]
        }
      ]
    },
    {
      "cell_type": "code",
      "source": [
        "if table.index[0] != p1_label:\n",
        "    table_to_use = table.iloc[[1, 0], :]  # flip row order\n",
        "else:\n",
        "    table_to_use = table\n",
        "\n",
        "print(table_to_use)"
      ],
      "metadata": {
        "colab": {
          "base_uri": "https://localhost:8080/"
        },
        "id": "hMoUQB0MOxIi",
        "outputId": "bfff9f9f-8321-4c1b-d125-2a5363d3ac0b"
      },
      "id": "hMoUQB0MOxIi",
      "execution_count": 14,
      "outputs": [
        {
          "output_type": "stream",
          "name": "stdout",
          "text": [
            "           Converted  Not_Converted\n",
            "Treatment         18            130\n",
            "Control            7            150\n"
          ]
        }
      ]
    },
    {
      "cell_type": "markdown",
      "source": [
        "##Conversion Rates:"
      ],
      "metadata": {
        "id": "faBg8h8oPaP1"
      },
      "id": "faBg8h8oPaP1"
    },
    {
      "cell_type": "markdown",
      "source": [
        "![Alt text](https://github.com/lindsayalexandra14/ds_portfolio/raw/main/2_images/templates/notebook/headers/lilac/Conversion%20Rates.png)"
      ],
      "metadata": {
        "id": "WsAVB227Pdf7"
      },
      "id": "WsAVB227Pdf7"
    },
    {
      "cell_type": "code",
      "source": [
        "n1 = table_to_use.iloc[0].sum()  # Reference group (row 1)\n",
        "n2 = table_to_use.iloc[1].sum()  # Comparison group (row 2)\n",
        "\n",
        "p1 = table_to_use.iloc[0][\"Converted\"] / n1  # Conversion rate for row 1\n",
        "p2 = table_to_use.iloc[1][\"Converted\"] / n2  # Conversion rate for row 2\n",
        "\n",
        "groups = {'p1': p1_label, 'p2': p2_label}\n",
        "\n",
        "print(f\"p1: {groups['p1']} Conversion Rate: {round(p1 * 100, 2)}%\")\n",
        "print(f\"p2: {groups['p2']} Conversion Rate: {round(p2 * 100, 2)}%\")"
      ],
      "metadata": {
        "colab": {
          "base_uri": "https://localhost:8080/"
        },
        "id": "DTt9ontOPf63",
        "outputId": "723abb79-78d7-4f91-b035-fb52803421de"
      },
      "id": "DTt9ontOPf63",
      "execution_count": 15,
      "outputs": [
        {
          "output_type": "stream",
          "name": "stdout",
          "text": [
            "p1: Treatment Conversion Rate: 12.16%\n",
            "p2: Control Conversion Rate: 4.46%\n"
          ]
        }
      ]
    },
    {
      "cell_type": "code",
      "source": [
        "if alternative == \"two.sided\":\n",
        "    alt_text = f\"{p1_label} ({p1:.4f}) is different from {p2_label} ({p2:.4f})\"\n",
        "elif alternative == \"greater\":\n",
        "    alt_text = f\"{p1_label} ({p1:.4f}) is greater than {p2_label} ({p2:.4f})\"\n",
        "elif alternative == \"less\":\n",
        "    alt_text = f\"{p1_label} ({p1:.4f}) is less than {p2_label} ({p2:.4f})\"\n",
        "else:\n",
        "    alt_text = \"Unknown alternative hypothesis\"\n",
        "\n",
        "print(\"Result Hypothesis:\", alt_text)"
      ],
      "metadata": {
        "colab": {
          "base_uri": "https://localhost:8080/"
        },
        "id": "rnbWGmGzPi_f",
        "outputId": "5014b7fc-f3bb-4536-9928-058d953e68f9"
      },
      "id": "rnbWGmGzPi_f",
      "execution_count": 16,
      "outputs": [
        {
          "output_type": "stream",
          "name": "stdout",
          "text": [
            "Result Hypothesis: Treatment (0.1216) is greater than Control (0.0446)\n"
          ]
        }
      ]
    },
    {
      "cell_type": "markdown",
      "source": [
        "##Effect Size:"
      ],
      "metadata": {
        "id": "uSO-_GyNP3bT"
      },
      "id": "uSO-_GyNP3bT"
    },
    {
      "cell_type": "markdown",
      "source": [
        "![Alt text](https://github.com/lindsayalexandra14/ds_portfolio/raw/main/2_images/templates/notebook/headers/lilac/Effect%20Size.png)"
      ],
      "metadata": {
        "id": "M086xxhpP732"
      },
      "id": "M086xxhpP732"
    },
    {
      "cell_type": "code",
      "source": [
        "# Absolute difference\n",
        "abs_diff = abs(p1 - p2)\n",
        "\n",
        "# Cohen's h function\n",
        "def proportion_effectsize(control, treatment):\n",
        "    return 2 * math.asin(math.sqrt(treatment)) - 2 * math.asin(math.sqrt(control))\n",
        "\n",
        "h = proportion_effectsize(control, treatment)\n",
        "\n",
        "print(f\"Absolute difference: {abs_diff:.3f} ({abs_diff * 100:.1f}%)\")\n",
        "print(f\"Cohen's h: {h:.3f}\")\n",
        "\n",
        "# Interpret effect size\n",
        "def interpret_h(h):\n",
        "    abs_h = abs(h)\n",
        "    if abs_h < 0.2:\n",
        "        return \"negligible\"\n",
        "    elif abs_h < 0.5:\n",
        "        return \"small\"\n",
        "    elif abs_h < 0.8:\n",
        "        return \"medium\"\n",
        "    else:\n",
        "        return \"large\"\n",
        "\n",
        "print(f\"Effect size interpretation: {interpret_h(h)}\")"
      ],
      "metadata": {
        "colab": {
          "base_uri": "https://localhost:8080/"
        },
        "id": "9MYx8c5NPacL",
        "outputId": "6b11ccb8-b07f-4b70-9a44-c95116acb98c"
      },
      "id": "9MYx8c5NPacL",
      "execution_count": 17,
      "outputs": [
        {
          "output_type": "stream",
          "name": "stdout",
          "text": [
            "Absolute difference: 0.077 (7.7%)\n",
            "Cohen's h: 0.020\n",
            "Effect size interpretation: negligible\n"
          ]
        }
      ]
    },
    {
      "cell_type": "markdown",
      "source": [
        "##Fisher's Exact Test"
      ],
      "metadata": {
        "id": "GYDcDJ5gP-jJ"
      },
      "id": "GYDcDJ5gP-jJ"
    },
    {
      "cell_type": "markdown",
      "source": [
        "![Alt text](https://github.com/lindsayalexandra14/ds_portfolio/raw/main/2_images/templates/notebook/headers/lilac/Fishers%20Exact%20Test.png)"
      ],
      "metadata": {
        "id": "I04FQ3IqQAjW"
      },
      "id": "I04FQ3IqQAjW"
    },
    {
      "cell_type": "markdown",
      "source": [
        "Use Fisher's Exact Test since a cell (control converted) has < 10 users:"
      ],
      "metadata": {
        "id": "11GEAlpvQCup"
      },
      "id": "11GEAlpvQCup"
    },
    {
      "cell_type": "code",
      "source": [
        "print(table_to_use)"
      ],
      "metadata": {
        "colab": {
          "base_uri": "https://localhost:8080/"
        },
        "id": "9xs4y0gkP27n",
        "outputId": "5f1294dd-6a6d-4870-b9ab-17c38297f80e"
      },
      "id": "9xs4y0gkP27n",
      "execution_count": 18,
      "outputs": [
        {
          "output_type": "stream",
          "name": "stdout",
          "text": [
            "           Converted  Not_Converted\n",
            "Treatment         18            130\n",
            "Control            7            150\n"
          ]
        }
      ]
    },
    {
      "cell_type": "markdown",
      "source": [
        "Check parameters and change if needed:"
      ],
      "metadata": {
        "id": "hao5C5HcQHwP"
      },
      "id": "hao5C5HcQHwP"
    },
    {
      "cell_type": "code",
      "source": [
        "print(alternative)\n",
        "print(alpha)\n",
        "print(power)\n",
        "# alternative=\"greater\" # Row 1 (reference) of Contingency Table is greater than Row 2\n",
        "# alpha=0.05\n",
        "# power=0.8"
      ],
      "metadata": {
        "colab": {
          "base_uri": "https://localhost:8080/"
        },
        "id": "3VQC4pN5QGUT",
        "outputId": "626ddc3d-ae58-4020-f4e9-d7be47b7f32e"
      },
      "id": "3VQC4pN5QGUT",
      "execution_count": 19,
      "outputs": [
        {
          "output_type": "stream",
          "name": "stdout",
          "text": [
            "greater\n",
            "0.05\n",
            "0.8\n"
          ]
        }
      ]
    },
    {
      "cell_type": "markdown",
      "source": [
        "Run test:"
      ],
      "metadata": {
        "id": "YSQR2n-rQMx9"
      },
      "id": "YSQR2n-rQMx9"
    },
    {
      "cell_type": "code",
      "source": [
        "odds_ratio, p_value = fisher_exact(table_to_use.values, alternative=alternative)\n",
        "\n",
        "print(f\"Fisher's Exact Test:\")\n",
        "print(f\"Odds Ratio: {odds_ratio:.4f}\")\n",
        "print(f\"p-value ({alternative}): {p_value:.4f}\")"
      ],
      "metadata": {
        "colab": {
          "base_uri": "https://localhost:8080/"
        },
        "id": "dj8Oqjg4QEc7",
        "outputId": "c2eac8b4-4aec-4ce1-9d80-5689f2ace854"
      },
      "id": "dj8Oqjg4QEc7",
      "execution_count": 20,
      "outputs": [
        {
          "output_type": "stream",
          "name": "stdout",
          "text": [
            "Fisher's Exact Test:\n",
            "Odds Ratio: 2.9670\n",
            "p-value (greater): 0.0119\n"
          ]
        }
      ]
    },
    {
      "cell_type": "markdown",
      "source": [
        "#P-value"
      ],
      "metadata": {
        "id": "VZ7tvNNiQTta"
      },
      "id": "VZ7tvNNiQTta"
    },
    {
      "cell_type": "markdown",
      "source": [
        "![Alt text](https://github.com/lindsayalexandra14/ds_portfolio/raw/main/2_images/templates/notebook/headers/lilac/Pvalue.png)"
      ],
      "metadata": {
        "id": "uENyowZfQVc7"
      },
      "id": "uENyowZfQVc7"
    },
    {
      "cell_type": "code",
      "source": [
        "print(f\"p-value: {round(p_value, 3)}\")\n",
        "\n",
        "# Significance message\n",
        "if p_value < alpha:\n",
        "    pvalue_message = (\n",
        "        f\"Because the p-value ({p_value:.3f}) is less than alpha ({alpha:.3f}), \"\n",
        "        f\"this result is statistically significant at the {(1 - alpha) * 100:.0f}% confidence level.\"\n",
        "    )\n",
        "else:\n",
        "    pvalue_message = (\n",
        "        f\"Because the p-value ({p_value:.3f}) is greater than or equal to alpha ({alpha:.3f}), \"\n",
        "        f\"this result is not statistically significant at the {(1 - alpha) * 100:.0f}% confidence level.\"\n",
        "    )\n",
        "\n",
        "print(\"\\n\".join(textwrap.wrap(pvalue_message, width=80)))"
      ],
      "metadata": {
        "colab": {
          "base_uri": "https://localhost:8080/"
        },
        "id": "OvPAeHxKQbT9",
        "outputId": "04115759-588d-47aa-9cf6-3b560cef8031"
      },
      "id": "OvPAeHxKQbT9",
      "execution_count": 21,
      "outputs": [
        {
          "output_type": "stream",
          "name": "stdout",
          "text": [
            "p-value: 0.012\n",
            "Because the p-value (0.012) is less than alpha (0.050), this result is\n",
            "statistically significant at the 95% confidence level.\n"
          ]
        }
      ]
    },
    {
      "cell_type": "markdown",
      "source": [
        "##Confidence Interval"
      ],
      "metadata": {
        "id": "X9BHP35IQd-I"
      },
      "id": "X9BHP35IQd-I"
    },
    {
      "cell_type": "markdown",
      "source": [
        "![Alt text](https://github.com/lindsayalexandra14/ds_portfolio/raw/main/2_images/templates/notebook/headers/lilac/Confidence%20Interval.png)"
      ],
      "metadata": {
        "id": "DIPou_BLQgi5"
      },
      "id": "DIPou_BLQgi5"
    },
    {
      "cell_type": "code",
      "source": [
        "table = table_to_use.values\n",
        "tbl = Table2x2(table)\n",
        "lower_ci, upper_ci = tbl.oddsratio_confint(alpha=alpha)\n",
        "if alternative==\"less\":\n",
        "  print(\"Upper CI:\",f\"{upper_ci:.2f}\")\n",
        "elif alternative==\"greater\":\n",
        "  print(\"Lower CI:\",f\"{lower_ci:.2f}\")\n",
        "else:\n",
        "  print(\"CI:\",f\"{lower_ci:.2f}, {upper_ci:.2f}\")"
      ],
      "metadata": {
        "id": "WGG7kkZTUnRj",
        "colab": {
          "base_uri": "https://localhost:8080/"
        },
        "outputId": "da3c6734-ec25-43fa-8057-0c0b638d5bca"
      },
      "id": "WGG7kkZTUnRj",
      "execution_count": 22,
      "outputs": [
        {
          "output_type": "stream",
          "name": "stdout",
          "text": [
            "Lower CI: 1.20\n"
          ]
        }
      ]
    },
    {
      "cell_type": "markdown",
      "source": [
        "###\"Less\" Hypothesis:"
      ],
      "metadata": {
        "id": "a76rYtDjQiiZ"
      },
      "id": "a76rYtDjQiiZ"
    },
    {
      "cell_type": "markdown",
      "source": [
        "The upper bound of the CI is what you want to look at for \"less\" — it should be < 1 for significance."
      ],
      "metadata": {
        "id": "fJUXXIcvQkVe"
      },
      "id": "fJUXXIcvQkVe"
    },
    {
      "cell_type": "markdown",
      "source": [
        "For a \"less\" alternative (testing if Group B < Group A):"
      ],
      "metadata": {
        "id": "Hmb2ljMNQmO2"
      },
      "id": "Hmb2ljMNQmO2"
    },
    {
      "cell_type": "markdown",
      "source": [
        "\n",
        "If the upper bound < 1:\n",
        "You are confident the odds in Group B are lower than in Group A.\n",
        "This supports your \"less\" hypothesis → Result significant.\n",
        "\n",
        "If the upper bound ≥ 1:\n",
        "It’s possible Group B’s odds are not lower than Group A’s (could be equal or higher).\n",
        "This does not support your \"less\" hypothesis → Result not significant."
      ],
      "metadata": {
        "id": "mBILAvTFQpOj"
      },
      "id": "mBILAvTFQpOj"
    },
    {
      "cell_type": "markdown",
      "source": [
        "###\"Greater\" Hypothesis:"
      ],
      "metadata": {
        "id": "sB4zMfzOQsjm"
      },
      "id": "sB4zMfzOQsjm"
    },
    {
      "cell_type": "markdown",
      "source": [
        "The lower bound of the CI is what you want to look at for \"greater\" — it should be > 1 for significance."
      ],
      "metadata": {
        "id": "tQh7Kg4JQuW9"
      },
      "id": "tQh7Kg4JQuW9"
    },
    {
      "cell_type": "markdown",
      "source": [
        "For a \"greater\" alternative (testing if Group B > Group A):"
      ],
      "metadata": {
        "id": "iAHvWX-4QwGC"
      },
      "id": "iAHvWX-4QwGC"
    },
    {
      "cell_type": "markdown",
      "source": [
        "If lower bound > 1:\n",
        "With your chosen confidence level, you can say the odds of conversion in Group B are at least this much higher than in Group A.\n",
        "This supports your \"greater\" hypothesis → Result is significant.\n",
        "\n",
        "If lower bound ≤ 1:\n",
        "You cannot confidently say that Group B’s odds are higher than Group A’s.\n",
        "This does not support your \"greater\" hypothesis → Result is not significant."
      ],
      "metadata": {
        "id": "X12AGtXEQyGH"
      },
      "id": "X12AGtXEQyGH"
    },
    {
      "cell_type": "markdown",
      "source": [
        "###Interpretation:"
      ],
      "metadata": {
        "id": "iqrBT0JJQ0Fh"
      },
      "id": "iqrBT0JJQ0Fh"
    },
    {
      "cell_type": "code",
      "source": [
        "conf_level = (1 - alpha) * 100\n",
        "\n",
        "# Example:\n",
        "# p1_label = \"Control\"\n",
        "# p2_label = \"Treatment\"\n",
        "\n",
        "if alternative == \"less\":\n",
        "    if upper_ci < 1:\n",
        "        percent_diff = (1 - upper_ci) * 100\n",
        "        sentence = (\n",
        "            f\"95% CI Upper Bound for Odds Ratio: {upper_ci:.3f}.\\n\\n\"\n",
        "            f\"With {conf_level:.0f}% confidence, {p1_label} (p₁) has lower odds of conversion than {p2_label} (p₂).\\n\"\n",
        "            f\"The odds of conversion in {p1_label} are up to {percent_diff:.1f}% lower than in {p2_label}.\\n\"\n",
        "            f\"This supports the hypothesis that {p2_label} is better than {p1_label}.\"\n",
        "        )\n",
        "    else:\n",
        "        sentence = (\n",
        "            f\"95% CI Upper Bound for Odds Ratio: {upper_ci:.3f}.\\n\\n\"\n",
        "            f\"With {conf_level:.0f}% confidence, we cannot rule out that {p2_label} is not better than {p1_label}.\\n\"\n",
        "            f\"This does not support the hypothesis that {p2_label} is better.\"\n",
        "        )\n",
        "\n",
        "elif alternative == \"greater\":\n",
        "    if lower_ci > 1:\n",
        "        percent_diff = (lower_ci - 1) * 100\n",
        "        sentence = (\n",
        "            f\"95% CI Lower Bound for Odds Ratio: {lower_ci:.3f}.\\n\\n\"\n",
        "            f\"With {conf_level:.0f}% confidence, {p1_label} (p₁) has higher odds of conversion than {p2_label} (p₂).\\n\"\n",
        "            f\"The odds of conversion in {p1_label} are at least {percent_diff:.1f}% higher than in {p2_label}.\\n\"\n",
        "            f\"This supports the hypothesis that {p1_label} is better than {p2_label}.\"\n",
        "        )\n",
        "    else:\n",
        "        sentence = (\n",
        "            f\"95% CI Lower Bound for Odds Ratio: {lower_ci:.3f}.\\n\\n\"\n",
        "            f\"With {conf_level:.0f}% confidence, we cannot rule out that {p1_label} is not better than {p2_label}.\\n\"\n",
        "            f\"This does not support the hypothesis that {p1_label} is better.\"\n",
        "        )\n",
        "\n",
        "elif alternative == \"two.sided\":\n",
        "    if lower_ci > 1:\n",
        "        percent_diff = (lower_ci - 1) * 100\n",
        "        sentence = (\n",
        "            f\"95% CI: [{lower_ci:.3f}, {upper_ci:.3f}].\\n\\n\"\n",
        "            f\"With {conf_level:.0f}% confidence, there is a statistically significant difference in odds of conversion between {p1_label} (p₁) and {p2_label} (p₂).\\n\"\n",
        "            f\"The confidence interval suggests that the odds of conversion in {p1_label} may be at least {percent_diff:.1f}% higher than in {p2_label}.\"\n",
        "        )\n",
        "    elif upper_ci < 1:\n",
        "        percent_diff = (1 - upper_ci) * 100\n",
        "        sentence = (\n",
        "            f\"95% CI: [{lower_ci:.3f}, {upper_ci:.3f}].\\n\\n\"\n",
        "            f\"With {conf_level:.0f}% confidence, there is a statistically significant difference in odds of conversion between {p1_label} (p₁) and {p2_label} (p₂).\\n\"\n",
        "            f\"The confidence interval suggests that the odds of conversion in {p1_label} may be up to {percent_diff:.1f}% lower than in {p2_label}.\"\n",
        "        )\n",
        "    else:\n",
        "        sentence = (\n",
        "            f\"95% CI: [{lower_ci:.3f}, {upper_ci:.3f}].\\n\\n\"\n",
        "            f\"With {conf_level:.0f}% confidence, we cannot rule out no difference in odds between {p1_label} and {p2_label}.\\n\"\n",
        "            \"This does not support a statistically significant difference.\"\n",
        "        )\n",
        "\n",
        "print(sentence)\n",
        "print()\n",
        "\n",
        "# Significance check based on whether CI includes 1\n",
        "includes_one = (lower_ci <= 1) and (upper_ci >= 1)\n",
        "\n",
        "if includes_one:\n",
        "    message = (\n",
        "        f\"Because the interval includes 1, this result is not statistically significant \"\n",
        "        f\"at the {conf_level:.0f}% confidence level.\"\n",
        "    )\n",
        "else:\n",
        "    message = (\n",
        "        f\"Because the interval does not include 1, this result is statistically significant \"\n",
        "        f\"at the {conf_level:.0f}% confidence level.\"\n",
        "    )\n",
        "\n",
        "print(message)\n"
      ],
      "metadata": {
        "colab": {
          "base_uri": "https://localhost:8080/"
        },
        "id": "Pv0bMvR6W1Vu",
        "outputId": "98abc8ad-25d0-42fd-fbf8-733d52e36efe"
      },
      "id": "Pv0bMvR6W1Vu",
      "execution_count": 24,
      "outputs": [
        {
          "output_type": "stream",
          "name": "stdout",
          "text": [
            "95% CI Lower Bound for Odds Ratio: 1.201.\n",
            "\n",
            "With 95% confidence, Treatment (p₁) has higher odds of conversion than Control (p₂).\n",
            "The odds of conversion in Treatment are at least 20.1% higher than in Control.\n",
            "This supports the hypothesis that Treatment is better than Control.\n",
            "\n",
            "Because the interval does not include 1, this result is statistically significant at the 95% confidence level.\n"
          ]
        }
      ]
    },
    {
      "cell_type": "markdown",
      "source": [
        "##Statistical Power"
      ],
      "metadata": {
        "id": "nC-a-wYXQ7Oi"
      },
      "id": "nC-a-wYXQ7Oi"
    },
    {
      "cell_type": "markdown",
      "source": [
        "![Alt text](https://github.com/lindsayalexandra14/ds_portfolio/raw/main/2_images/templates/notebook/headers/lilac/Statistical%20Power.png)"
      ],
      "metadata": {
        "id": "7cF8k5QiQ84R"
      },
      "id": "7cF8k5QiQ84R"
    },
    {
      "cell_type": "code",
      "source": [
        "print(table_to_use)"
      ],
      "metadata": {
        "colab": {
          "base_uri": "https://localhost:8080/"
        },
        "id": "uL7OLGpyQ_05",
        "outputId": "55bbca18-6b49-4456-eb73-ee6dd2bed745"
      },
      "id": "uL7OLGpyQ_05",
      "execution_count": 25,
      "outputs": [
        {
          "output_type": "stream",
          "name": "stdout",
          "text": [
            "           Converted  Not_Converted\n",
            "Treatment         18            130\n",
            "Control            7            150\n"
          ]
        }
      ]
    },
    {
      "cell_type": "code",
      "source": [
        "import numpy as np\n",
        "from scipy.stats import fisher_exact\n",
        "\n",
        "def power_fisher_test(n1, n2, p1, p2, alpha=0.05, alternative='greater', nsim=10000, seed=100):\n",
        "    np.random.seed(seed)\n",
        "    rejections = 0\n",
        "\n",
        "    for _ in range(nsim):\n",
        "        # Simulate successes/failures for each group\n",
        "        group1 = np.random.binomial(n1, p1)\n",
        "        group2 = np.random.binomial(n2, p2)\n",
        "\n",
        "        # [[success_group1, failure_group1], [success_group2, failure_group2]]\n",
        "        table = np.array([\n",
        "            [group1, n1 - group1],\n",
        "            [group2, n2 - group2]\n",
        "        ])\n",
        "\n",
        "        # Fisher's exact test\n",
        "        _, p_value = fisher_exact(table, alternative=alternative)\n",
        "\n",
        "        if p_value < alpha:\n",
        "            rejections += 1\n",
        "\n",
        "    # Estimated power = proportion of rejections\n",
        "    power = rejections / nsim\n",
        "    return power\n",
        "\n",
        "result_power = power_fisher_test(n1, n2, p1, p2, alpha=alpha, alternative='greater', nsim=10000)\n",
        "print(f\"Estimated power (simulation): {result_power:.4f}\")\n"
      ],
      "metadata": {
        "colab": {
          "base_uri": "https://localhost:8080/"
        },
        "id": "Ka-bZm49QRMj",
        "outputId": "35648e94-46e8-4b42-9ec1-9353cf8d3d94"
      },
      "id": "Ka-bZm49QRMj",
      "execution_count": 26,
      "outputs": [
        {
          "output_type": "stream",
          "name": "stdout",
          "text": [
            "Estimated power (simulation): 0.7443\n"
          ]
        }
      ]
    },
    {
      "cell_type": "code",
      "source": [
        "power_pct = f\"{result_power * 100:.1f}\"\n",
        "print(f\"Result Power: {power_pct}%\\n\")\n",
        "\n",
        "if result_power < 0.8:\n",
        "    power_sentence = (\n",
        "        f\"Our test was underpowered (e.g., only ~{power_pct}% power), meaning there was \\n\"\n",
        "        \"a higher chance we failed to detect a true difference due to limited sample size. \\n\"\n",
        "        \"As a result, while the effect appears meaningful, we cannot be statistically \\n\"\n",
        "        \"confident in it without further data and cannot give a confident \\n\"\n",
        "        \"estimate in incremental revenue from the test.\"\n",
        "    )\n",
        "else:\n",
        "    power_sentence = (\n",
        "        f\"Our test was adequately powered (e.g., ~{power_pct}% power), meaning we had a \\n\"\n",
        "        \"strong chance of detecting a true difference if one existed.\"\n",
        "    )\n",
        "\n",
        "print(power_sentence)\n"
      ],
      "metadata": {
        "colab": {
          "base_uri": "https://localhost:8080/"
        },
        "id": "NNLZ4GlMVTbY",
        "outputId": "031c5328-e858-4b46-aa11-a4fd877f1658"
      },
      "id": "NNLZ4GlMVTbY",
      "execution_count": 27,
      "outputs": [
        {
          "output_type": "stream",
          "name": "stdout",
          "text": [
            "Result Power: 74.4%\n",
            "\n",
            "Our test was underpowered (e.g., only ~74.4% power), meaning there was \n",
            "a higher chance we failed to detect a true difference due to limited sample size. \n",
            "As a result, while the effect appears meaningful, we cannot be statistically \n",
            "confident in it without further data and cannot give a confident \n",
            "estimate in incremental revenue from the test.\n"
          ]
        }
      ]
    },
    {
      "cell_type": "markdown",
      "source": [
        "#Results Summary"
      ],
      "metadata": {
        "id": "QLLdSf9eVd8_"
      },
      "id": "QLLdSf9eVd8_"
    },
    {
      "cell_type": "markdown",
      "source": [
        "![Alt text](https://github.com/lindsayalexandra14/ds_portfolio/raw/main/2_images/templates/notebook/headers/lilac/Results%20Summary.png)"
      ],
      "metadata": {
        "id": "d6yIMDjDViVz"
      },
      "id": "d6yIMDjDViVz"
    },
    {
      "cell_type": "code",
      "source": [
        "print(table_to_use)\n",
        "print()\n",
        "print(f\"p1: {groups['p1']} Conversion Rate: {round(p1 * 100, 2)}%\")\n",
        "print(f\"p2: {groups['p2']} Conversion Rate: {round(p2 * 100, 2)}%\")\n",
        "print()\n",
        "print(\"Result Hypothesis:\", alt_text)\n",
        "print()\n",
        "print(f\"Absolute difference: {abs_diff:.3f} ({abs_diff * 100:.1f}%)\")\n",
        "print(f\"Cohen's h: {h:.3f}\")\n",
        "print(f\"Effect size interpretation: {interpret_h(h)}\")\n",
        "print()\n",
        "print(f\"Fisher's Exact Test:\")\n",
        "print(f\"Odds Ratio: {odds_ratio:.4f}\")\n",
        "print()\n",
        "print(f\"p-value: {round(p_value, 3)}\")\n",
        "print(\"\\n\".join(textwrap.wrap(pvalue_message, width=80)))\n",
        "print()\n",
        "print(sentence)\n",
        "print()\n",
        "print(f\"95% CI: [{lower_ci:.3f}, {upper_ci:.3f}]\")\n",
        "print()\n",
        "print(message)\n",
        "print()\n",
        "print(power_sentence)"
      ],
      "metadata": {
        "colab": {
          "base_uri": "https://localhost:8080/"
        },
        "id": "UB-qEN6dVfxg",
        "outputId": "ad8cddf2-76a6-4c26-b737-2e5acb750594"
      },
      "id": "UB-qEN6dVfxg",
      "execution_count": 28,
      "outputs": [
        {
          "output_type": "stream",
          "name": "stdout",
          "text": [
            "           Converted  Not_Converted\n",
            "Treatment         18            130\n",
            "Control            7            150\n",
            "\n",
            "p1: Treatment Conversion Rate: 12.16%\n",
            "p2: Control Conversion Rate: 4.46%\n",
            "\n",
            "Result Hypothesis: Treatment (0.1216) is greater than Control (0.0446)\n",
            "\n",
            "Absolute difference: 0.077 (7.7%)\n",
            "Cohen's h: 0.020\n",
            "Effect size interpretation: negligible\n",
            "\n",
            "Fisher's Exact Test:\n",
            "Odds Ratio: 2.9670\n",
            "\n",
            "p-value: 0.012\n",
            "Because the p-value (0.012) is less than alpha (0.050), this result is\n",
            "statistically significant at the 95% confidence level.\n",
            "\n",
            "95% CI Lower Bound for Odds Ratio: 1.201.\n",
            "\n",
            "With 95% confidence, Treatment (p₁) has higher odds of conversion than Control (p₂).\n",
            "The odds of conversion in Treatment are at least 20.1% higher than in Control.\n",
            "This supports the hypothesis that Treatment is better than Control.\n",
            "\n",
            "95% CI: [1.201, 7.328]\n",
            "\n",
            "Because the interval does not include 1, this result is statistically significant at the 95% confidence level.\n",
            "\n",
            "Our test was underpowered (e.g., only ~74.4% power), meaning there was \n",
            "a higher chance we failed to detect a true difference due to limited sample size. \n",
            "As a result, while the effect appears meaningful, we cannot be statistically \n",
            "confident in it without further data and cannot give a confident \n",
            "estimate in incremental revenue from the test.\n"
          ]
        }
      ]
    }
  ],
  "metadata": {
    "colab": {
      "provenance": []
    },
    "language_info": {
      "name": "python"
    },
    "kernelspec": {
      "name": "python3",
      "display_name": "Python 3"
    }
  },
  "nbformat": 4,
  "nbformat_minor": 5
}