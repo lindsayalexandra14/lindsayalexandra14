{
  "cells": [
    {
      "cell_type": "markdown",
      "id": "a78b5928",
      "metadata": {},
      "source": [
        "[![Open in GitHub](https://img.shields.io/badge/Open%20Folder%20in-GitHub-181717?logo=github&logoColor=white)](https://github.com/lindsayalexandra14/lindsayalexandra14/tree/main/templates/ab_testing)"
      ]
    },
    {
      "cell_type": "markdown",
      "id": "ZXToZT6qJapv",
      "metadata": {
        "id": "ZXToZT6qJapv"
      },
      "source": [
        "[![Open In Colab](https://colab.research.google.com/assets/colab-badge.svg)](https://colab.research.google.com/github/lindsayalexandra14/lindsayalexandra14/blob/main/templates/ab_testing/fisher_exact_test_python_template.ipynb)"
      ]
    },
    {
      "cell_type": "markdown",
      "id": "CLuldrn-AN5x",
      "metadata": {
        "id": "CLuldrn-AN5x"
      },
      "source": [
        "*Note: Python version seems to be more conservative for sample size and CI than R*"
      ]
    },
    {
      "cell_type": "markdown",
      "id": "fynq5p8GJd_C",
      "metadata": {
        "id": "fynq5p8GJd_C"
      },
      "source": [
        "#Top"
      ]
    },
    {
      "cell_type": "markdown",
      "id": "JD86hPA0JhB9",
      "metadata": {
        "id": "JD86hPA0JhB9"
      },
      "source": [
        "![Alt text](https://github.com/lindsayalexandra14/ds_portfolio/raw/main/2_images/templates/notebook/headers/lilac/AB%20Testing%20Landing%20Page%20Small%20Sample%20Size.png)"
      ]
    },
    {
      "cell_type": "markdown",
      "id": "f5I48K_KJkTm",
      "metadata": {
        "id": "f5I48K_KJkTm"
      },
      "source": [
        "**summary**\n",
        "*   This hypothetical experiment tests two Landing Pages (control vs. treatment)\n",
        "*   The initial sample size is 30,000 users but the test gets cut short and our sample is cut to 305 users and I need to use Fisher's Exact Test for small sample sizes where a cell has < 10 users\n",
        "*   The landing page needs to be switched over sooner due to changed timelines, so the results give as much information as I will get about how the treatment performed\n",
        "*   I am trying to prove that the treatment performed better than the control because the team is interested in moving forward with the treatment\n",
        "*  It was established from the test that the treatment performed better with significance (at alpha=0.05). The practical significance is low (cohen's h = 0.02). It did not have the full desired statistical power (75% vs. 80%)\n",
        "*  In this case, given the constraints, I am comfortable enough with the treatment performing some level higher than the control with significance and not vice versa that I will recommend moving forward with implementing the treatment\n",
        "\n",
        "**tl;dr for results**\n",
        "\n",
        "*   Skip to \"Results Summary\" at the end"
      ]
    },
    {
      "cell_type": "markdown",
      "id": "PHyakBgOJpI8",
      "metadata": {
        "id": "PHyakBgOJpI8"
      },
      "source": [
        "#Setup"
      ]
    },
    {
      "cell_type": "markdown",
      "id": "83TsiDB0Jq6P",
      "metadata": {
        "id": "83TsiDB0Jq6P"
      },
      "source": [
        "![Alt text](https://github.com/lindsayalexandra14/ds_portfolio/raw/main/2_images/templates/notebook/headers/lilac/Setup.png)"
      ]
    },
    {
      "cell_type": "markdown",
      "id": "7AxuPWBZJsy1",
      "metadata": {
        "id": "7AxuPWBZJsy1"
      },
      "source": [
        "##Install packages"
      ]
    },
    {
      "cell_type": "markdown",
      "id": "vCSeI2hjJuxa",
      "metadata": {
        "id": "vCSeI2hjJuxa"
      },
      "source": [
        "![Alt text](https://github.com/lindsayalexandra14/ds_portfolio/raw/main/2_images/templates/notebook/headers/lilac/Install%20Packages.png)"
      ]
    },
    {
      "cell_type": "markdown",
      "id": "6Myutdc2JxGf",
      "metadata": {
        "id": "6Myutdc2JxGf"
      },
      "source": [
        "##Import Libraries"
      ]
    },
    {
      "cell_type": "markdown",
      "id": "ao1ZoF8uJzQt",
      "metadata": {
        "id": "ao1ZoF8uJzQt"
      },
      "source": [
        "![Alt text](https://github.com/lindsayalexandra14/ds_portfolio/raw/main/2_images/templates/notebook/headers/lilac/Import%20Libraries.png)"
      ]
    },
    {
      "cell_type": "code",
      "execution_count": 112,
      "id": "kHRzG4H5J7_B",
      "metadata": {
        "id": "kHRzG4H5J7_B"
      },
      "outputs": [],
      "source": [
        "import numpy as np\n",
        "import pandas as pd\n",
        "import scipy.stats as stats\n",
        "from math import asin, sqrt\n",
        "import math\n",
        "import textwrap\n",
        "from scipy.stats import fisher_exact\n",
        "from statsmodels.stats.contingency_tables import Table2x2"
      ]
    },
    {
      "cell_type": "markdown",
      "id": "Ry4NX-1gJ1SW",
      "metadata": {
        "id": "Ry4NX-1gJ1SW"
      },
      "source": [
        "#Test Design"
      ]
    },
    {
      "cell_type": "markdown",
      "id": "tghpuUhfJ3Ph",
      "metadata": {
        "id": "tghpuUhfJ3Ph"
      },
      "source": [
        "![Alt text](https://github.com/lindsayalexandra14/ds_portfolio/raw/main/2_images/templates/notebook/headers/lilac/Test%20Design%20Dark.png)"
      ]
    },
    {
      "cell_type": "markdown",
      "id": "eOLyT7prJ_xl",
      "metadata": {
        "id": "eOLyT7prJ_xl"
      },
      "source": [
        "##Parameters"
      ]
    },
    {
      "cell_type": "code",
      "execution_count": 113,
      "id": "wMOcjIvjKUOZ",
      "metadata": {
        "colab": {
          "base_uri": "https://localhost:8080/"
        },
        "id": "wMOcjIvjKUOZ",
        "outputId": "12101a58-54f7-499c-e6cf-37698826205d"
      },
      "outputs": [
        {
          "name": "stdout",
          "output_type": "stream",
          "text": [
            "Control: 0.1400\n",
            "Treatment: 0.1470\n"
          ]
        }
      ],
      "source": [
        "alpha = 0.05             # Significance level\n",
        "power = 0.80             # Desired statistical power\n",
        "                         #(Probability of detecting an effect when it exists; 0.8 is standard)\n",
        "control = 0.14           # Baseline conversion rate\n",
        "effect = 0.05            # Relative effect size (5% lift over basline)\n",
        "mde = control * effect   # Minimum Detectable Effect (absolute difference)\n",
        "treatment = control + mde  # Treatment conversion rate with lift\n",
        "\n",
        "print(f\"Control: {control:.4f}\")\n",
        "print(f\"Treatment: {treatment:.4f}\")"
      ]
    },
    {
      "cell_type": "code",
      "execution_count": 114,
      "id": "rL88pXSnKW8e",
      "metadata": {
        "id": "rL88pXSnKW8e"
      },
      "outputs": [],
      "source": [
        "# Assign group labels\n",
        "p_1 = treatment\n",
        "p_2 = control\n",
        "p1_label = \"Treatment\"\n",
        "p2_label = \"Control\"\n",
        "alternative = \"greater\"  # 'greater', 'less', or 'two-sided'"
      ]
    },
    {
      "cell_type": "code",
      "execution_count": 115,
      "id": "0synwdwrKcJQ",
      "metadata": {
        "colab": {
          "base_uri": "https://localhost:8080/"
        },
        "id": "0synwdwrKcJQ",
        "outputId": "c20218e7-5847-4f35-d8f6-07654a79cbac"
      },
      "outputs": [
        {
          "name": "stdout",
          "output_type": "stream",
          "text": [
            "Hypothesis: Treatment (0.1470) is greater than Control (0.1400)\n"
          ]
        }
      ],
      "source": [
        "# Hypothesis Statement\n",
        "if alternative == \"greater\":\n",
        "    hypothesis = f\"{p1_label} ({p_1:.4f}) is greater than {p2_label} ({p_2:.4f})\"\n",
        "elif alternative == \"less\":\n",
        "    hypothesis = f\"{p1_label} ({p_1:.4f}) is less than {p2_label} ({p_2:.4f})\"\n",
        "else:\n",
        "    hypothesis = f\"{p1_label} ({p_1:.4f}) is different from {p2_label} ({p_2:.4f})\"\n",
        "\n",
        "print(\"Hypothesis:\", hypothesis)"
      ]
    },
    {
      "cell_type": "markdown",
      "id": "6KCJ-_CVKn1d",
      "metadata": {
        "id": "6KCJ-_CVKn1d"
      },
      "source": [
        "##Effect size"
      ]
    },
    {
      "cell_type": "markdown",
      "id": "QN3Pfq_XKl2U",
      "metadata": {
        "id": "QN3Pfq_XKl2U"
      },
      "source": [
        "![Alt text](https://github.com/lindsayalexandra14/ds_portfolio/raw/main/2_images/templates/notebook/headers/lilac/Effect%20Size.png)"
      ]
    },
    {
      "cell_type": "code",
      "execution_count": 116,
      "id": "nF9qS9RJKsfp",
      "metadata": {
        "colab": {
          "base_uri": "https://localhost:8080/"
        },
        "id": "nF9qS9RJKsfp",
        "outputId": "d38cf210-cb46-4963-daa8-b5895eda5ed0"
      },
      "outputs": [
        {
          "name": "stdout",
          "output_type": "stream",
          "text": [
            "Minimum Detectable Effect (MDE): 0.007\n",
            "Effect Size (Cohen's h): 0.020\n"
          ]
        }
      ],
      "source": [
        "# Cohen's h - Standardized Effect Size for Proportions\n",
        "def cohens_h(p1, p2):\n",
        "    return 2 * (asin(sqrt(p1)) - asin(sqrt(p2)))\n",
        "\n",
        "effect_size = cohens_h(treatment, control)\n",
        "\n",
        "print(f\"Minimum Detectable Effect (MDE): {mde:.3f}\")\n",
        "print(f\"Effect Size (Cohen's h): {effect_size:.3f}\")"
      ]
    },
    {
      "cell_type": "markdown",
      "id": "2J3Jo2onK8HI",
      "metadata": {
        "id": "2J3Jo2onK8HI"
      },
      "source": [
        "Cohen's h benchmarks:\n",
        "\n",
        "0.2 = small effect\n",
        "\n",
        "0.5 = medium effect\n",
        "\n",
        "0.8 = large effect\n",
        "\n",
        "If the effect is tiny, it will require a very large sample size to detect."
      ]
    },
    {
      "cell_type": "markdown",
      "id": "8PDVOhvUK-Sp",
      "metadata": {
        "id": "8PDVOhvUK-Sp"
      },
      "source": [
        "*   Effect is translated into Cohen’s h\n",
        "*   It is a way to quantify how big the difference between two proportions is, on a standardized scale  \n",
        "*   Absolute differences (like +2%) are different on a baseline of 5% vs 50%\n",
        "*   Puts differences on a common scale, to compare effect sizes fairly across experiments\n",
        "*   Demonstrates practical meaning (vs. just statistical significance)"
      ]
    },
    {
      "cell_type": "markdown",
      "id": "3pu755w4LDF8",
      "metadata": {
        "id": "3pu755w4LDF8"
      },
      "source": [
        "##Sample Size"
      ]
    },
    {
      "cell_type": "markdown",
      "id": "AafPlFaFLBRK",
      "metadata": {
        "id": "AafPlFaFLBRK"
      },
      "source": [
        "![Alt text](https://github.com/lindsayalexandra14/ds_portfolio/raw/main/2_images/templates/notebook/headers/lilac/Sample%20Size.png)"
      ]
    },
    {
      "cell_type": "markdown",
      "id": "acMH6hPwLHKH",
      "metadata": {
        "id": "acMH6hPwLHKH"
      },
      "source": [
        "Calculate minimum sample size for each group (cell) for one-sided and two-sided tests:\n",
        "*   A one-sided test is used when you want to test if one group performs specifically better or worse than the other (a directional hypothesis).\n",
        "*   A two-sided test is used when you want to test if there is any difference between the groups, regardless of direction — whether one is better or worse."
      ]
    },
    {
      "cell_type": "code",
      "execution_count": 117,
      "id": "VmZ6b4EyLM7p",
      "metadata": {
        "id": "VmZ6b4EyLM7p"
      },
      "outputs": [],
      "source": [
        "# Simulate Power Using Fisher's Exact Test\n",
        "def simulate_fisher_power(p1, p2, n1, n2, alpha, reps=10000, alternative=alternative, seed=100):\n",
        "    np.random.seed(seed)\n",
        "    count = 0\n",
        "    for _ in range(reps):\n",
        "        x1 = np.random.binomial(n1, p1)\n",
        "        x2 = np.random.binomial(n2, p2)\n",
        "        table = [[x1, n1 - x1], [x2, n2 - x2]]\n",
        "        p = stats.fisher_exact(table, alternative=alternative)[1]\n",
        "        if p < alpha:\n",
        "            count += 1\n",
        "    return count / reps"
      ]
    },
    {
      "cell_type": "code",
      "execution_count": 118,
      "id": "blPA00roLO-s",
      "metadata": {
        "id": "blPA00roLO-s"
      },
      "outputs": [],
      "source": [
        "# Find Minimum Sample Size to Achieve Desired Power\n",
        "def find_min_sample_size(p1, p2, alpha, power, max_n=50000, reps=10000, alternative=alternative, step=1000, seed=100):\n",
        "    np.random.seed(seed)\n",
        "    for n in range(1000, max_n + 1, step):\n",
        "        sim_power = simulate_fisher_power(p1, p2, n1=n, n2=n, alpha=alpha, reps=reps, alternative=alternative, seed=seed)\n",
        "        print(f\"n = {n} → power = {sim_power:.3f}\")\n",
        "        if sim_power >= power:\n",
        "            return n\n",
        "    return None"
      ]
    },
    {
      "cell_type": "code",
      "execution_count": 119,
      "id": "2a8764a3",
      "metadata": {
        "colab": {
          "base_uri": "https://localhost:8080/"
        },
        "id": "2a8764a3",
        "outputId": "5044e7a9-b464-448e-cb2d-e8788bb2cda7"
      },
      "outputs": [
        {
          "name": "stdout",
          "output_type": "stream",
          "text": [
            "\n",
            "Searching for minimum required sample size...\n",
            "n = 1000 → power = 0.105\n",
            "n = 2000 → power = 0.144\n",
            "n = 3000 → power = 0.182\n",
            "n = 4000 → power = 0.217\n",
            "n = 5000 → power = 0.240\n",
            "n = 6000 → power = 0.278\n",
            "n = 7000 → power = 0.314\n",
            "n = 8000 → power = 0.336\n",
            "n = 9000 → power = 0.365\n",
            "n = 10000 → power = 0.401\n",
            "n = 11000 → power = 0.425\n",
            "n = 12000 → power = 0.459\n",
            "n = 13000 → power = 0.469\n",
            "n = 14000 → power = 0.506\n",
            "n = 15000 → power = 0.530\n",
            "n = 16000 → power = 0.548\n",
            "n = 17000 → power = 0.573\n",
            "n = 18000 → power = 0.593\n",
            "n = 19000 → power = 0.617\n",
            "n = 20000 → power = 0.637\n",
            "n = 21000 → power = 0.646\n",
            "n = 22000 → power = 0.664\n",
            "n = 23000 → power = 0.681\n",
            "n = 24000 → power = 0.702\n",
            "n = 25000 → power = 0.716\n",
            "n = 26000 → power = 0.741\n",
            "n = 27000 → power = 0.752\n",
            "n = 28000 → power = 0.759\n",
            "n = 29000 → power = 0.773\n",
            "n = 30000 → power = 0.788\n",
            "n = 31000 → power = 0.798\n",
            "n = 32000 → power = 0.806\n",
            "\n",
            " Minimum sample size per group to achieve 80% power: 32000\n"
          ]
        }
      ],
      "source": [
        "# Run Sample Size Estimation\n",
        "print(\"\\nSearching for minimum required sample size...\")\n",
        "min_n = find_min_sample_size(p1=p_1, p2=p_2, alpha=alpha, power=power, alternative=alternative)\n",
        "\n",
        "if min_n:\n",
        "    print(f\"\\n Minimum sample size per group to achieve {power*100:.0f}% power: {min_n}\")\n",
        "\n",
        "else:\n",
        "    print(\"\\n Could not achieve desired power within sample size limits.\")\n"
      ]
    },
    {
      "cell_type": "code",
      "execution_count": 120,
      "id": "AREbz-IAMHhd",
      "metadata": {
        "colab": {
          "base_uri": "https://localhost:8080/"
        },
        "id": "AREbz-IAMHhd",
        "outputId": "b907f433-9321-4095-c5db-0c2c6dfdd018"
      },
      "outputs": [
        {
          "name": "stdout",
          "output_type": "stream",
          "text": [
            "Power for manual estimate: 0.806\n"
          ]
        }
      ],
      "source": [
        "# Fixed sample sizes\n",
        "n_1 = 32000  # Sample size for group 1\n",
        "n_2 = 32000  # Sample size for group 2\n",
        "\n",
        "# Estimate power at fixed sample size\n",
        "estimated_power = simulate_fisher_power(p1=p_1, p2=p_2, n1=n_1, n2=n_2,\n",
        "                                        alpha=alpha, alternative=alternative)\n",
        "\n",
        "print(f\"Power for manual estimate: {estimated_power:.3f}\")"
      ]
    },
    {
      "cell_type": "markdown",
      "id": "iBM1c2w0Nt4K",
      "metadata": {
        "id": "iBM1c2w0Nt4K"
      },
      "source": [
        "#Results"
      ]
    },
    {
      "cell_type": "markdown",
      "id": "ATeeZOMLN03X",
      "metadata": {
        "id": "ATeeZOMLN03X"
      },
      "source": [
        "![Alt text](https://github.com/lindsayalexandra14/ds_portfolio/raw/main/2_images/templates/notebook/headers/lilac/Results%20Dark.png)"
      ]
    },
    {
      "cell_type": "markdown",
      "id": "elk4A1zRN3bc",
      "metadata": {
        "id": "elk4A1zRN3bc"
      },
      "source": [
        "##Data"
      ]
    },
    {
      "cell_type": "markdown",
      "id": "guhurJ_TN5dy",
      "metadata": {
        "id": "guhurJ_TN5dy"
      },
      "source": [
        "![Alt text](https://github.com/lindsayalexandra14/ds_portfolio/raw/main/2_images/templates/notebook/headers/lilac/Data.png)"
      ]
    },
    {
      "cell_type": "markdown",
      "id": "trwydCa0N7Pa",
      "metadata": {
        "id": "trwydCa0N7Pa"
      },
      "source": [
        "###Import Data"
      ]
    },
    {
      "cell_type": "markdown",
      "id": "1vFs7gZ7N9cu",
      "metadata": {
        "id": "1vFs7gZ7N9cu"
      },
      "source": [
        "![Alt text](https://github.com/lindsayalexandra14/ds_portfolio/raw/main/2_images/templates/notebook/headers/lilac/Import%20Data.png)"
      ]
    },
    {
      "cell_type": "markdown",
      "id": "fnvyn4WYOBTX",
      "metadata": {
        "id": "fnvyn4WYOBTX"
      },
      "source": [
        "From a dataset:"
      ]
    },
    {
      "cell_type": "code",
      "execution_count": 121,
      "id": "tHP0x1ciODSJ",
      "metadata": {
        "id": "tHP0x1ciODSJ"
      },
      "outputs": [],
      "source": [
        "#df_data="
      ]
    },
    {
      "cell_type": "markdown",
      "id": "vD_YZRkHOC2R",
      "metadata": {
        "id": "vD_YZRkHOC2R"
      },
      "source": [
        "Manually input:"
      ]
    },
    {
      "cell_type": "code",
      "execution_count": 122,
      "id": "SJl1f1TaNvO4",
      "metadata": {
        "id": "SJl1f1TaNvO4"
      },
      "outputs": [],
      "source": [
        "control_conversions=7\n",
        "treatment_conversions=18\n",
        "control_no_conversions=150\n",
        "treatment_no_conversions=130"
      ]
    },
    {
      "cell_type": "code",
      "execution_count": 123,
      "id": "-hz_QUwZNx8y",
      "metadata": {
        "colab": {
          "base_uri": "https://localhost:8080/"
        },
        "id": "-hz_QUwZNx8y",
        "outputId": "b02604ea-1dcc-4756-f0a4-d8af79bf487d"
      },
      "outputs": [
        {
          "name": "stdout",
          "output_type": "stream",
          "text": [
            "Treatment\n",
            "Control\n"
          ]
        }
      ],
      "source": [
        "print(p1_label) # set above in test design\n",
        "print(p2_label)"
      ]
    },
    {
      "cell_type": "markdown",
      "id": "VYfqH4SAOK5o",
      "metadata": {
        "id": "VYfqH4SAOK5o"
      },
      "source": [
        "##Contingency Table"
      ]
    },
    {
      "cell_type": "markdown",
      "id": "0lJa9y2eOIp8",
      "metadata": {
        "id": "0lJa9y2eOIp8"
      },
      "source": [
        "![Alt text](https://github.com/lindsayalexandra14/ds_portfolio/raw/main/2_images/templates/notebook/headers/lilac/Contingency%20Table.png)"
      ]
    },
    {
      "cell_type": "code",
      "execution_count": 124,
      "id": "oQNVKyKkOWLB",
      "metadata": {
        "colab": {
          "base_uri": "https://localhost:8080/"
        },
        "id": "oQNVKyKkOWLB",
        "outputId": "697a3960-86d1-4f11-c3bb-86d91d5e1894"
      },
      "outputs": [
        {
          "name": "stdout",
          "output_type": "stream",
          "text": [
            "           Converted  Not_Converted\n",
            "Control            7            150\n",
            "Treatment         18            130\n"
          ]
        }
      ],
      "source": [
        "# Create contingency table\n",
        "data = np.array([\n",
        "    [control_conversions, control_no_conversions],\n",
        "    [treatment_conversions, treatment_no_conversions]\n",
        "])\n",
        "\n",
        "table = pd.DataFrame(data, columns=[\"Converted\", \"Not_Converted\"], index=[\"Control\", \"Treatment\"])\n",
        "\n",
        "print(table)"
      ]
    },
    {
      "cell_type": "code",
      "execution_count": 125,
      "id": "hMoUQB0MOxIi",
      "metadata": {
        "colab": {
          "base_uri": "https://localhost:8080/"
        },
        "id": "hMoUQB0MOxIi",
        "outputId": "0c52aa2d-8160-471d-8902-ca26d9f80312"
      },
      "outputs": [
        {
          "name": "stdout",
          "output_type": "stream",
          "text": [
            "           Converted  Not_Converted\n",
            "Treatment         18            130\n",
            "Control            7            150\n"
          ]
        }
      ],
      "source": [
        "if table.index[0] != p1_label:\n",
        "    table_to_use = table.iloc[[1, 0], :]  # flip row order\n",
        "else:\n",
        "    table_to_use = table\n",
        "\n",
        "print(table_to_use)"
      ]
    },
    {
      "cell_type": "markdown",
      "id": "faBg8h8oPaP1",
      "metadata": {
        "id": "faBg8h8oPaP1"
      },
      "source": [
        "##Conversion Rates:"
      ]
    },
    {
      "cell_type": "markdown",
      "id": "WsAVB227Pdf7",
      "metadata": {
        "id": "WsAVB227Pdf7"
      },
      "source": [
        "![Alt text](https://github.com/lindsayalexandra14/ds_portfolio/raw/main/2_images/templates/notebook/headers/lilac/Conversion%20Rates.png)"
      ]
    },
    {
      "cell_type": "code",
      "execution_count": 126,
      "id": "DTt9ontOPf63",
      "metadata": {
        "colab": {
          "base_uri": "https://localhost:8080/"
        },
        "id": "DTt9ontOPf63",
        "outputId": "f4d2e107-05e5-486b-8f8c-7738572562b9"
      },
      "outputs": [
        {
          "name": "stdout",
          "output_type": "stream",
          "text": [
            "p1: Treatment Conversion Rate: 12.16%\n",
            "p2: Control Conversion Rate: 4.46%\n"
          ]
        }
      ],
      "source": [
        "n1 = table_to_use.iloc[0].sum()  # Reference group (row 1)\n",
        "n2 = table_to_use.iloc[1].sum()  # Comparison group (row 2)\n",
        "\n",
        "p1 = table_to_use.iloc[0][\"Converted\"] / n1  # Conversion rate for row 1\n",
        "p2 = table_to_use.iloc[1][\"Converted\"] / n2  # Conversion rate for row 2\n",
        "\n",
        "groups = {'p1': p1_label, 'p2': p2_label}\n",
        "\n",
        "print(f\"p1: {groups['p1']} Conversion Rate: {round(p1 * 100, 2)}%\")\n",
        "print(f\"p2: {groups['p2']} Conversion Rate: {round(p2 * 100, 2)}%\")"
      ]
    },
    {
      "cell_type": "code",
      "execution_count": 127,
      "id": "rnbWGmGzPi_f",
      "metadata": {
        "colab": {
          "base_uri": "https://localhost:8080/"
        },
        "id": "rnbWGmGzPi_f",
        "outputId": "c69aa75b-d13d-4edc-ea99-54ca85f64f84"
      },
      "outputs": [
        {
          "name": "stdout",
          "output_type": "stream",
          "text": [
            "Result Hypothesis: Treatment (0.1216) is greater than Control (0.0446)\n"
          ]
        }
      ],
      "source": [
        "if alternative == \"two.sided\":\n",
        "    alt_text = f\"{p1_label} ({p1:.4f}) is different from {p2_label} ({p2:.4f})\"\n",
        "elif alternative == \"greater\":\n",
        "    alt_text = f\"{p1_label} ({p1:.4f}) is greater than {p2_label} ({p2:.4f})\"\n",
        "elif alternative == \"less\":\n",
        "    alt_text = f\"{p1_label} ({p1:.4f}) is less than {p2_label} ({p2:.4f})\"\n",
        "else:\n",
        "    alt_text = \"Unknown alternative hypothesis\"\n",
        "\n",
        "print(\"Result Hypothesis:\", alt_text)"
      ]
    },
    {
      "cell_type": "markdown",
      "id": "uSO-_GyNP3bT",
      "metadata": {
        "id": "uSO-_GyNP3bT"
      },
      "source": [
        "##Effect Size:"
      ]
    },
    {
      "cell_type": "markdown",
      "id": "M086xxhpP732",
      "metadata": {
        "id": "M086xxhpP732"
      },
      "source": [
        "![Alt text](https://github.com/lindsayalexandra14/ds_portfolio/raw/main/2_images/templates/notebook/headers/lilac/Effect%20Size.png)"
      ]
    },
    {
      "cell_type": "code",
      "execution_count": 128,
      "id": "9MYx8c5NPacL",
      "metadata": {
        "colab": {
          "base_uri": "https://localhost:8080/"
        },
        "id": "9MYx8c5NPacL",
        "outputId": "271ea943-51e3-4afd-e484-9afb325b99c5"
      },
      "outputs": [
        {
          "name": "stdout",
          "output_type": "stream",
          "text": [
            "Absolute difference: 0.077 (7.7%)\n",
            "Cohen's h: 0.020\n",
            "Effect size interpretation: negligible\n"
          ]
        }
      ],
      "source": [
        "# Absolute difference\n",
        "abs_diff = abs(p1 - p2)\n",
        "\n",
        "# Cohen's h function\n",
        "def proportion_effectsize(control, treatment):\n",
        "    return 2 * math.asin(math.sqrt(treatment)) - 2 * math.asin(math.sqrt(control))\n",
        "\n",
        "h = proportion_effectsize(control, treatment)\n",
        "\n",
        "print(f\"Absolute difference: {abs_diff:.3f} ({abs_diff * 100:.1f}%)\")\n",
        "print(f\"Cohen's h: {h:.3f}\")\n",
        "\n",
        "# Interpret effect size\n",
        "def interpret_h(h):\n",
        "    abs_h = abs(h)\n",
        "    if abs_h < 0.2:\n",
        "        return \"negligible\"\n",
        "    elif abs_h < 0.5:\n",
        "        return \"small\"\n",
        "    elif abs_h < 0.8:\n",
        "        return \"medium\"\n",
        "    else:\n",
        "        return \"large\"\n",
        "\n",
        "print(f\"Effect size interpretation: {interpret_h(h)}\")"
      ]
    },
    {
      "cell_type": "markdown",
      "id": "GYDcDJ5gP-jJ",
      "metadata": {
        "id": "GYDcDJ5gP-jJ"
      },
      "source": [
        "##Fisher's Exact Test"
      ]
    },
    {
      "cell_type": "markdown",
      "id": "I04FQ3IqQAjW",
      "metadata": {
        "id": "I04FQ3IqQAjW"
      },
      "source": [
        "![Alt text](https://github.com/lindsayalexandra14/ds_portfolio/raw/main/2_images/templates/notebook/headers/lilac/Fishers%20Exact%20Test.png)"
      ]
    },
    {
      "cell_type": "markdown",
      "id": "11GEAlpvQCup",
      "metadata": {
        "id": "11GEAlpvQCup"
      },
      "source": [
        "Use Fisher's Exact Test since a cell (control converted) has < 10 users:"
      ]
    },
    {
      "cell_type": "code",
      "execution_count": 129,
      "id": "9xs4y0gkP27n",
      "metadata": {
        "colab": {
          "base_uri": "https://localhost:8080/"
        },
        "id": "9xs4y0gkP27n",
        "outputId": "52df04bb-d2ed-481a-b8b7-fb619914710b"
      },
      "outputs": [
        {
          "name": "stdout",
          "output_type": "stream",
          "text": [
            "           Converted  Not_Converted\n",
            "Treatment         18            130\n",
            "Control            7            150\n"
          ]
        }
      ],
      "source": [
        "print(table_to_use)"
      ]
    },
    {
      "cell_type": "markdown",
      "id": "hao5C5HcQHwP",
      "metadata": {
        "id": "hao5C5HcQHwP"
      },
      "source": [
        "Check parameters and change if needed:"
      ]
    },
    {
      "cell_type": "code",
      "execution_count": 130,
      "id": "3VQC4pN5QGUT",
      "metadata": {
        "colab": {
          "base_uri": "https://localhost:8080/"
        },
        "id": "3VQC4pN5QGUT",
        "outputId": "839282a9-51ae-470a-9b2e-3401f8700d3b"
      },
      "outputs": [
        {
          "name": "stdout",
          "output_type": "stream",
          "text": [
            "greater\n",
            "0.05\n",
            "0.8\n"
          ]
        }
      ],
      "source": [
        "print(alternative)\n",
        "print(alpha)\n",
        "print(power)\n",
        "# alternative=\"greater\" # Row 1 (reference) of Contingency Table is greater than Row 2\n",
        "# alpha=0.05\n",
        "# power=0.8"
      ]
    },
    {
      "cell_type": "markdown",
      "id": "YSQR2n-rQMx9",
      "metadata": {
        "id": "YSQR2n-rQMx9"
      },
      "source": [
        "Run test:"
      ]
    },
    {
      "cell_type": "code",
      "execution_count": 131,
      "id": "dj8Oqjg4QEc7",
      "metadata": {
        "colab": {
          "base_uri": "https://localhost:8080/"
        },
        "id": "dj8Oqjg4QEc7",
        "outputId": "d103283b-f335-4fc4-87b3-606b88a8e219"
      },
      "outputs": [
        {
          "name": "stdout",
          "output_type": "stream",
          "text": [
            "Fisher's Exact Test:\n",
            "Odds Ratio: 2.9670\n",
            "p-value (greater): 0.0119\n"
          ]
        }
      ],
      "source": [
        "odds_ratio, p_value = fisher_exact(table_to_use.values, alternative=alternative)\n",
        "\n",
        "print(f\"Fisher's Exact Test:\")\n",
        "print(f\"Odds Ratio: {odds_ratio:.4f}\")\n",
        "print(f\"p-value ({alternative}): {p_value:.4f}\")"
      ]
    },
    {
      "cell_type": "markdown",
      "id": "VZ7tvNNiQTta",
      "metadata": {
        "id": "VZ7tvNNiQTta"
      },
      "source": [
        "#P-value"
      ]
    },
    {
      "cell_type": "markdown",
      "id": "uENyowZfQVc7",
      "metadata": {
        "id": "uENyowZfQVc7"
      },
      "source": [
        "![Alt text](https://github.com/lindsayalexandra14/ds_portfolio/raw/main/2_images/templates/notebook/headers/lilac/Pvalue.png)"
      ]
    },
    {
      "cell_type": "code",
      "execution_count": 132,
      "id": "OvPAeHxKQbT9",
      "metadata": {
        "colab": {
          "base_uri": "https://localhost:8080/"
        },
        "id": "OvPAeHxKQbT9",
        "outputId": "4b315806-dca5-4aaa-95a0-a72275309f50"
      },
      "outputs": [
        {
          "name": "stdout",
          "output_type": "stream",
          "text": [
            "p-value: 0.012\n",
            "Because the p-value (0.012) is less than alpha (0.050), this result is\n",
            "statistically significant at the 95% confidence level.\n"
          ]
        }
      ],
      "source": [
        "print(f\"p-value: {round(p_value, 3)}\")\n",
        "\n",
        "# Significance message\n",
        "if p_value < alpha:\n",
        "    pvalue_message = (\n",
        "        f\"Because the p-value ({p_value:.3f}) is less than alpha ({alpha:.3f}), \"\n",
        "        f\"this result is statistically significant at the {(1 - alpha) * 100:.0f}% confidence level.\"\n",
        "    )\n",
        "else:\n",
        "    pvalue_message = (\n",
        "        f\"Because the p-value ({p_value:.3f}) is greater than or equal to alpha ({alpha:.3f}), \"\n",
        "        f\"this result is not statistically significant at the {(1 - alpha) * 100:.0f}% confidence level.\"\n",
        "    )\n",
        "\n",
        "print(\"\\n\".join(textwrap.wrap(pvalue_message, width=80)))"
      ]
    },
    {
      "cell_type": "markdown",
      "id": "X9BHP35IQd-I",
      "metadata": {
        "id": "X9BHP35IQd-I"
      },
      "source": [
        "##Confidence Interval"
      ]
    },
    {
      "cell_type": "markdown",
      "id": "DIPou_BLQgi5",
      "metadata": {
        "id": "DIPou_BLQgi5"
      },
      "source": [
        "![Alt text](https://github.com/lindsayalexandra14/ds_portfolio/raw/main/2_images/templates/notebook/headers/lilac/Confidence%20Interval.png)"
      ]
    },
    {
      "cell_type": "code",
      "execution_count": 133,
      "id": "WGG7kkZTUnRj",
      "metadata": {
        "colab": {
          "base_uri": "https://localhost:8080/"
        },
        "id": "WGG7kkZTUnRj",
        "outputId": "433783fa-cb99-419c-8c20-0bafd6b20ff1"
      },
      "outputs": [
        {
          "name": "stdout",
          "output_type": "stream",
          "text": [
            "Lower CI: 1.20\n"
          ]
        }
      ],
      "source": [
        "table = table_to_use.values\n",
        "tbl = Table2x2(table)\n",
        "lower_ci, upper_ci = tbl.oddsratio_confint(alpha=alpha)\n",
        "if alternative==\"less\":\n",
        "  print(\"Upper CI:\",f\"{upper_ci:.2f}\")\n",
        "elif alternative==\"greater\":\n",
        "  print(\"Lower CI:\",f\"{lower_ci:.2f}\")\n",
        "else:\n",
        "  print(\"CI:\",f\"{lower_ci:.2f}, {upper_ci:.2f}\")"
      ]
    },
    {
      "cell_type": "markdown",
      "id": "a76rYtDjQiiZ",
      "metadata": {
        "id": "a76rYtDjQiiZ"
      },
      "source": [
        "###\"Less\" Hypothesis:"
      ]
    },
    {
      "cell_type": "markdown",
      "id": "fJUXXIcvQkVe",
      "metadata": {
        "id": "fJUXXIcvQkVe"
      },
      "source": [
        "The upper bound of the CI is what you want to look at for \"less\" — it should be < 1 for significance."
      ]
    },
    {
      "cell_type": "markdown",
      "id": "Hmb2ljMNQmO2",
      "metadata": {
        "id": "Hmb2ljMNQmO2"
      },
      "source": [
        "For a \"less\" alternative (testing if Group B < Group A):"
      ]
    },
    {
      "cell_type": "markdown",
      "id": "mBILAvTFQpOj",
      "metadata": {
        "id": "mBILAvTFQpOj"
      },
      "source": [
        "\n",
        "If the upper bound < 1:\n",
        "You are confident the odds in Group B are lower than in Group A.\n",
        "This supports your \"less\" hypothesis → Result significant.\n",
        "\n",
        "If the upper bound ≥ 1:\n",
        "It’s possible Group B’s odds are not lower than Group A’s (could be equal or higher).\n",
        "This does not support your \"less\" hypothesis → Result not significant."
      ]
    },
    {
      "cell_type": "markdown",
      "id": "sB4zMfzOQsjm",
      "metadata": {
        "id": "sB4zMfzOQsjm"
      },
      "source": [
        "###\"Greater\" Hypothesis:"
      ]
    },
    {
      "cell_type": "markdown",
      "id": "tQh7Kg4JQuW9",
      "metadata": {
        "id": "tQh7Kg4JQuW9"
      },
      "source": [
        "The lower bound of the CI is what you want to look at for \"greater\" — it should be > 1 for significance."
      ]
    },
    {
      "cell_type": "markdown",
      "id": "iAHvWX-4QwGC",
      "metadata": {
        "id": "iAHvWX-4QwGC"
      },
      "source": [
        "For a \"greater\" alternative (testing if Group B > Group A):"
      ]
    },
    {
      "cell_type": "markdown",
      "id": "X12AGtXEQyGH",
      "metadata": {
        "id": "X12AGtXEQyGH"
      },
      "source": [
        "If lower bound > 1:\n",
        "With your chosen confidence level, you can say the odds of conversion in Group B are at least this much higher than in Group A.\n",
        "This supports your \"greater\" hypothesis → Result is significant.\n",
        "\n",
        "If lower bound ≤ 1:\n",
        "You cannot confidently say that Group B’s odds are higher than Group A’s.\n",
        "This does not support your \"greater\" hypothesis → Result is not significant."
      ]
    },
    {
      "cell_type": "markdown",
      "id": "iqrBT0JJQ0Fh",
      "metadata": {
        "id": "iqrBT0JJQ0Fh"
      },
      "source": [
        "###Interpretation:"
      ]
    },
    {
      "cell_type": "code",
      "execution_count": 134,
      "id": "sH039vWmRDGO",
      "metadata": {
        "colab": {
          "base_uri": "https://localhost:8080/"
        },
        "id": "sH039vWmRDGO",
        "outputId": "d98172f4-dd85-4db2-87ff-9c22063fc148"
      },
      "outputs": [
        {
          "name": "stdout",
          "output_type": "stream",
          "text": [
            "95% CI Lower Bound for Odds Ratio: 1.201.\n",
            "\n",
            "With 95% confidence, the treatment group (p₂) has higher odds of conversion than the control group (p₁).\n",
            "The odds of conversion in the treatment group are at least 20.1% higher than in the control group.\n",
            "This supports the hypothesis that treatment is better than control.\n",
            "\n",
            "Because the interval does not include 1, this result is statistically significant at the 95% confidence level.\n"
          ]
        }
      ],
      "source": [
        "conf_level = (1 - alpha) * 100\n",
        "\n",
        "if alternative == \"less\":\n",
        "    if upper_ci < 1:\n",
        "        percent_diff = (1 - upper_ci) * 100\n",
        "        sentence = (\n",
        "            f\"95% CI Upper Bound for Odds Ratio: {upper_ci:.3f}.\\n\\n\"\n",
        "            f\"With {conf_level:.0f}% confidence, the control group (p₁) has lower odds of conversion than the treatment group (p₂).\\n\"\n",
        "            f\"The odds of conversion in the control group are up to {percent_diff:.1f}% lower than in the treatment group.\\n\"\n",
        "            \"This supports the hypothesis that treatment is better than control.\"\n",
        "        )\n",
        "    else:\n",
        "        sentence = (\n",
        "            f\"95% CI Upper Bound for Odds Ratio: {upper_ci:.3f}.\\n\\n\"\n",
        "            f\"With {conf_level:.0f}% confidence, we cannot rule out that the treatment group is not better than the control group.\\n\"\n",
        "            \"This does not support the hypothesis that treatment is better.\"\n",
        "        )\n",
        "\n",
        "elif alternative == \"greater\":\n",
        "    if lower_ci > 1:\n",
        "        percent_diff = (lower_ci - 1) * 100\n",
        "        sentence = (\n",
        "            f\"95% CI Lower Bound for Odds Ratio: {lower_ci:.3f}.\\n\\n\"\n",
        "            f\"With {conf_level:.0f}% confidence, the treatment group (p₂) has higher odds of conversion than the control group (p₁).\\n\"\n",
        "            f\"The odds of conversion in the treatment group are at least {percent_diff:.1f}% higher than in the control group.\\n\"\n",
        "            \"This supports the hypothesis that treatment is better than control.\"\n",
        "        )\n",
        "    else:\n",
        "        sentence = (\n",
        "            f\"95% CI Lower Bound for Odds Ratio: {lower_ci:.3f}.\\n\\n\"\n",
        "            f\"With {conf_level:.0f}% confidence, we cannot rule out that the treatment group is not better than the control group.\\n\"\n",
        "            \"This does not support the hypothesis that treatment is better.\"\n",
        "        )\n",
        "\n",
        "elif alternative == \"two.sided\":\n",
        "    if lower_ci > 1:\n",
        "        percent_diff = (lower_ci - 1) * 100\n",
        "        sentence = (\n",
        "            f\"95% CI: [{lower_ci:.3f}, {upper_ci:.3f}].\\n\\n\"\n",
        "            f\"With {conf_level:.0f}% confidence, the treatment group (p₂) has higher odds of conversion than the control group (p₁).\\n\"\n",
        "            f\"The odds of conversion in the treatment group are at least {percent_diff:.1f}% higher than in the control group.\\n\"\n",
        "            \"This supports a significant difference favoring treatment.\"\n",
        "        )\n",
        "    elif upper_ci < 1:\n",
        "        percent_diff = (1 - upper_ci) * 100\n",
        "        sentence = (\n",
        "            f\"95% CI: [{lower_ci:.3f}, {upper_ci:.3f}].\\n\\n\"\n",
        "            f\"With {conf_level:.0f}% confidence, the control group (p₁) has lower odds of conversion than the treatment group (p₂).\\n\"\n",
        "            f\"The odds of conversion in the control group are up to {percent_diff:.1f}% lower than in the treatment group.\\n\"\n",
        "            \"This supports a significant difference favoring treatment.\"\n",
        "        )\n",
        "    else:\n",
        "        sentence = (\n",
        "            f\"95% CI: [{lower_ci:.3f}, {upper_ci:.3f}].\\n\\n\"\n",
        "            f\"With {conf_level:.0f}% confidence, we cannot rule out no difference in odds between treatment and control.\\n\"\n",
        "            \"This does not support a statistically significant difference.\"\n",
        "        )\n",
        "\n",
        "print(sentence)\n",
        "print()\n",
        "\n",
        "# Significance check based on whether CI includes 1\n",
        "includes_one = (lower_ci <= 1) and (upper_ci >= 1)\n",
        "\n",
        "if includes_one:\n",
        "    message = (\n",
        "        f\"Because the interval includes 1, this result is not statistically significant \"\n",
        "        f\"at the {conf_level:.0f}% confidence level.\"\n",
        "    )\n",
        "else:\n",
        "    message = (\n",
        "        f\"Because the interval does not include 1, this result is statistically significant \"\n",
        "        f\"at the {conf_level:.0f}% confidence level.\"\n",
        "    )\n",
        "\n",
        "print(message)\n"
      ]
    },
    {
      "cell_type": "markdown",
      "id": "nC-a-wYXQ7Oi",
      "metadata": {
        "id": "nC-a-wYXQ7Oi"
      },
      "source": [
        "##Statistical Power"
      ]
    },
    {
      "cell_type": "markdown",
      "id": "7cF8k5QiQ84R",
      "metadata": {
        "id": "7cF8k5QiQ84R"
      },
      "source": [
        "![Alt text](https://github.com/lindsayalexandra14/ds_portfolio/raw/main/2_images/templates/notebook/headers/lilac/Statistical%20Power.png)"
      ]
    },
    {
      "cell_type": "code",
      "execution_count": 135,
      "id": "uL7OLGpyQ_05",
      "metadata": {
        "colab": {
          "base_uri": "https://localhost:8080/"
        },
        "id": "uL7OLGpyQ_05",
        "outputId": "cc551e8c-a4f0-493a-e5f0-9b75f8730e95"
      },
      "outputs": [
        {
          "name": "stdout",
          "output_type": "stream",
          "text": [
            "           Converted  Not_Converted\n",
            "Treatment         18            130\n",
            "Control            7            150\n"
          ]
        }
      ],
      "source": [
        "print(table_to_use)"
      ]
    },
    {
      "cell_type": "code",
      "execution_count": 136,
      "id": "Ka-bZm49QRMj",
      "metadata": {
        "colab": {
          "base_uri": "https://localhost:8080/"
        },
        "id": "Ka-bZm49QRMj",
        "outputId": "c52afc43-155a-4959-d766-bcce5f342492"
      },
      "outputs": [
        {
          "name": "stdout",
          "output_type": "stream",
          "text": [
            "Estimated power (simulation): 0.7443\n"
          ]
        }
      ],
      "source": [
        "import numpy as np\n",
        "from scipy.stats import fisher_exact\n",
        "\n",
        "def power_fisher_test(n1, n2, p1, p2, alpha=0.05, alternative='greater', nsim=10000, seed=100):\n",
        "    np.random.seed(seed)\n",
        "    rejections = 0\n",
        "\n",
        "    for _ in range(nsim):\n",
        "        # Simulate successes/failures for each group\n",
        "        group1 = np.random.binomial(n1, p1)\n",
        "        group2 = np.random.binomial(n2, p2)\n",
        "\n",
        "        # [[success_group1, failure_group1], [success_group2, failure_group2]]\n",
        "        table = np.array([\n",
        "            [group1, n1 - group1],\n",
        "            [group2, n2 - group2]\n",
        "        ])\n",
        "\n",
        "        # Fisher's exact test\n",
        "        _, p_value = fisher_exact(table, alternative=alternative)\n",
        "\n",
        "        if p_value < alpha:\n",
        "            rejections += 1\n",
        "\n",
        "    # Estimated power = proportion of rejections\n",
        "    power = rejections / nsim\n",
        "    return power\n",
        "\n",
        "result_power = power_fisher_test(n1, n2, p1, p2, alpha=alpha, alternative='greater', nsim=10000)\n",
        "print(f\"Estimated power (simulation): {result_power:.4f}\")\n"
      ]
    },
    {
      "cell_type": "code",
      "execution_count": 137,
      "id": "NNLZ4GlMVTbY",
      "metadata": {
        "colab": {
          "base_uri": "https://localhost:8080/"
        },
        "id": "NNLZ4GlMVTbY",
        "outputId": "6cff1ede-38b9-4742-8997-8b8c312bb6af"
      },
      "outputs": [
        {
          "name": "stdout",
          "output_type": "stream",
          "text": [
            "Result Power: 74.4%\n",
            "\n",
            "Our test was underpowered (e.g., only ~74.4% power), meaning there was \n",
            "a higher chance we failed to detect a true difference due to limited sample size. \n",
            "As a result, while the effect appears meaningful, we cannot be statistically \n",
            "confident in it without further data and cannot give a confident \n",
            "estimate in incremental revenue from the test.\n"
          ]
        }
      ],
      "source": [
        "power_pct = f\"{result_power * 100:.1f}\"\n",
        "print(f\"Result Power: {power_pct}%\\n\")\n",
        "\n",
        "if result_power < 0.8:\n",
        "    power_sentence = (\n",
        "        f\"Our test was underpowered (e.g., only ~{power_pct}% power), meaning there was \\n\"\n",
        "        \"a higher chance we failed to detect a true difference due to limited sample size. \\n\"\n",
        "        \"As a result, while the effect appears meaningful, we cannot be statistically \\n\"\n",
        "        \"confident in it without further data and cannot give a confident \\n\"\n",
        "        \"estimate in incremental revenue from the test.\"\n",
        "    )\n",
        "else:\n",
        "    power_sentence = (\n",
        "        f\"Our test was adequately powered (e.g., ~{power_pct}% power), meaning we had a \\n\"\n",
        "        \"strong chance of detecting a true difference if one existed.\"\n",
        "    )\n",
        "\n",
        "print(power_sentence)\n"
      ]
    },
    {
      "cell_type": "markdown",
      "id": "QLLdSf9eVd8_",
      "metadata": {
        "id": "QLLdSf9eVd8_"
      },
      "source": [
        "#Results Summary"
      ]
    },
    {
      "cell_type": "markdown",
      "id": "d6yIMDjDViVz",
      "metadata": {
        "id": "d6yIMDjDViVz"
      },
      "source": [
        "![Alt text](https://github.com/lindsayalexandra14/ds_portfolio/raw/main/2_images/templates/notebook/headers/lilac/Results%20Summary.png)"
      ]
    },
    {
      "cell_type": "code",
      "execution_count": 138,
      "id": "UB-qEN6dVfxg",
      "metadata": {
        "colab": {
          "base_uri": "https://localhost:8080/"
        },
        "id": "UB-qEN6dVfxg",
        "outputId": "d76343dc-1bda-43fc-e807-9a4c5b38ff4f"
      },
      "outputs": [
        {
          "name": "stdout",
          "output_type": "stream",
          "text": [
            "           Converted  Not_Converted\n",
            "Treatment         18            130\n",
            "Control            7            150\n",
            "\n",
            "p1: Treatment Conversion Rate: 12.16%\n",
            "p2: Control Conversion Rate: 4.46%\n",
            "\n",
            "Result Hypothesis: Treatment (0.1216) is greater than Control (0.0446)\n",
            "\n",
            "Absolute difference: 0.077 (7.7%)\n",
            "Cohen's h: 0.020\n",
            "Effect size interpretation: negligible\n",
            "\n",
            "Fisher's Exact Test:\n",
            "Odds Ratio: 2.9670\n",
            "\n",
            "p-value: 0.012\n",
            "Because the p-value (0.012) is less than alpha (0.050), this result is\n",
            "statistically significant at the 95% confidence level.\n",
            "\n",
            "95% CI Lower Bound for Odds Ratio: 1.201.\n",
            "\n",
            "With 95% confidence, the treatment group (p₂) has higher odds of conversion than the control group (p₁).\n",
            "The odds of conversion in the treatment group are at least 20.1% higher than in the control group.\n",
            "This supports the hypothesis that treatment is better than control.\n",
            "\n",
            "95% CI: [1.201, 7.328]\n",
            "\n",
            "Because the interval does not include 1, this result is statistically significant at the 95% confidence level.\n",
            "\n",
            "Our test was underpowered (e.g., only ~74.4% power), meaning there was \n",
            "a higher chance we failed to detect a true difference due to limited sample size. \n",
            "As a result, while the effect appears meaningful, we cannot be statistically \n",
            "confident in it without further data and cannot give a confident \n",
            "estimate in incremental revenue from the test.\n"
          ]
        }
      ],
      "source": [
        "print(table_to_use)\n",
        "print()\n",
        "print(f\"p1: {groups['p1']} Conversion Rate: {round(p1 * 100, 2)}%\")\n",
        "print(f\"p2: {groups['p2']} Conversion Rate: {round(p2 * 100, 2)}%\")\n",
        "print()\n",
        "print(\"Result Hypothesis:\", alt_text)\n",
        "print()\n",
        "print(f\"Absolute difference: {abs_diff:.3f} ({abs_diff * 100:.1f}%)\")\n",
        "print(f\"Cohen's h: {h:.3f}\")\n",
        "print(f\"Effect size interpretation: {interpret_h(h)}\")\n",
        "print()\n",
        "print(f\"Fisher's Exact Test:\")\n",
        "print(f\"Odds Ratio: {odds_ratio:.4f}\")\n",
        "print()\n",
        "print(f\"p-value: {round(p_value, 3)}\")\n",
        "print(\"\\n\".join(textwrap.wrap(pvalue_message, width=80)))\n",
        "print()\n",
        "print(sentence)\n",
        "print()\n",
        "print(f\"95% CI: [{lower_ci:.3f}, {upper_ci:.3f}]\")\n",
        "print()\n",
        "print(message)\n",
        "print()\n",
        "print(power_sentence)"
      ]
    },
    {
      "cell_type": "code",
      "execution_count": 138,
      "id": "bTc55amVXEsF",
      "metadata": {
        "id": "bTc55amVXEsF"
      },
      "outputs": [],
      "source": []
    }
  ],
  "metadata": {
    "colab": {
      "provenance": []
    },
    "kernelspec": {
      "display_name": "Python 3",
      "name": "python3"
    },
    "language_info": {
      "name": "python"
    }
  },
  "nbformat": 4,
  "nbformat_minor": 5
}
